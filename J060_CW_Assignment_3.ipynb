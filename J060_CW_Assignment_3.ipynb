{
  "nbformat": 4,
  "nbformat_minor": 0,
  "metadata": {
    "colab": {
      "name": "J060 CW Assignment 3.ipynb",
      "provenance": []
    },
    "kernelspec": {
      "name": "python3",
      "display_name": "Python 3"
    }
  },
  "cells": [
    {
      "cell_type": "markdown",
      "metadata": {
        "id": "0lSWtkdQ94CZ",
        "colab_type": "text"
      },
      "source": [
        "**J060 CW ASSIGNMENT 3: TOKENISATION, LEMMAS, POS_TAGS USING WORDNET**"
      ]
    },
    {
      "cell_type": "code",
      "metadata": {
        "id": "zu-_XWol__lZ",
        "colab_type": "code",
        "colab": {}
      },
      "source": [
        "import gzip \n",
        "import pandas as pd\n",
        "data=pd.read_json(\"http://snap.stanford.edu/data/amazon/productGraph/categoryFiles/reviews_Office_Products_5.json.gz\",lines=True)"
      ],
      "execution_count": 0,
      "outputs": []
    },
    {
      "cell_type": "code",
      "metadata": {
        "id": "OKu8-aJNAXMc",
        "colab_type": "code",
        "colab": {}
      },
      "source": [
        "# word tokenizer\n",
        "# lemmatiser\n",
        "# pos_tag is a classifier\n",
        "\n",
        "import nltk\n",
        "import re\n",
        "from nltk.corpus import wordnet"
      ],
      "execution_count": 0,
      "outputs": []
    },
    {
      "cell_type": "code",
      "metadata": {
        "id": "y4IMcEBHCBPS",
        "colab_type": "code",
        "colab": {}
      },
      "source": [
        "from nltk.tokenize import MWETokenizer\n",
        "from nltk.tokenize import word_tokenize\n",
        "from nltk.stem.wordnet import WordNetLemmatizer"
      ],
      "execution_count": 0,
      "outputs": []
    },
    {
      "cell_type": "code",
      "metadata": {
        "id": "ztOCJV19Gppl",
        "colab_type": "code",
        "colab": {
          "base_uri": "https://localhost:8080/",
          "height": 168
        },
        "outputId": "3e71aaa3-71ae-4234-bc4a-9feba4791e8f"
      },
      "source": [
        "nltk.download('punkt')\n",
        "nltk.download('wordnet')\n",
        "nltk.download('averaged_perceptron_tagger')"
      ],
      "execution_count": 4,
      "outputs": [
        {
          "output_type": "stream",
          "text": [
            "[nltk_data] Downloading package punkt to /root/nltk_data...\n",
            "[nltk_data]   Package punkt is already up-to-date!\n",
            "[nltk_data] Downloading package wordnet to /root/nltk_data...\n",
            "[nltk_data]   Package wordnet is already up-to-date!\n",
            "[nltk_data] Downloading package averaged_perceptron_tagger to\n",
            "[nltk_data]     /root/nltk_data...\n",
            "[nltk_data]   Package averaged_perceptron_tagger is already up-to-\n",
            "[nltk_data]       date!\n"
          ],
          "name": "stdout"
        },
        {
          "output_type": "execute_result",
          "data": {
            "text/plain": [
              "True"
            ]
          },
          "metadata": {
            "tags": []
          },
          "execution_count": 4
        }
      ]
    },
    {
      "cell_type": "code",
      "metadata": {
        "id": "J1U0A6TQG6D3",
        "colab_type": "code",
        "colab": {}
      },
      "source": [
        "tokeniser=MWETokenizer()\n",
        "mwe_tokens=tokeniser.tokenize(data.iloc[0,4].split())"
      ],
      "execution_count": 0,
      "outputs": []
    },
    {
      "cell_type": "code",
      "metadata": {
        "id": "CS9wWNV_K1mt",
        "colab_type": "code",
        "colab": {
          "base_uri": "https://localhost:8080/",
          "height": 54
        },
        "outputId": "81785ad3-0c96-40a7-f91e-c4f0c195c6a3"
      },
      "source": [
        "print(mwe_tokens)"
      ],
      "execution_count": 6,
      "outputs": [
        {
          "output_type": "stream",
          "text": [
            "['I', 'bought', 'my', 'first', 'HP12C', 'in', 'about', '1984', 'or', 'so,', 'and', 'it', 'served', 'me', 'faithfully', 'until', '2002', 'when', 'I', 'lost', 'it', 'while', 'travelling.', 'I', 'searched', 'for', 'another', 'one', 'to', 'replace', 'it,', 'but', 'found', 'one', 'difficult', 'to', 'come', 'by', 'in', 'my', 'area.', 'So,', 'I', 'decided', 'to', 'buy', 'up', 'and', 'purchased', 'an', 'HP', '49G.', 'What', 'a', 'mistake!', 'I', 'know', 'that', 'many', 'people', 'view', 'the', 'HP', '49G', '(now', '49G+)', 'as', 'the', 'flagship', 'of', 'the', 'HP', 'line,', 'but', 'for', 'me', 'that', 'was', 'a', 'disaster.The', '49G', 'may', 'be', 'powerful,', 'but', 'using', 'it', 'is', 'extremely', 'counterintuitive...and', 'the', 'manual', 'was', 'sketchy', 'at', 'best.', 'The', '12C,', 'on', 'the', 'other', 'hand,', 'does', 'what', 'I', 'need', 'in', 'a', 'way', 'that', 'makes', 'good', 'sense', 'to', 'me.If', 'you', 'are', 'looking', 'for', 'a', 'solid,', 'reliable', 'calculator,', 'the', 'HP12C', 'may', 'be', 'for', 'you.', \"It's\", 'programmable.', 'It', 'does', 'basic', 'statistics', 'well,', 'and', 'many', 'business', 'applications', 'too.', 'The', 'manual', 'makes', 'sense;', 'you', 'will', 'be', 'up', 'and', 'running', 'in', 'short', \"order.I'm\", 'ready', 'to', 'set', 'my', '49G', 'aside', 'and', 'move', 'back', 'to', 'my', 'old', 'friend.', 'I', \"didn't\", 'even', 'have', 'to', 'replace', 'the', 'batteries', 'in', 'well', 'over', 'a', 'decade', 'of', 'use!HP', '12C,', \"I'm\", 'coming', 'home!']\n"
          ],
          "name": "stdout"
        }
      ]
    },
    {
      "cell_type": "code",
      "metadata": {
        "id": "RcqEoH6IK7xp",
        "colab_type": "code",
        "colab": {}
      },
      "source": [
        "tokens=word_tokenize(data.iloc[0,4])"
      ],
      "execution_count": 0,
      "outputs": []
    },
    {
      "cell_type": "code",
      "metadata": {
        "id": "YCFoM3Q8LIFW",
        "colab_type": "code",
        "colab": {}
      },
      "source": [
        "# The whole point of MWEtokeniser is to combine multiple words into the same bunch using a special character like + or _.\n",
        "# MWEtokeniser has no role here.\n",
        "# word_tokenize tokenises words more properly than MWETokeniser."
      ],
      "execution_count": 0,
      "outputs": []
    },
    {
      "cell_type": "markdown",
      "metadata": {
        "id": "ODhaLOw-v_tM",
        "colab_type": "text"
      },
      "source": [
        "Cleaning function makes it easier to tokenize words.\n"
      ]
    },
    {
      "cell_type": "code",
      "metadata": {
        "id": "1KoymD8bPFwo",
        "colab_type": "code",
        "colab": {}
      },
      "source": [
        "def clean_string(x):\n",
        "   return re.sub(r'[\\[\\],.)(\\!;:]',' ',x)\n",
        "\n",
        "def get_wordnet_pos(word):\n",
        "  if word.startswith('V'):\n",
        "    return wordnet.VERB\n",
        "  elif word.startswith('J'):\n",
        "    return wordnet.ADJ\n",
        "  elif word.startswith('N'):\n",
        "    return wordnet.NOUN\n",
        "  elif word.startswith('R'):\n",
        "    return wordnet.ADV      \n",
        "  else: \n",
        "    return wordnet.NOUN   "
      ],
      "execution_count": 0,
      "outputs": []
    },
    {
      "cell_type": "code",
      "metadata": {
        "id": "-5eYvxjuRwWU",
        "colab_type": "code",
        "colab": {}
      },
      "source": [
        "def tok_lem_adj_pos_dict(x):\n",
        "  #Do not use set because it changes the pos_tags\n",
        "  tokens=word_tokenize(x)\n",
        "  lemmatizer=WordNetLemmatizer()\n",
        "  lem_list=[]\n",
        "  pos_tags=nltk.pos_tag(tokens)\n",
        "  adj=[]\n",
        "\n",
        "  for i in range(0,len(pos_tags)):\n",
        "    lem_list.append([pos_tags[i][0],lemmatizer.lemmatize(pos_tags[i][0],pos=get_wordnet_pos(pos_tags[i][1]))])\n",
        "\n",
        "  for i in range(0,len(pos_tags)):\n",
        "    if pos_tags[i][1].startswith('J'):\n",
        "      adj.append(pos_tags[i][0])\n",
        "\n",
        "  adj_count=len(adj)\n",
        "  return {'word_tokens':tokens,'lemmas':lem_list, 'part_of_speech_tags':pos_tags, 'adjectives':adj, 'adj_count':adj_count }"
      ],
      "execution_count": 0,
      "outputs": []
    },
    {
      "cell_type": "markdown",
      "metadata": {
        "id": "o3eWmLOEupph",
        "colab_type": "text"
      },
      "source": [
        "The whole point of lemmatizer is to get to the root of a given word in a particular context. If we do not pass part-of-speech tags to the lemmatize function, then the root word will not be found in any context and it wont be efficient. Although finding out root words with such a large amount of data is time consuming because the averaged perceptron tagger uses different notations for the pos_tags whereas wordnet tags are limited and different."
      ]
    },
    {
      "cell_type": "code",
      "metadata": {
        "id": "BfwGFl_nbGqn",
        "colab_type": "code",
        "colab": {
          "base_uri": "https://localhost:8080/",
          "height": 54
        },
        "outputId": "72be4642-a39b-4cb3-c639-0542597567ad"
      },
      "source": [
        "tokens=word_tokenize(clean_string(data.iloc[0,4]))\n",
        "lemmatizer=WordNetLemmatizer()\n",
        "lem_list=[]\n",
        "pos_tags=nltk.pos_tag(tokens)\n",
        "  \n",
        "for i in range(0,len(pos_tags)):\n",
        "    lem_list.append([pos_tags[i][0],lemmatizer.lemmatize(pos_tags[i][0],pos=get_wordnet_pos(pos_tags[i][1]))])\n",
        "\n",
        "    #lem_list contains a list whose first element shows the original words and the second element shows the lemma..\n",
        "\n",
        "print(lem_list) \n",
        "#  return {'word_tokens':tokens,'lemmas':lem_list, 'part_of_speech_tags':pos_tags }"
      ],
      "execution_count": 60,
      "outputs": [
        {
          "output_type": "stream",
          "text": [
            "[['I', 'I'], ['bought', 'buy'], ['my', 'my'], ['first', 'first'], ['HP12C', 'HP12C'], ['in', 'in'], ['about', 'about'], ['1984', '1984'], ['or', 'or'], ['so', 'so'], ['and', 'and'], ['it', 'it'], ['served', 'serve'], ['me', 'me'], ['faithfully', 'faithfully'], ['until', 'until'], ['2002', '2002'], ['when', 'when'], ['I', 'I'], ['lost', 'lose'], ['it', 'it'], ['while', 'while'], ['travelling', 'travel'], ['I', 'I'], ['searched', 'search'], ['for', 'for'], ['another', 'another'], ['one', 'one'], ['to', 'to'], ['replace', 'replace'], ['it', 'it'], ['but', 'but'], ['found', 'find'], ['one', 'one'], ['difficult', 'difficult'], ['to', 'to'], ['come', 'come'], ['by', 'by'], ['in', 'in'], ['my', 'my'], ['area', 'area'], ['So', 'So'], ['I', 'I'], ['decided', 'decide'], ['to', 'to'], ['buy', 'buy'], ['up', 'up'], ['and', 'and'], ['purchased', 'purchase'], ['an', 'an'], ['HP', 'HP'], ['49G', '49G'], ['What', 'What'], ['a', 'a'], ['mistake', 'mistake'], ['I', 'I'], ['know', 'know'], ['that', 'that'], ['many', 'many'], ['people', 'people'], ['view', 'view'], ['the', 'the'], ['HP', 'HP'], ['49G', '49G'], ['now', 'now'], ['49G+', '49G+'], ['as', 'a'], ['the', 'the'], ['flagship', 'flagship'], ['of', 'of'], ['the', 'the'], ['HP', 'HP'], ['line', 'line'], ['but', 'but'], ['for', 'for'], ['me', 'me'], ['that', 'that'], ['was', 'be'], ['a', 'a'], ['disaster', 'disaster'], ['The', 'The'], ['49G', '49G'], ['may', 'may'], ['be', 'be'], ['powerful', 'powerful'], ['but', 'but'], ['using', 'use'], ['it', 'it'], ['is', 'be'], ['extremely', 'extremely'], ['counterintuitive', 'counterintuitive'], ['and', 'and'], ['the', 'the'], ['manual', 'manual'], ['was', 'be'], ['sketchy', 'sketchy'], ['at', 'at'], ['best', 'best'], ['The', 'The'], ['12C', '12C'], ['on', 'on'], ['the', 'the'], ['other', 'other'], ['hand', 'hand'], ['does', 'do'], ['what', 'what'], ['I', 'I'], ['need', 'need'], ['in', 'in'], ['a', 'a'], ['way', 'way'], ['that', 'that'], ['makes', 'make'], ['good', 'good'], ['sense', 'sense'], ['to', 'to'], ['me', 'me'], ['If', 'If'], ['you', 'you'], ['are', 'be'], ['looking', 'look'], ['for', 'for'], ['a', 'a'], ['solid', 'solid'], ['reliable', 'reliable'], ['calculator', 'calculator'], ['the', 'the'], ['HP12C', 'HP12C'], ['may', 'may'], ['be', 'be'], ['for', 'for'], ['you', 'you'], ['It', 'It'], [\"'s\", \"'s\"], ['programmable', 'programmable'], ['It', 'It'], ['does', 'do'], ['basic', 'basic'], ['statistics', 'statistic'], ['well', 'well'], ['and', 'and'], ['many', 'many'], ['business', 'business'], ['applications', 'application'], ['too', 'too'], ['The', 'The'], ['manual', 'manual'], ['makes', 'make'], ['sense', 'sense'], ['you', 'you'], ['will', 'will'], ['be', 'be'], ['up', 'up'], ['and', 'and'], ['running', 'run'], ['in', 'in'], ['short', 'short'], ['order', 'order'], ['I', 'I'], [\"'m\", \"'m\"], ['ready', 'ready'], ['to', 'to'], ['set', 'set'], ['my', 'my'], ['49G', '49G'], ['aside', 'aside'], ['and', 'and'], ['move', 'move'], ['back', 'back'], ['to', 'to'], ['my', 'my'], ['old', 'old'], ['friend', 'friend'], ['I', 'I'], ['did', 'do'], [\"n't\", \"n't\"], ['even', 'even'], ['have', 'have'], ['to', 'to'], ['replace', 'replace'], ['the', 'the'], ['batteries', 'battery'], ['in', 'in'], ['well', 'well'], ['over', 'over'], ['a', 'a'], ['decade', 'decade'], ['of', 'of'], ['use', 'use'], ['HP', 'HP'], ['12C', '12C'], ['I', 'I'], [\"'m\", \"'m\"], ['coming', 'come'], ['home', 'home']]\n"
          ],
          "name": "stdout"
        }
      ]
    },
    {
      "cell_type": "code",
      "metadata": {
        "id": "9dBMK3h1e6sG",
        "colab_type": "code",
        "colab": {
          "base_uri": "https://localhost:8080/",
          "height": 67
        },
        "outputId": "004a5ae0-bb82-48e5-ac58-aaa075deba85"
      },
      "source": [
        "#faithfully is an adverb according to pos_tags\n",
        "#To check if our get_wordnet_pos function is working perfectly\n",
        "print(lemmatizer.lemmatize('faithfully',pos='r'))\n",
        "print(lemmatizer.lemmatize('travelling',pos='v'))\n",
        "print(lemmatizer.lemmatize('travelling'))\n",
        "# We can see that if proper pos_tags are not supplied to the lemmatizer, it is of no use."
      ],
      "execution_count": 12,
      "outputs": [
        {
          "output_type": "stream",
          "text": [
            "faithfully\n",
            "travel\n",
            "travelling\n"
          ],
          "name": "stdout"
        }
      ]
    },
    {
      "cell_type": "code",
      "metadata": {
        "id": "ERNGxKurnfb7",
        "colab_type": "code",
        "colab": {
          "base_uri": "https://localhost:8080/",
          "height": 34
        },
        "outputId": "5810c20e-df93-478e-ca8b-1e270d97ca9d"
      },
      "source": [
        "temp=clean_string(data.iloc[0,4])\n",
        "print(tok_lem_adj_pos_dict(temp)['adjectives'])"
      ],
      "execution_count": 37,
      "outputs": [
        {
          "output_type": "stream",
          "text": [
            "['searched', 'many', 'powerful', 'other', 'solid', 'programmable', 'reliable', 'lost', 'old', 'first', 'know', 'difficult', 'ready', 'best', 'good', 'manual', 'short']\n"
          ],
          "name": "stdout"
        }
      ]
    },
    {
      "cell_type": "code",
      "metadata": {
        "id": "y7sc7rvRoyYK",
        "colab_type": "code",
        "colab": {}
      },
      "source": [
        "data['clean_rev_text']=data['reviewText'].apply(clean_string)"
      ],
      "execution_count": 0,
      "outputs": []
    },
    {
      "cell_type": "code",
      "metadata": {
        "id": "oEInJQJpsxzp",
        "colab_type": "code",
        "colab": {}
      },
      "source": [
        "data['nltk_rev_text']=data['clean_rev_text'].apply(tok_lem_adj_pos_dict)"
      ],
      "execution_count": 0,
      "outputs": []
    },
    {
      "cell_type": "code",
      "metadata": {
        "id": "PW4ocBdAwJsP",
        "colab_type": "code",
        "colab": {}
      },
      "source": [
        "data=data[['reviewerID', 'asin', 'reviewerName', 'helpful', 'reviewText','clean_rev_text','nltk_rev_text',\n",
        "       'overall', 'summary', 'unixReviewTime', 'reviewTime']]"
      ],
      "execution_count": 0,
      "outputs": []
    },
    {
      "cell_type": "code",
      "metadata": {
        "id": "GRPASHJDwanp",
        "colab_type": "code",
        "colab": {
          "base_uri": "https://localhost:8080/",
          "height": 330
        },
        "outputId": "de640006-e011-4727-e170-66424fb0e235"
      },
      "source": [
        "data.head()"
      ],
      "execution_count": 68,
      "outputs": [
        {
          "output_type": "execute_result",
          "data": {
            "text/html": [
              "<div>\n",
              "<style scoped>\n",
              "    .dataframe tbody tr th:only-of-type {\n",
              "        vertical-align: middle;\n",
              "    }\n",
              "\n",
              "    .dataframe tbody tr th {\n",
              "        vertical-align: top;\n",
              "    }\n",
              "\n",
              "    .dataframe thead th {\n",
              "        text-align: right;\n",
              "    }\n",
              "</style>\n",
              "<table border=\"1\" class=\"dataframe\">\n",
              "  <thead>\n",
              "    <tr style=\"text-align: right;\">\n",
              "      <th></th>\n",
              "      <th>reviewerID</th>\n",
              "      <th>asin</th>\n",
              "      <th>reviewerName</th>\n",
              "      <th>helpful</th>\n",
              "      <th>reviewText</th>\n",
              "      <th>clean_rev_text</th>\n",
              "      <th>nltk_rev_text</th>\n",
              "      <th>overall</th>\n",
              "      <th>summary</th>\n",
              "      <th>unixReviewTime</th>\n",
              "      <th>reviewTime</th>\n",
              "    </tr>\n",
              "  </thead>\n",
              "  <tbody>\n",
              "    <tr>\n",
              "      <th>0</th>\n",
              "      <td>A32T2H8150OJLU</td>\n",
              "      <td>B00000JBLH</td>\n",
              "      <td>ARH</td>\n",
              "      <td>[3, 4]</td>\n",
              "      <td>I bought my first HP12C in about 1984 or so, a...</td>\n",
              "      <td>I bought my first HP12C in about 1984 or so  a...</td>\n",
              "      <td>{'word_tokens': ['I', 'bought', 'my', 'first',...</td>\n",
              "      <td>5</td>\n",
              "      <td>A solid performer, and long time friend</td>\n",
              "      <td>1094169600</td>\n",
              "      <td>09 3, 2004</td>\n",
              "    </tr>\n",
              "    <tr>\n",
              "      <th>1</th>\n",
              "      <td>A3MAFS04ZABRGO</td>\n",
              "      <td>B00000JBLH</td>\n",
              "      <td>Let it Be \"Alan\"</td>\n",
              "      <td>[7, 9]</td>\n",
              "      <td>WHY THIS BELATED REVIEW? I feel very obliged t...</td>\n",
              "      <td>WHY THIS BELATED REVIEW? I feel very obliged t...</td>\n",
              "      <td>{'word_tokens': ['WHY', 'THIS', 'BELATED', 'RE...</td>\n",
              "      <td>5</td>\n",
              "      <td>Price of GOLD is up, so don't bury the golden ...</td>\n",
              "      <td>1197676800</td>\n",
              "      <td>12 15, 2007</td>\n",
              "    </tr>\n",
              "    <tr>\n",
              "      <th>2</th>\n",
              "      <td>A1F1A0QQP2XVH5</td>\n",
              "      <td>B00000JBLH</td>\n",
              "      <td>Mark B</td>\n",
              "      <td>[3, 3]</td>\n",
              "      <td>I have an HP 48GX that has been kicking for mo...</td>\n",
              "      <td>I have an HP 48GX that has been kicking for mo...</td>\n",
              "      <td>{'word_tokens': ['I', 'have', 'an', 'HP', '48G...</td>\n",
              "      <td>2</td>\n",
              "      <td>Good functionality, but not durable like old HPs</td>\n",
              "      <td>1293840000</td>\n",
              "      <td>01 1, 2011</td>\n",
              "    </tr>\n",
              "    <tr>\n",
              "      <th>3</th>\n",
              "      <td>A49R5DBXXQDE5</td>\n",
              "      <td>B00000JBLH</td>\n",
              "      <td>R. D Johnson</td>\n",
              "      <td>[7, 8]</td>\n",
              "      <td>I've started doing more finance stuff recently...</td>\n",
              "      <td>I've started doing more finance stuff recently...</td>\n",
              "      <td>{'word_tokens': ['I', ''ve', 'started', 'doing...</td>\n",
              "      <td>5</td>\n",
              "      <td>One of the last of an almost extinct species</td>\n",
              "      <td>1145404800</td>\n",
              "      <td>04 19, 2006</td>\n",
              "    </tr>\n",
              "    <tr>\n",
              "      <th>4</th>\n",
              "      <td>A2XRMQA6PJ5ZJ8</td>\n",
              "      <td>B00000JBLH</td>\n",
              "      <td>Roger J. Buffington</td>\n",
              "      <td>[0, 0]</td>\n",
              "      <td>For simple calculations and discounted cash fl...</td>\n",
              "      <td>For simple calculations and discounted cash fl...</td>\n",
              "      <td>{'word_tokens': ['For', 'simple', 'calculation...</td>\n",
              "      <td>5</td>\n",
              "      <td>Still the best</td>\n",
              "      <td>1375574400</td>\n",
              "      <td>08 4, 2013</td>\n",
              "    </tr>\n",
              "  </tbody>\n",
              "</table>\n",
              "</div>"
            ],
            "text/plain": [
              "       reviewerID        asin  ... unixReviewTime   reviewTime\n",
              "0  A32T2H8150OJLU  B00000JBLH  ...     1094169600   09 3, 2004\n",
              "1  A3MAFS04ZABRGO  B00000JBLH  ...     1197676800  12 15, 2007\n",
              "2  A1F1A0QQP2XVH5  B00000JBLH  ...     1293840000   01 1, 2011\n",
              "3   A49R5DBXXQDE5  B00000JBLH  ...     1145404800  04 19, 2006\n",
              "4  A2XRMQA6PJ5ZJ8  B00000JBLH  ...     1375574400   08 4, 2013\n",
              "\n",
              "[5 rows x 11 columns]"
            ]
          },
          "metadata": {
            "tags": []
          },
          "execution_count": 68
        }
      ]
    },
    {
      "cell_type": "code",
      "metadata": {
        "id": "Nnx9xYInwx9n",
        "colab_type": "code",
        "colab": {
          "base_uri": "https://localhost:8080/",
          "height": 218
        },
        "outputId": "b91cf4b6-4b7b-4420-b668-4c9d66587af1"
      },
      "source": [
        "data.nltk_rev_text[0:-1]"
      ],
      "execution_count": 69,
      "outputs": [
        {
          "output_type": "execute_result",
          "data": {
            "text/plain": [
              "0        {'word_tokens': ['I', 'bought', 'my', 'first',...\n",
              "1        {'word_tokens': ['WHY', 'THIS', 'BELATED', 'RE...\n",
              "2        {'word_tokens': ['I', 'have', 'an', 'HP', '48G...\n",
              "3        {'word_tokens': ['I', ''ve', 'started', 'doing...\n",
              "4        {'word_tokens': ['For', 'simple', 'calculation...\n",
              "                               ...                        \n",
              "53252    {'word_tokens': ['I', 'like', 'theAccuteck', '...\n",
              "53253    {'word_tokens': ['What', 'I', 'like', 'about',...\n",
              "53254    {'word_tokens': ['This', 'Accuteck', 'ShipPro'...\n",
              "53255    {'word_tokens': ['I', 'ship', 'a', 'lot', 'of'...\n",
              "53256    {'word_tokens': ['This', 'is', 'a', 'great', '...\n",
              "Name: nltk_rev_text, Length: 53257, dtype: object"
            ]
          },
          "metadata": {
            "tags": []
          },
          "execution_count": 69
        }
      ]
    },
    {
      "cell_type": "code",
      "metadata": {
        "id": "TOqhdyarw4F4",
        "colab_type": "code",
        "colab": {
          "base_uri": "https://localhost:8080/",
          "height": 34
        },
        "outputId": "1c5523e4-ce86-4f89-aa1b-f611072ea8c6"
      },
      "source": [
        "data.nltk_rev_text[0]['adj_count']"
      ],
      "execution_count": 70,
      "outputs": [
        {
          "output_type": "execute_result",
          "data": {
            "text/plain": [
              "16"
            ]
          },
          "metadata": {
            "tags": []
          },
          "execution_count": 70
        }
      ]
    },
    {
      "cell_type": "code",
      "metadata": {
        "id": "ULwwDoCjyZ2c",
        "colab_type": "code",
        "colab": {
          "base_uri": "https://localhost:8080/",
          "height": 286
        },
        "outputId": "9ded4e2c-5402-4f17-c9c1-430f5c07ce6c"
      },
      "source": [
        "data.nltk_rev_text[0]['adjectives']"
      ],
      "execution_count": 71,
      "outputs": [
        {
          "output_type": "execute_result",
          "data": {
            "text/plain": [
              "['first',\n",
              " 'difficult',\n",
              " 'many',\n",
              " 'powerful',\n",
              " 'counterintuitive',\n",
              " 'other',\n",
              " 'good',\n",
              " 'solid',\n",
              " 'reliable',\n",
              " 'programmable',\n",
              " 'basic',\n",
              " 'many',\n",
              " 'manual',\n",
              " 'short',\n",
              " 'ready',\n",
              " 'old']"
            ]
          },
          "metadata": {
            "tags": []
          },
          "execution_count": 71
        }
      ]
    },
    {
      "cell_type": "code",
      "metadata": {
        "id": "mPcb0iKYyd9l",
        "colab_type": "code",
        "colab": {
          "base_uri": "https://localhost:8080/",
          "height": 1000
        },
        "outputId": "3a91daa1-f91d-4976-a7e5-9644d2be44f5"
      },
      "source": [
        "data.nltk_rev_text[0]['word_tokens']"
      ],
      "execution_count": 72,
      "outputs": [
        {
          "output_type": "execute_result",
          "data": {
            "text/plain": [
              "['I',\n",
              " 'bought',\n",
              " 'my',\n",
              " 'first',\n",
              " 'HP12C',\n",
              " 'in',\n",
              " 'about',\n",
              " '1984',\n",
              " 'or',\n",
              " 'so',\n",
              " 'and',\n",
              " 'it',\n",
              " 'served',\n",
              " 'me',\n",
              " 'faithfully',\n",
              " 'until',\n",
              " '2002',\n",
              " 'when',\n",
              " 'I',\n",
              " 'lost',\n",
              " 'it',\n",
              " 'while',\n",
              " 'travelling',\n",
              " 'I',\n",
              " 'searched',\n",
              " 'for',\n",
              " 'another',\n",
              " 'one',\n",
              " 'to',\n",
              " 'replace',\n",
              " 'it',\n",
              " 'but',\n",
              " 'found',\n",
              " 'one',\n",
              " 'difficult',\n",
              " 'to',\n",
              " 'come',\n",
              " 'by',\n",
              " 'in',\n",
              " 'my',\n",
              " 'area',\n",
              " 'So',\n",
              " 'I',\n",
              " 'decided',\n",
              " 'to',\n",
              " 'buy',\n",
              " 'up',\n",
              " 'and',\n",
              " 'purchased',\n",
              " 'an',\n",
              " 'HP',\n",
              " '49G',\n",
              " 'What',\n",
              " 'a',\n",
              " 'mistake',\n",
              " 'I',\n",
              " 'know',\n",
              " 'that',\n",
              " 'many',\n",
              " 'people',\n",
              " 'view',\n",
              " 'the',\n",
              " 'HP',\n",
              " '49G',\n",
              " 'now',\n",
              " '49G+',\n",
              " 'as',\n",
              " 'the',\n",
              " 'flagship',\n",
              " 'of',\n",
              " 'the',\n",
              " 'HP',\n",
              " 'line',\n",
              " 'but',\n",
              " 'for',\n",
              " 'me',\n",
              " 'that',\n",
              " 'was',\n",
              " 'a',\n",
              " 'disaster',\n",
              " 'The',\n",
              " '49G',\n",
              " 'may',\n",
              " 'be',\n",
              " 'powerful',\n",
              " 'but',\n",
              " 'using',\n",
              " 'it',\n",
              " 'is',\n",
              " 'extremely',\n",
              " 'counterintuitive',\n",
              " 'and',\n",
              " 'the',\n",
              " 'manual',\n",
              " 'was',\n",
              " 'sketchy',\n",
              " 'at',\n",
              " 'best',\n",
              " 'The',\n",
              " '12C',\n",
              " 'on',\n",
              " 'the',\n",
              " 'other',\n",
              " 'hand',\n",
              " 'does',\n",
              " 'what',\n",
              " 'I',\n",
              " 'need',\n",
              " 'in',\n",
              " 'a',\n",
              " 'way',\n",
              " 'that',\n",
              " 'makes',\n",
              " 'good',\n",
              " 'sense',\n",
              " 'to',\n",
              " 'me',\n",
              " 'If',\n",
              " 'you',\n",
              " 'are',\n",
              " 'looking',\n",
              " 'for',\n",
              " 'a',\n",
              " 'solid',\n",
              " 'reliable',\n",
              " 'calculator',\n",
              " 'the',\n",
              " 'HP12C',\n",
              " 'may',\n",
              " 'be',\n",
              " 'for',\n",
              " 'you',\n",
              " 'It',\n",
              " \"'s\",\n",
              " 'programmable',\n",
              " 'It',\n",
              " 'does',\n",
              " 'basic',\n",
              " 'statistics',\n",
              " 'well',\n",
              " 'and',\n",
              " 'many',\n",
              " 'business',\n",
              " 'applications',\n",
              " 'too',\n",
              " 'The',\n",
              " 'manual',\n",
              " 'makes',\n",
              " 'sense',\n",
              " 'you',\n",
              " 'will',\n",
              " 'be',\n",
              " 'up',\n",
              " 'and',\n",
              " 'running',\n",
              " 'in',\n",
              " 'short',\n",
              " 'order',\n",
              " 'I',\n",
              " \"'m\",\n",
              " 'ready',\n",
              " 'to',\n",
              " 'set',\n",
              " 'my',\n",
              " '49G',\n",
              " 'aside',\n",
              " 'and',\n",
              " 'move',\n",
              " 'back',\n",
              " 'to',\n",
              " 'my',\n",
              " 'old',\n",
              " 'friend',\n",
              " 'I',\n",
              " 'did',\n",
              " \"n't\",\n",
              " 'even',\n",
              " 'have',\n",
              " 'to',\n",
              " 'replace',\n",
              " 'the',\n",
              " 'batteries',\n",
              " 'in',\n",
              " 'well',\n",
              " 'over',\n",
              " 'a',\n",
              " 'decade',\n",
              " 'of',\n",
              " 'use',\n",
              " 'HP',\n",
              " '12C',\n",
              " 'I',\n",
              " \"'m\",\n",
              " 'coming',\n",
              " 'home']"
            ]
          },
          "metadata": {
            "tags": []
          },
          "execution_count": 72
        }
      ]
    },
    {
      "cell_type": "code",
      "metadata": {
        "id": "cwoZe8zUynQK",
        "colab_type": "code",
        "colab": {
          "base_uri": "https://localhost:8080/",
          "height": 1000
        },
        "outputId": "122e7d0d-674c-4c2c-b291-c3fd6698743c"
      },
      "source": [
        "data.nltk_rev_text[0]['lemmas']"
      ],
      "execution_count": 73,
      "outputs": [
        {
          "output_type": "execute_result",
          "data": {
            "text/plain": [
              "[['I', 'I'],\n",
              " ['bought', 'buy'],\n",
              " ['my', 'my'],\n",
              " ['first', 'first'],\n",
              " ['HP12C', 'HP12C'],\n",
              " ['in', 'in'],\n",
              " ['about', 'about'],\n",
              " ['1984', '1984'],\n",
              " ['or', 'or'],\n",
              " ['so', 'so'],\n",
              " ['and', 'and'],\n",
              " ['it', 'it'],\n",
              " ['served', 'serve'],\n",
              " ['me', 'me'],\n",
              " ['faithfully', 'faithfully'],\n",
              " ['until', 'until'],\n",
              " ['2002', '2002'],\n",
              " ['when', 'when'],\n",
              " ['I', 'I'],\n",
              " ['lost', 'lose'],\n",
              " ['it', 'it'],\n",
              " ['while', 'while'],\n",
              " ['travelling', 'travel'],\n",
              " ['I', 'I'],\n",
              " ['searched', 'search'],\n",
              " ['for', 'for'],\n",
              " ['another', 'another'],\n",
              " ['one', 'one'],\n",
              " ['to', 'to'],\n",
              " ['replace', 'replace'],\n",
              " ['it', 'it'],\n",
              " ['but', 'but'],\n",
              " ['found', 'find'],\n",
              " ['one', 'one'],\n",
              " ['difficult', 'difficult'],\n",
              " ['to', 'to'],\n",
              " ['come', 'come'],\n",
              " ['by', 'by'],\n",
              " ['in', 'in'],\n",
              " ['my', 'my'],\n",
              " ['area', 'area'],\n",
              " ['So', 'So'],\n",
              " ['I', 'I'],\n",
              " ['decided', 'decide'],\n",
              " ['to', 'to'],\n",
              " ['buy', 'buy'],\n",
              " ['up', 'up'],\n",
              " ['and', 'and'],\n",
              " ['purchased', 'purchase'],\n",
              " ['an', 'an'],\n",
              " ['HP', 'HP'],\n",
              " ['49G', '49G'],\n",
              " ['What', 'What'],\n",
              " ['a', 'a'],\n",
              " ['mistake', 'mistake'],\n",
              " ['I', 'I'],\n",
              " ['know', 'know'],\n",
              " ['that', 'that'],\n",
              " ['many', 'many'],\n",
              " ['people', 'people'],\n",
              " ['view', 'view'],\n",
              " ['the', 'the'],\n",
              " ['HP', 'HP'],\n",
              " ['49G', '49G'],\n",
              " ['now', 'now'],\n",
              " ['49G+', '49G+'],\n",
              " ['as', 'a'],\n",
              " ['the', 'the'],\n",
              " ['flagship', 'flagship'],\n",
              " ['of', 'of'],\n",
              " ['the', 'the'],\n",
              " ['HP', 'HP'],\n",
              " ['line', 'line'],\n",
              " ['but', 'but'],\n",
              " ['for', 'for'],\n",
              " ['me', 'me'],\n",
              " ['that', 'that'],\n",
              " ['was', 'be'],\n",
              " ['a', 'a'],\n",
              " ['disaster', 'disaster'],\n",
              " ['The', 'The'],\n",
              " ['49G', '49G'],\n",
              " ['may', 'may'],\n",
              " ['be', 'be'],\n",
              " ['powerful', 'powerful'],\n",
              " ['but', 'but'],\n",
              " ['using', 'use'],\n",
              " ['it', 'it'],\n",
              " ['is', 'be'],\n",
              " ['extremely', 'extremely'],\n",
              " ['counterintuitive', 'counterintuitive'],\n",
              " ['and', 'and'],\n",
              " ['the', 'the'],\n",
              " ['manual', 'manual'],\n",
              " ['was', 'be'],\n",
              " ['sketchy', 'sketchy'],\n",
              " ['at', 'at'],\n",
              " ['best', 'best'],\n",
              " ['The', 'The'],\n",
              " ['12C', '12C'],\n",
              " ['on', 'on'],\n",
              " ['the', 'the'],\n",
              " ['other', 'other'],\n",
              " ['hand', 'hand'],\n",
              " ['does', 'do'],\n",
              " ['what', 'what'],\n",
              " ['I', 'I'],\n",
              " ['need', 'need'],\n",
              " ['in', 'in'],\n",
              " ['a', 'a'],\n",
              " ['way', 'way'],\n",
              " ['that', 'that'],\n",
              " ['makes', 'make'],\n",
              " ['good', 'good'],\n",
              " ['sense', 'sense'],\n",
              " ['to', 'to'],\n",
              " ['me', 'me'],\n",
              " ['If', 'If'],\n",
              " ['you', 'you'],\n",
              " ['are', 'be'],\n",
              " ['looking', 'look'],\n",
              " ['for', 'for'],\n",
              " ['a', 'a'],\n",
              " ['solid', 'solid'],\n",
              " ['reliable', 'reliable'],\n",
              " ['calculator', 'calculator'],\n",
              " ['the', 'the'],\n",
              " ['HP12C', 'HP12C'],\n",
              " ['may', 'may'],\n",
              " ['be', 'be'],\n",
              " ['for', 'for'],\n",
              " ['you', 'you'],\n",
              " ['It', 'It'],\n",
              " [\"'s\", \"'s\"],\n",
              " ['programmable', 'programmable'],\n",
              " ['It', 'It'],\n",
              " ['does', 'do'],\n",
              " ['basic', 'basic'],\n",
              " ['statistics', 'statistic'],\n",
              " ['well', 'well'],\n",
              " ['and', 'and'],\n",
              " ['many', 'many'],\n",
              " ['business', 'business'],\n",
              " ['applications', 'application'],\n",
              " ['too', 'too'],\n",
              " ['The', 'The'],\n",
              " ['manual', 'manual'],\n",
              " ['makes', 'make'],\n",
              " ['sense', 'sense'],\n",
              " ['you', 'you'],\n",
              " ['will', 'will'],\n",
              " ['be', 'be'],\n",
              " ['up', 'up'],\n",
              " ['and', 'and'],\n",
              " ['running', 'run'],\n",
              " ['in', 'in'],\n",
              " ['short', 'short'],\n",
              " ['order', 'order'],\n",
              " ['I', 'I'],\n",
              " [\"'m\", \"'m\"],\n",
              " ['ready', 'ready'],\n",
              " ['to', 'to'],\n",
              " ['set', 'set'],\n",
              " ['my', 'my'],\n",
              " ['49G', '49G'],\n",
              " ['aside', 'aside'],\n",
              " ['and', 'and'],\n",
              " ['move', 'move'],\n",
              " ['back', 'back'],\n",
              " ['to', 'to'],\n",
              " ['my', 'my'],\n",
              " ['old', 'old'],\n",
              " ['friend', 'friend'],\n",
              " ['I', 'I'],\n",
              " ['did', 'do'],\n",
              " [\"n't\", \"n't\"],\n",
              " ['even', 'even'],\n",
              " ['have', 'have'],\n",
              " ['to', 'to'],\n",
              " ['replace', 'replace'],\n",
              " ['the', 'the'],\n",
              " ['batteries', 'battery'],\n",
              " ['in', 'in'],\n",
              " ['well', 'well'],\n",
              " ['over', 'over'],\n",
              " ['a', 'a'],\n",
              " ['decade', 'decade'],\n",
              " ['of', 'of'],\n",
              " ['use', 'use'],\n",
              " ['HP', 'HP'],\n",
              " ['12C', '12C'],\n",
              " ['I', 'I'],\n",
              " [\"'m\", \"'m\"],\n",
              " ['coming', 'come'],\n",
              " ['home', 'home']]"
            ]
          },
          "metadata": {
            "tags": []
          },
          "execution_count": 73
        }
      ]
    },
    {
      "cell_type": "code",
      "metadata": {
        "id": "q1AhMEsX1PHW",
        "colab_type": "code",
        "colab": {
          "base_uri": "https://localhost:8080/",
          "height": 1000
        },
        "outputId": "33e06e6b-f53d-421d-d471-5f74b27071b0"
      },
      "source": [
        "data.nltk_rev_text[0]['part_of_speech_tags']"
      ],
      "execution_count": 74,
      "outputs": [
        {
          "output_type": "execute_result",
          "data": {
            "text/plain": [
              "[('I', 'PRP'),\n",
              " ('bought', 'VBD'),\n",
              " ('my', 'PRP$'),\n",
              " ('first', 'JJ'),\n",
              " ('HP12C', 'NNP'),\n",
              " ('in', 'IN'),\n",
              " ('about', 'RB'),\n",
              " ('1984', 'CD'),\n",
              " ('or', 'CC'),\n",
              " ('so', 'RB'),\n",
              " ('and', 'CC'),\n",
              " ('it', 'PRP'),\n",
              " ('served', 'VBD'),\n",
              " ('me', 'PRP'),\n",
              " ('faithfully', 'RB'),\n",
              " ('until', 'IN'),\n",
              " ('2002', 'CD'),\n",
              " ('when', 'WRB'),\n",
              " ('I', 'PRP'),\n",
              " ('lost', 'VBD'),\n",
              " ('it', 'PRP'),\n",
              " ('while', 'IN'),\n",
              " ('travelling', 'VBG'),\n",
              " ('I', 'PRP'),\n",
              " ('searched', 'VBD'),\n",
              " ('for', 'IN'),\n",
              " ('another', 'DT'),\n",
              " ('one', 'CD'),\n",
              " ('to', 'TO'),\n",
              " ('replace', 'VB'),\n",
              " ('it', 'PRP'),\n",
              " ('but', 'CC'),\n",
              " ('found', 'VBD'),\n",
              " ('one', 'CD'),\n",
              " ('difficult', 'JJ'),\n",
              " ('to', 'TO'),\n",
              " ('come', 'VB'),\n",
              " ('by', 'IN'),\n",
              " ('in', 'IN'),\n",
              " ('my', 'PRP$'),\n",
              " ('area', 'NN'),\n",
              " ('So', 'IN'),\n",
              " ('I', 'PRP'),\n",
              " ('decided', 'VBD'),\n",
              " ('to', 'TO'),\n",
              " ('buy', 'VB'),\n",
              " ('up', 'RP'),\n",
              " ('and', 'CC'),\n",
              " ('purchased', 'VBD'),\n",
              " ('an', 'DT'),\n",
              " ('HP', 'NNP'),\n",
              " ('49G', 'CD'),\n",
              " ('What', 'WP'),\n",
              " ('a', 'DT'),\n",
              " ('mistake', 'NN'),\n",
              " ('I', 'PRP'),\n",
              " ('know', 'VBP'),\n",
              " ('that', 'IN'),\n",
              " ('many', 'JJ'),\n",
              " ('people', 'NNS'),\n",
              " ('view', 'VBP'),\n",
              " ('the', 'DT'),\n",
              " ('HP', 'NNP'),\n",
              " ('49G', 'CD'),\n",
              " ('now', 'RB'),\n",
              " ('49G+', 'CD'),\n",
              " ('as', 'IN'),\n",
              " ('the', 'DT'),\n",
              " ('flagship', 'NN'),\n",
              " ('of', 'IN'),\n",
              " ('the', 'DT'),\n",
              " ('HP', 'NNP'),\n",
              " ('line', 'NN'),\n",
              " ('but', 'CC'),\n",
              " ('for', 'IN'),\n",
              " ('me', 'PRP'),\n",
              " ('that', 'DT'),\n",
              " ('was', 'VBD'),\n",
              " ('a', 'DT'),\n",
              " ('disaster', 'NN'),\n",
              " ('The', 'DT'),\n",
              " ('49G', 'CD'),\n",
              " ('may', 'MD'),\n",
              " ('be', 'VB'),\n",
              " ('powerful', 'JJ'),\n",
              " ('but', 'CC'),\n",
              " ('using', 'VBG'),\n",
              " ('it', 'PRP'),\n",
              " ('is', 'VBZ'),\n",
              " ('extremely', 'RB'),\n",
              " ('counterintuitive', 'JJ'),\n",
              " ('and', 'CC'),\n",
              " ('the', 'DT'),\n",
              " ('manual', 'NN'),\n",
              " ('was', 'VBD'),\n",
              " ('sketchy', 'VBN'),\n",
              " ('at', 'IN'),\n",
              " ('best', 'RBS'),\n",
              " ('The', 'DT'),\n",
              " ('12C', 'CD'),\n",
              " ('on', 'IN'),\n",
              " ('the', 'DT'),\n",
              " ('other', 'JJ'),\n",
              " ('hand', 'NN'),\n",
              " ('does', 'VBZ'),\n",
              " ('what', 'WP'),\n",
              " ('I', 'PRP'),\n",
              " ('need', 'VBP'),\n",
              " ('in', 'IN'),\n",
              " ('a', 'DT'),\n",
              " ('way', 'NN'),\n",
              " ('that', 'WDT'),\n",
              " ('makes', 'VBZ'),\n",
              " ('good', 'JJ'),\n",
              " ('sense', 'NN'),\n",
              " ('to', 'TO'),\n",
              " ('me', 'PRP'),\n",
              " ('If', 'IN'),\n",
              " ('you', 'PRP'),\n",
              " ('are', 'VBP'),\n",
              " ('looking', 'VBG'),\n",
              " ('for', 'IN'),\n",
              " ('a', 'DT'),\n",
              " ('solid', 'JJ'),\n",
              " ('reliable', 'JJ'),\n",
              " ('calculator', 'NN'),\n",
              " ('the', 'DT'),\n",
              " ('HP12C', 'NNP'),\n",
              " ('may', 'MD'),\n",
              " ('be', 'VB'),\n",
              " ('for', 'IN'),\n",
              " ('you', 'PRP'),\n",
              " ('It', 'PRP'),\n",
              " (\"'s\", 'VBZ'),\n",
              " ('programmable', 'JJ'),\n",
              " ('It', 'PRP'),\n",
              " ('does', 'VBZ'),\n",
              " ('basic', 'JJ'),\n",
              " ('statistics', 'NNS'),\n",
              " ('well', 'RB'),\n",
              " ('and', 'CC'),\n",
              " ('many', 'JJ'),\n",
              " ('business', 'NN'),\n",
              " ('applications', 'NNS'),\n",
              " ('too', 'RB'),\n",
              " ('The', 'DT'),\n",
              " ('manual', 'JJ'),\n",
              " ('makes', 'VBZ'),\n",
              " ('sense', 'NN'),\n",
              " ('you', 'PRP'),\n",
              " ('will', 'MD'),\n",
              " ('be', 'VB'),\n",
              " ('up', 'RB'),\n",
              " ('and', 'CC'),\n",
              " ('running', 'VBG'),\n",
              " ('in', 'IN'),\n",
              " ('short', 'JJ'),\n",
              " ('order', 'NN'),\n",
              " ('I', 'PRP'),\n",
              " (\"'m\", 'VBP'),\n",
              " ('ready', 'JJ'),\n",
              " ('to', 'TO'),\n",
              " ('set', 'VB'),\n",
              " ('my', 'PRP$'),\n",
              " ('49G', 'CD'),\n",
              " ('aside', 'RB'),\n",
              " ('and', 'CC'),\n",
              " ('move', 'VB'),\n",
              " ('back', 'RB'),\n",
              " ('to', 'TO'),\n",
              " ('my', 'PRP$'),\n",
              " ('old', 'JJ'),\n",
              " ('friend', 'NN'),\n",
              " ('I', 'PRP'),\n",
              " ('did', 'VBD'),\n",
              " (\"n't\", 'RB'),\n",
              " ('even', 'RB'),\n",
              " ('have', 'VB'),\n",
              " ('to', 'TO'),\n",
              " ('replace', 'VB'),\n",
              " ('the', 'DT'),\n",
              " ('batteries', 'NNS'),\n",
              " ('in', 'IN'),\n",
              " ('well', 'RB'),\n",
              " ('over', 'IN'),\n",
              " ('a', 'DT'),\n",
              " ('decade', 'NN'),\n",
              " ('of', 'IN'),\n",
              " ('use', 'NN'),\n",
              " ('HP', 'NNP'),\n",
              " ('12C', 'CD'),\n",
              " ('I', 'PRP'),\n",
              " (\"'m\", 'VBP'),\n",
              " ('coming', 'VBG'),\n",
              " ('home', 'NN')]"
            ]
          },
          "metadata": {
            "tags": []
          },
          "execution_count": 74
        }
      ]
    }
  ]
}