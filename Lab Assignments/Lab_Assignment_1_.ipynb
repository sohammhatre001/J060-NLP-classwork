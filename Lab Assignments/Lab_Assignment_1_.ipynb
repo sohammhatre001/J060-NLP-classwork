{
  "nbformat": 4,
  "nbformat_minor": 0,
  "metadata": {
    "colab": {
      "name": "Lab Assignment 1 .ipynb",
      "provenance": [],
      "collapsed_sections": [],
      "include_colab_link": true
    },
    "kernelspec": {
      "name": "python3",
      "display_name": "Python 3"
    }
  },
  "cells": [
    {
      "cell_type": "markdown",
      "metadata": {
        "id": "view-in-github",
        "colab_type": "text"
      },
      "source": [
        "<a href=\"https://colab.research.google.com/github/sohammhatre001/J060-NLP-classwork/blob/master/Lab%20Assignments/Lab_Assignment_1_.ipynb\" target=\"_parent\"><img src=\"https://colab.research.google.com/assets/colab-badge.svg\" alt=\"Open In Colab\"/></a>"
      ]
    },
    {
      "cell_type": "markdown",
      "metadata": {
        "id": "J0xt4yVMblys",
        "colab_type": "text"
      },
      "source": [
        "J3 Lab Assignment 1(J060 & J049): Noun-Verb Ratio"
      ]
    },
    {
      "cell_type": "code",
      "metadata": {
        "id": "W9ujr1gkhxr0",
        "colab_type": "code",
        "outputId": "8d59620c-5bd0-48de-fe29-a242b0a18d81",
        "colab": {
          "base_uri": "https://localhost:8080/",
          "height": 119
        }
      },
      "source": [
        "import pandas as pd\n",
        "import re\n",
        "import nltk\n",
        "import spacy\n",
        "nltk.download('punkt')\n",
        "from nltk.tokenize import MWETokenizer, word_tokenize\n",
        "nltk.download('averaged_perceptron_tagger')"
      ],
      "execution_count": 0,
      "outputs": [
        {
          "output_type": "stream",
          "text": [
            "[nltk_data] Downloading package punkt to /root/nltk_data...\n",
            "[nltk_data]   Unzipping tokenizers/punkt.zip.\n",
            "[nltk_data] Downloading package averaged_perceptron_tagger to\n",
            "[nltk_data]     /root/nltk_data...\n",
            "[nltk_data]   Unzipping taggers/averaged_perceptron_tagger.zip.\n"
          ],
          "name": "stdout"
        },
        {
          "output_type": "execute_result",
          "data": {
            "text/plain": [
              "True"
            ]
          },
          "metadata": {
            "tags": []
          },
          "execution_count": 1
        }
      ]
    },
    {
      "cell_type": "code",
      "metadata": {
        "id": "OMvwcL2liHl_",
        "colab_type": "code",
        "colab": {}
      },
      "source": [
        "data = pd.read_json(\"http://snap.stanford.edu/data/amazon/productGraph/categoryFiles/reviews_Office_Products_5.json.gz\",lines = True)"
      ],
      "execution_count": 0,
      "outputs": []
    },
    {
      "cell_type": "code",
      "metadata": {
        "id": "bt9PE1oCiaif",
        "colab_type": "code",
        "outputId": "8417b7b5-90a8-462b-9149-7719264ebfda",
        "colab": {
          "base_uri": "https://localhost:8080/",
          "height": 289
        }
      },
      "source": [
        "data.head()"
      ],
      "execution_count": 0,
      "outputs": [
        {
          "output_type": "execute_result",
          "data": {
            "text/html": [
              "<div>\n",
              "<style scoped>\n",
              "    .dataframe tbody tr th:only-of-type {\n",
              "        vertical-align: middle;\n",
              "    }\n",
              "\n",
              "    .dataframe tbody tr th {\n",
              "        vertical-align: top;\n",
              "    }\n",
              "\n",
              "    .dataframe thead th {\n",
              "        text-align: right;\n",
              "    }\n",
              "</style>\n",
              "<table border=\"1\" class=\"dataframe\">\n",
              "  <thead>\n",
              "    <tr style=\"text-align: right;\">\n",
              "      <th></th>\n",
              "      <th>reviewerID</th>\n",
              "      <th>asin</th>\n",
              "      <th>reviewerName</th>\n",
              "      <th>helpful</th>\n",
              "      <th>reviewText</th>\n",
              "      <th>overall</th>\n",
              "      <th>summary</th>\n",
              "      <th>unixReviewTime</th>\n",
              "      <th>reviewTime</th>\n",
              "    </tr>\n",
              "  </thead>\n",
              "  <tbody>\n",
              "    <tr>\n",
              "      <th>0</th>\n",
              "      <td>A32T2H8150OJLU</td>\n",
              "      <td>B00000JBLH</td>\n",
              "      <td>ARH</td>\n",
              "      <td>[3, 4]</td>\n",
              "      <td>I bought my first HP12C in about 1984 or so, a...</td>\n",
              "      <td>5</td>\n",
              "      <td>A solid performer, and long time friend</td>\n",
              "      <td>1094169600</td>\n",
              "      <td>09 3, 2004</td>\n",
              "    </tr>\n",
              "    <tr>\n",
              "      <th>1</th>\n",
              "      <td>A3MAFS04ZABRGO</td>\n",
              "      <td>B00000JBLH</td>\n",
              "      <td>Let it Be \"Alan\"</td>\n",
              "      <td>[7, 9]</td>\n",
              "      <td>WHY THIS BELATED REVIEW? I feel very obliged t...</td>\n",
              "      <td>5</td>\n",
              "      <td>Price of GOLD is up, so don't bury the golden ...</td>\n",
              "      <td>1197676800</td>\n",
              "      <td>12 15, 2007</td>\n",
              "    </tr>\n",
              "    <tr>\n",
              "      <th>2</th>\n",
              "      <td>A1F1A0QQP2XVH5</td>\n",
              "      <td>B00000JBLH</td>\n",
              "      <td>Mark B</td>\n",
              "      <td>[3, 3]</td>\n",
              "      <td>I have an HP 48GX that has been kicking for mo...</td>\n",
              "      <td>2</td>\n",
              "      <td>Good functionality, but not durable like old HPs</td>\n",
              "      <td>1293840000</td>\n",
              "      <td>01 1, 2011</td>\n",
              "    </tr>\n",
              "    <tr>\n",
              "      <th>3</th>\n",
              "      <td>A49R5DBXXQDE5</td>\n",
              "      <td>B00000JBLH</td>\n",
              "      <td>R. D Johnson</td>\n",
              "      <td>[7, 8]</td>\n",
              "      <td>I've started doing more finance stuff recently...</td>\n",
              "      <td>5</td>\n",
              "      <td>One of the last of an almost extinct species</td>\n",
              "      <td>1145404800</td>\n",
              "      <td>04 19, 2006</td>\n",
              "    </tr>\n",
              "    <tr>\n",
              "      <th>4</th>\n",
              "      <td>A2XRMQA6PJ5ZJ8</td>\n",
              "      <td>B00000JBLH</td>\n",
              "      <td>Roger J. Buffington</td>\n",
              "      <td>[0, 0]</td>\n",
              "      <td>For simple calculations and discounted cash fl...</td>\n",
              "      <td>5</td>\n",
              "      <td>Still the best</td>\n",
              "      <td>1375574400</td>\n",
              "      <td>08 4, 2013</td>\n",
              "    </tr>\n",
              "  </tbody>\n",
              "</table>\n",
              "</div>"
            ],
            "text/plain": [
              "       reviewerID        asin  ... unixReviewTime   reviewTime\n",
              "0  A32T2H8150OJLU  B00000JBLH  ...     1094169600   09 3, 2004\n",
              "1  A3MAFS04ZABRGO  B00000JBLH  ...     1197676800  12 15, 2007\n",
              "2  A1F1A0QQP2XVH5  B00000JBLH  ...     1293840000   01 1, 2011\n",
              "3   A49R5DBXXQDE5  B00000JBLH  ...     1145404800  04 19, 2006\n",
              "4  A2XRMQA6PJ5ZJ8  B00000JBLH  ...     1375574400   08 4, 2013\n",
              "\n",
              "[5 rows x 9 columns]"
            ]
          },
          "metadata": {
            "tags": []
          },
          "execution_count": 3
        }
      ]
    },
    {
      "cell_type": "code",
      "metadata": {
        "id": "vDFFRXtK7_oq",
        "colab_type": "code",
        "colab": {}
      },
      "source": [
        "def tok(text):\n",
        "  mtokenizer = MWETokenizer()\n",
        "  mwe = mtokenizer.tokenize(text.split())\n",
        "  wtokenizer = word_tokenize(text)\n",
        "  pos = nltk.pos_tag(wtokenizer)\n",
        "\n",
        "  ndic = {}\n",
        "  ndic[\"word_token\"] = wtokenizer\n",
        "  ndic[\"mwe_token\"] = mtokenizer\n",
        "  ndic[\"pos_tag\"] = pos\n",
        "  return ndic"
      ],
      "execution_count": 0,
      "outputs": []
    },
    {
      "cell_type": "code",
      "metadata": {
        "id": "BiMBi16IDbZl",
        "colab_type": "code",
        "colab": {}
      },
      "source": [
        "def get_adj(l):\n",
        "  adj = []\n",
        "  for i,t in l[\"pos_tag\"]:\n",
        "    if t == \"JJ\":\n",
        "      adj.append(i)\n",
        "  return adj"
      ],
      "execution_count": 0,
      "outputs": []
    },
    {
      "cell_type": "code",
      "metadata": {
        "id": "Em526gbLMjUd",
        "colab_type": "code",
        "colab": {}
      },
      "source": [
        "def ratio_noun_verbs(l):\n",
        "  nouns = 0\n",
        "  verbs= 0\n",
        "  for i,t in l[\"pos_tag\"]:\n",
        "    if t in [\"NN\",\"NNS\",\"NNP\",\"NNPS\"]:\n",
        "      nouns +=1\n",
        "    elif t in [\"VB\",\"VBG\",\"VBD\",\"VBN\",\"VBP\",\"VBZ\"]:\n",
        "      verbs +=1\n",
        "  if verbs == 0:\n",
        "    return (\"No verbs\")\n",
        "  elif nouns == 0:\n",
        "    return (\"No nouns\")\n",
        "  else:\n",
        "    return (nouns/verbs)"
      ],
      "execution_count": 0,
      "outputs": []
    },
    {
      "cell_type": "code",
      "metadata": {
        "id": "asL6JSmy963r",
        "colab_type": "code",
        "colab": {}
      },
      "source": [
        "data[\"reviewText_nltkWords\"] = data[\"reviewText\"].apply(tok)"
      ],
      "execution_count": 0,
      "outputs": []
    },
    {
      "cell_type": "code",
      "metadata": {
        "id": "Pvr5Xj8M-IFt",
        "colab_type": "code",
        "outputId": "65656ae5-a515-4ed7-e8ea-8cd7b8ed48a8",
        "colab": {
          "base_uri": "https://localhost:8080/",
          "height": 54
        }
      },
      "source": [
        "print(data.loc[0,\"reviewText_nltkWords\"])"
      ],
      "execution_count": 0,
      "outputs": [
        {
          "output_type": "stream",
          "text": [
            "{'word_token': ['I', 'bought', 'my', 'first', 'HP12C', 'in', 'about', '1984', 'or', 'so', ',', 'and', 'it', 'served', 'me', 'faithfully', 'until', '2002', 'when', 'I', 'lost', 'it', 'while', 'travelling', '.', 'I', 'searched', 'for', 'another', 'one', 'to', 'replace', 'it', ',', 'but', 'found', 'one', 'difficult', 'to', 'come', 'by', 'in', 'my', 'area', '.', 'So', ',', 'I', 'decided', 'to', 'buy', 'up', 'and', 'purchased', 'an', 'HP', '49G', '.', 'What', 'a', 'mistake', '!', 'I', 'know', 'that', 'many', 'people', 'view', 'the', 'HP', '49G', '(', 'now', '49G+', ')', 'as', 'the', 'flagship', 'of', 'the', 'HP', 'line', ',', 'but', 'for', 'me', 'that', 'was', 'a', 'disaster.The', '49G', 'may', 'be', 'powerful', ',', 'but', 'using', 'it', 'is', 'extremely', 'counterintuitive', '...', 'and', 'the', 'manual', 'was', 'sketchy', 'at', 'best', '.', 'The', '12C', ',', 'on', 'the', 'other', 'hand', ',', 'does', 'what', 'I', 'need', 'in', 'a', 'way', 'that', 'makes', 'good', 'sense', 'to', 'me.If', 'you', 'are', 'looking', 'for', 'a', 'solid', ',', 'reliable', 'calculator', ',', 'the', 'HP12C', 'may', 'be', 'for', 'you', '.', 'It', \"'s\", 'programmable', '.', 'It', 'does', 'basic', 'statistics', 'well', ',', 'and', 'many', 'business', 'applications', 'too', '.', 'The', 'manual', 'makes', 'sense', ';', 'you', 'will', 'be', 'up', 'and', 'running', 'in', 'short', 'order.I', \"'m\", 'ready', 'to', 'set', 'my', '49G', 'aside', 'and', 'move', 'back', 'to', 'my', 'old', 'friend', '.', 'I', 'did', \"n't\", 'even', 'have', 'to', 'replace', 'the', 'batteries', 'in', 'well', 'over', 'a', 'decade', 'of', 'use', '!', 'HP', '12C', ',', 'I', \"'m\", 'coming', 'home', '!'], 'mwe_token': <nltk.tokenize.mwe.MWETokenizer object at 0x7fbd01b41518>, 'pos_tag': [('I', 'PRP'), ('bought', 'VBD'), ('my', 'PRP$'), ('first', 'JJ'), ('HP12C', 'NNP'), ('in', 'IN'), ('about', 'RB'), ('1984', 'CD'), ('or', 'CC'), ('so', 'RB'), (',', ','), ('and', 'CC'), ('it', 'PRP'), ('served', 'VBD'), ('me', 'PRP'), ('faithfully', 'RB'), ('until', 'IN'), ('2002', 'CD'), ('when', 'WRB'), ('I', 'PRP'), ('lost', 'VBD'), ('it', 'PRP'), ('while', 'IN'), ('travelling', 'VBG'), ('.', '.'), ('I', 'PRP'), ('searched', 'VBD'), ('for', 'IN'), ('another', 'DT'), ('one', 'CD'), ('to', 'TO'), ('replace', 'VB'), ('it', 'PRP'), (',', ','), ('but', 'CC'), ('found', 'VBD'), ('one', 'CD'), ('difficult', 'JJ'), ('to', 'TO'), ('come', 'VB'), ('by', 'IN'), ('in', 'IN'), ('my', 'PRP$'), ('area', 'NN'), ('.', '.'), ('So', 'RB'), (',', ','), ('I', 'PRP'), ('decided', 'VBD'), ('to', 'TO'), ('buy', 'VB'), ('up', 'RP'), ('and', 'CC'), ('purchased', 'VBD'), ('an', 'DT'), ('HP', 'NNP'), ('49G', 'CD'), ('.', '.'), ('What', 'WP'), ('a', 'DT'), ('mistake', 'NN'), ('!', '.'), ('I', 'PRP'), ('know', 'VBP'), ('that', 'IN'), ('many', 'JJ'), ('people', 'NNS'), ('view', 'VBP'), ('the', 'DT'), ('HP', 'NNP'), ('49G', 'CD'), ('(', '('), ('now', 'RB'), ('49G+', 'CD'), (')', ')'), ('as', 'IN'), ('the', 'DT'), ('flagship', 'NN'), ('of', 'IN'), ('the', 'DT'), ('HP', 'NNP'), ('line', 'NN'), (',', ','), ('but', 'CC'), ('for', 'IN'), ('me', 'PRP'), ('that', 'DT'), ('was', 'VBD'), ('a', 'DT'), ('disaster.The', 'JJ'), ('49G', 'CD'), ('may', 'MD'), ('be', 'VB'), ('powerful', 'JJ'), (',', ','), ('but', 'CC'), ('using', 'VBG'), ('it', 'PRP'), ('is', 'VBZ'), ('extremely', 'RB'), ('counterintuitive', 'JJ'), ('...', ':'), ('and', 'CC'), ('the', 'DT'), ('manual', 'NN'), ('was', 'VBD'), ('sketchy', 'VBN'), ('at', 'IN'), ('best', 'JJS'), ('.', '.'), ('The', 'DT'), ('12C', 'CD'), (',', ','), ('on', 'IN'), ('the', 'DT'), ('other', 'JJ'), ('hand', 'NN'), (',', ','), ('does', 'VBZ'), ('what', 'WP'), ('I', 'PRP'), ('need', 'VBP'), ('in', 'IN'), ('a', 'DT'), ('way', 'NN'), ('that', 'WDT'), ('makes', 'VBZ'), ('good', 'JJ'), ('sense', 'NN'), ('to', 'TO'), ('me.If', 'VB'), ('you', 'PRP'), ('are', 'VBP'), ('looking', 'VBG'), ('for', 'IN'), ('a', 'DT'), ('solid', 'JJ'), (',', ','), ('reliable', 'JJ'), ('calculator', 'NN'), (',', ','), ('the', 'DT'), ('HP12C', 'NNP'), ('may', 'MD'), ('be', 'VB'), ('for', 'IN'), ('you', 'PRP'), ('.', '.'), ('It', 'PRP'), (\"'s\", 'VBZ'), ('programmable', 'JJ'), ('.', '.'), ('It', 'PRP'), ('does', 'VBZ'), ('basic', 'JJ'), ('statistics', 'NNS'), ('well', 'RB'), (',', ','), ('and', 'CC'), ('many', 'JJ'), ('business', 'NN'), ('applications', 'NNS'), ('too', 'RB'), ('.', '.'), ('The', 'DT'), ('manual', 'JJ'), ('makes', 'VBZ'), ('sense', 'NN'), (';', ':'), ('you', 'PRP'), ('will', 'MD'), ('be', 'VB'), ('up', 'RB'), ('and', 'CC'), ('running', 'VBG'), ('in', 'IN'), ('short', 'JJ'), ('order.I', 'NN'), (\"'m\", 'VBP'), ('ready', 'JJ'), ('to', 'TO'), ('set', 'VB'), ('my', 'PRP$'), ('49G', 'CD'), ('aside', 'RB'), ('and', 'CC'), ('move', 'VB'), ('back', 'RB'), ('to', 'TO'), ('my', 'PRP$'), ('old', 'JJ'), ('friend', 'NN'), ('.', '.'), ('I', 'PRP'), ('did', 'VBD'), (\"n't\", 'RB'), ('even', 'RB'), ('have', 'VB'), ('to', 'TO'), ('replace', 'VB'), ('the', 'DT'), ('batteries', 'NNS'), ('in', 'IN'), ('well', 'RB'), ('over', 'IN'), ('a', 'DT'), ('decade', 'NN'), ('of', 'IN'), ('use', 'NN'), ('!', '.'), ('HP', 'NNP'), ('12C', 'CD'), (',', ','), ('I', 'PRP'), (\"'m\", 'VBP'), ('coming', 'VBG'), ('home', 'NN'), ('!', '.')]}\n"
          ],
          "name": "stdout"
        }
      ]
    },
    {
      "cell_type": "code",
      "metadata": {
        "id": "q8Pa4zvZQb_-",
        "colab_type": "code",
        "colab": {}
      },
      "source": [
        "data[\"ratioNV_reviewWords\"] = data[\"reviewText_nltkWords\"].apply(ratio_noun_verbs)"
      ],
      "execution_count": 0,
      "outputs": []
    },
    {
      "cell_type": "code",
      "metadata": {
        "id": "-M7yLRAVFDHP",
        "colab_type": "code",
        "outputId": "ac88b899-1877-4bb4-c90d-3348713799ac",
        "colab": {
          "base_uri": "https://localhost:8080/",
          "height": 221
        }
      },
      "source": [
        "print(data[\"ratioNV_reviewWords\"])"
      ],
      "execution_count": 0,
      "outputs": [
        {
          "output_type": "stream",
          "text": [
            "0        0.666667\n",
            "1         2.71311\n",
            "2        0.947368\n",
            "3         1.62727\n",
            "4         1.45455\n",
            "           ...   \n",
            "53253     1.22222\n",
            "53254     1.39773\n",
            "53255     1.33929\n",
            "53256    0.870968\n",
            "53257     1.20339\n",
            "Name: ratioNV_reviewWords, Length: 53258, dtype: object\n"
          ],
          "name": "stdout"
        }
      ]
    }
  ]
}