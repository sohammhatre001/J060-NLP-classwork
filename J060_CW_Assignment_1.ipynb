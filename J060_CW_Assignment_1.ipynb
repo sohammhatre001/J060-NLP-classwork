{
  "nbformat": 4,
  "nbformat_minor": 0,
  "metadata": {
    "colab": {
      "name": "J060 CW Assignment 1.ipynb",
      "provenance": [],
      "collapsed_sections": []
    },
    "kernelspec": {
      "name": "python3",
      "display_name": "Python 3"
    }
  },
  "cells": [
    {
      "cell_type": "markdown",
      "metadata": {
        "id": "c2qnQP_H2Kwi",
        "colab_type": "text"
      },
      "source": [
        "  **J060 Classwork Assignment 1: Prime Numbers**\n",
        "\n",
        "*   To check whether a number is prime or not and use that for finding the nth prime number.\n",
        "\n",
        "\n",
        "\n"
      ]
    },
    {
      "cell_type": "code",
      "metadata": {
        "id": "EIQzeWWfy4N0",
        "colab_type": "code",
        "colab": {}
      },
      "source": [
        "import numpy as np"
      ],
      "execution_count": 0,
      "outputs": []
    },
    {
      "cell_type": "code",
      "metadata": {
        "id": "hjoMyBksymMi",
        "colab_type": "code",
        "colab": {}
      },
      "source": [
        "#To check whether a given number is prime or composite.\n",
        "#passing n as a local parameter\n",
        "def prime_number(n):\n",
        "    num=n\n",
        "    if (num==0 or num==1) :\n",
        "                  print(str(num) + ' is neither composite nor prime.')\n",
        "    else:              \n",
        "      # Condition for checking composite numbers. \n",
        "      # Can also be num/2 searches but this is more faster.\n",
        "\n",
        "        for k in range(2,int(np.sqrt(num))+1):\n",
        "            if(num%k==0):\n",
        "                 #print(str(num) + ' is composite.')\n",
        "                 return 'composite'\n",
        "                 break\n",
        "        #Else is out of the for loop. \n",
        "        #Cause it will only check if the condition is being satisfied and if not it will break\n",
        "        else:\n",
        "             #print(str(num) + ' is prime.')\n",
        "             return 'prime' \n"
      ],
      "execution_count": 0,
      "outputs": []
    },
    {
      "cell_type": "code",
      "metadata": {
        "id": "ApclHE7szuBi",
        "colab_type": "code",
        "colab": {
          "base_uri": "https://localhost:8080/",
          "height": 50
        },
        "outputId": "86c6faa7-6347-485d-937e-423c4205289c"
      },
      "source": [
        "prime_number(25)\n",
        "prime_number(7)"
      ],
      "execution_count": 8,
      "outputs": [
        {
          "output_type": "stream",
          "text": [
            "25 is composite.\n",
            "7 is prime.\n"
          ],
          "name": "stdout"
        }
      ]
    },
    {
      "cell_type": "code",
      "metadata": {
        "id": "4hWdGp8iyv6Q",
        "colab_type": "code",
        "colab": {}
      },
      "source": [
        "def nth_prime_number(n):\n",
        "   count=0  # count var counts the no. of variables\n",
        "   num=2    # Prime nummbers start from 2\n",
        "   primes_list=[] # creating a list to store prime numbers\n",
        "\n",
        "   while True:\n",
        "     # using prime_number() function to check whether number is prime or not.  \n",
        "     if prime_number(num)=='prime':\n",
        "      primes_list.append(num)  # adding prime number to the primes_list\n",
        "      count+=1 #count=count+1 (if num is prime, count gets incremented)\n",
        "\n",
        "     if count==n: \n",
        "      print(primes_list)\n",
        "      #Last element of list is nth prime number   \n",
        "      print('The '+str(n)+' (st/rd/th) prime number is ' + str(primes_list.pop(-1)))\n",
        "      break # while loop breaks when count equals n.\n",
        "     num+=1 \n",
        "     #since while loop doesn't increment on its own we increment num. "
      ],
      "execution_count": 0,
      "outputs": []
    },
    {
      "cell_type": "code",
      "metadata": {
        "id": "PNX2uuaWw16i",
        "colab_type": "code",
        "colab": {
          "base_uri": "https://localhost:8080/",
          "height": 84
        },
        "outputId": "5c4c45fe-8dcc-4659-829d-9731bbdbc37d"
      },
      "source": [
        "nth_prime_number(1)\n",
        "nth_prime_number(10)"
      ],
      "execution_count": 11,
      "outputs": [
        {
          "output_type": "stream",
          "text": [
            "[2]\n",
            "The 1 (st/rd/th) prime number is 2\n",
            "[2, 3, 5, 7, 11, 13, 17, 19, 23, 29]\n",
            "The 10 (st/rd/th) prime number is 29\n"
          ],
          "name": "stdout"
        }
      ]
    },
    {
      "cell_type": "code",
      "metadata": {
        "id": "V_88-r6z1r9-",
        "colab_type": "code",
        "colab": {}
      },
      "source": [
        ""
      ],
      "execution_count": 0,
      "outputs": []
    }
  ]
}