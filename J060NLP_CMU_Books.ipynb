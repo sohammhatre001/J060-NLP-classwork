{
  "nbformat": 4,
  "nbformat_minor": 0,
  "metadata": {
    "colab": {
      "name": "J060NLP_CMU_Books.ipynb",
      "provenance": [],
      "authorship_tag": "ABX9TyPmoHVKdFeZZybB8mM2mczN",
      "include_colab_link": true
    },
    "kernelspec": {
      "name": "python3",
      "display_name": "Python 3"
    }
  },
  "cells": [
    {
      "cell_type": "markdown",
      "metadata": {
        "id": "view-in-github",
        "colab_type": "text"
      },
      "source": [
        "<a href=\"https://colab.research.google.com/github/sohammhatre001/J060-NLP-classwork/blob/master/J060NLP_CMU_Books.ipynb\" target=\"_parent\"><img src=\"https://colab.research.google.com/assets/colab-badge.svg\" alt=\"Open In Colab\"/></a>"
      ]
    },
    {
      "cell_type": "markdown",
      "metadata": {
        "id": "jVg9QUl25Sue",
        "colab_type": "text"
      },
      "source": [
        "# BOOKS SUMMARY ANALYSIS\n",
        "\n",
        "    CMU BOOKS DATASET"
      ]
    },
    {
      "cell_type": "markdown",
      "metadata": {
        "id": "eVgvZTVM5rvC",
        "colab_type": "text"
      },
      "source": [
        "### IMPORTING LIBRARIES"
      ]
    },
    {
      "cell_type": "code",
      "metadata": {
        "id": "qCSaR_driae1",
        "colab_type": "code",
        "colab": {
          "base_uri": "https://localhost:8080/",
          "height": 238
        },
        "outputId": "103bf8dd-5ae2-4f88-f8be-18ce863bc364"
      },
      "source": [
        "import pandas as pd\n",
        "import numpy as np\n",
        "import json\n",
        "import nltk\n",
        "import seaborn as sns\n",
        "import matplotlib.pyplot as plt\n",
        "import nltk\n",
        "import re\n",
        "from nltk.corpus import stopwords \n",
        "nltk.download('stopwords')\n",
        "nltk.download('averaged_perceptron_tagger')\n",
        "nltk.download('wordnet')\n",
        "nltk.download('punkt')\n",
        "stop_words = set(stopwords.words('english','german'))\n",
        "from nltk.tokenize import word_tokenize \n",
        "from nltk.stem import WordNetLemmatizer \n",
        "from nltk.corpus import wordnet\n",
        "from sklearn.feature_extraction.text import TfidfVectorizer\n",
        "from sklearn.decomposition import LatentDirichletAllocation as LDA\n",
        "from sklearn.preprocessing import LabelEncoder\n",
        "from sklearn.preprocessing import MultiLabelBinarizer\n",
        "from sklearn.linear_model import LogisticRegression\n",
        "# Binary Relevance\n",
        "from sklearn.multiclass import OneVsRestClassifier\n",
        "# Performance metric\n",
        "from sklearn.metrics import f1_score\n",
        "# from nltk import word_tokenize, pos_tag, ne_chunk\n",
        "from sklearn.model_selection import train_test_split\n",
        "import spacy\n",
        "from spacy import displacy\n",
        "nlp = spacy.load('en_core_web_sm')"
      ],
      "execution_count": 1,
      "outputs": [
        {
          "output_type": "stream",
          "text": [
            "/usr/local/lib/python3.6/dist-packages/statsmodels/tools/_testing.py:19: FutureWarning: pandas.util.testing is deprecated. Use the functions in the public API at pandas.testing instead.\n",
            "  import pandas.util.testing as tm\n"
          ],
          "name": "stderr"
        },
        {
          "output_type": "stream",
          "text": [
            "[nltk_data] Downloading package stopwords to /root/nltk_data...\n",
            "[nltk_data]   Package stopwords is already up-to-date!\n",
            "[nltk_data] Downloading package averaged_perceptron_tagger to\n",
            "[nltk_data]     /root/nltk_data...\n",
            "[nltk_data]   Package averaged_perceptron_tagger is already up-to-\n",
            "[nltk_data]       date!\n",
            "[nltk_data] Downloading package wordnet to /root/nltk_data...\n",
            "[nltk_data]   Package wordnet is already up-to-date!\n",
            "[nltk_data] Downloading package punkt to /root/nltk_data...\n",
            "[nltk_data]   Package punkt is already up-to-date!\n"
          ],
          "name": "stdout"
        }
      ]
    },
    {
      "cell_type": "code",
      "metadata": {
        "id": "XE5JpGUTiwMm",
        "colab_type": "code",
        "colab": {}
      },
      "source": [
        "books=pd.read_csv('booksummaries.txt',delimiter='\\t',encoding=\"utf-8\")"
      ],
      "execution_count": 0,
      "outputs": []
    },
    {
      "cell_type": "code",
      "metadata": {
        "id": "-9bTM25eqRW8",
        "colab_type": "code",
        "colab": {}
      },
      "source": [
        "books.columns=['wikipedia_article_id', 'freebase_id','book_title','author','publication_date','genres','summary'] "
      ],
      "execution_count": 0,
      "outputs": []
    },
    {
      "cell_type": "markdown",
      "metadata": {
        "id": "BttALTlY55JF",
        "colab_type": "text"
      },
      "source": [
        "## PRE-PROCESSING"
      ]
    },
    {
      "cell_type": "code",
      "metadata": {
        "id": "63hKP35-qToW",
        "colab_type": "code",
        "colab": {}
      },
      "source": [
        "books.drop(['freebase_id','publication_date','author'],axis=1,inplace=True)"
      ],
      "execution_count": 0,
      "outputs": []
    },
    {
      "cell_type": "code",
      "metadata": {
        "id": "xLJ1ZdGLsnG-",
        "colab_type": "code",
        "colab": {
          "base_uri": "https://localhost:8080/",
          "height": 54
        },
        "outputId": "918533ed-4bf7-45d2-d5d2-ed8a33badb8e"
      },
      "source": [
        "books.genres[0]"
      ],
      "execution_count": 5,
      "outputs": [
        {
          "output_type": "execute_result",
          "data": {
            "text/plain": [
              "'{\"/m/06n90\": \"Science Fiction\", \"/m/0l67h\": \"Novella\", \"/m/014dfn\": \"Speculative fiction\", \"/m/0c082\": \"Utopian and dystopian fiction\", \"/m/06nbt\": \"Satire\", \"/m/02xlf\": \"Fiction\"}'"
            ]
          },
          "metadata": {
            "tags": []
          },
          "execution_count": 5
        }
      ]
    },
    {
      "cell_type": "code",
      "metadata": {
        "id": "nloP-Q_QwBiT",
        "colab_type": "code",
        "colab": {
          "base_uri": "https://localhost:8080/",
          "height": 229
        },
        "outputId": "0924fcf3-19c1-47a4-d8d0-b9b3d7aeb0f0"
      },
      "source": [
        "books.head()"
      ],
      "execution_count": 6,
      "outputs": [
        {
          "output_type": "execute_result",
          "data": {
            "text/html": [
              "<div>\n",
              "<style scoped>\n",
              "    .dataframe tbody tr th:only-of-type {\n",
              "        vertical-align: middle;\n",
              "    }\n",
              "\n",
              "    .dataframe tbody tr th {\n",
              "        vertical-align: top;\n",
              "    }\n",
              "\n",
              "    .dataframe thead th {\n",
              "        text-align: right;\n",
              "    }\n",
              "</style>\n",
              "<table border=\"1\" class=\"dataframe\">\n",
              "  <thead>\n",
              "    <tr style=\"text-align: right;\">\n",
              "      <th></th>\n",
              "      <th>wikipedia_article_id</th>\n",
              "      <th>book_title</th>\n",
              "      <th>genres</th>\n",
              "      <th>summary</th>\n",
              "    </tr>\n",
              "  </thead>\n",
              "  <tbody>\n",
              "    <tr>\n",
              "      <th>0</th>\n",
              "      <td>843</td>\n",
              "      <td>A Clockwork Orange</td>\n",
              "      <td>{\"/m/06n90\": \"Science Fiction\", \"/m/0l67h\": \"N...</td>\n",
              "      <td>Alex, a teenager living in near-future Englan...</td>\n",
              "    </tr>\n",
              "    <tr>\n",
              "      <th>1</th>\n",
              "      <td>986</td>\n",
              "      <td>The Plague</td>\n",
              "      <td>{\"/m/02m4t\": \"Existentialism\", \"/m/02xlf\": \"Fi...</td>\n",
              "      <td>The text of The Plague is divided into five p...</td>\n",
              "    </tr>\n",
              "    <tr>\n",
              "      <th>2</th>\n",
              "      <td>1756</td>\n",
              "      <td>An Enquiry Concerning Human Understanding</td>\n",
              "      <td>NaN</td>\n",
              "      <td>The argument of the Enquiry proceeds by a ser...</td>\n",
              "    </tr>\n",
              "    <tr>\n",
              "      <th>3</th>\n",
              "      <td>2080</td>\n",
              "      <td>A Fire Upon the Deep</td>\n",
              "      <td>{\"/m/03lrw\": \"Hard science fiction\", \"/m/06n90...</td>\n",
              "      <td>The novel posits that space around the Milky ...</td>\n",
              "    </tr>\n",
              "    <tr>\n",
              "      <th>4</th>\n",
              "      <td>2152</td>\n",
              "      <td>All Quiet on the Western Front</td>\n",
              "      <td>{\"/m/098tmk\": \"War novel\", \"/m/016lj8\": \"Roman...</td>\n",
              "      <td>The book tells the story of Paul Bäumer, a Ge...</td>\n",
              "    </tr>\n",
              "  </tbody>\n",
              "</table>\n",
              "</div>"
            ],
            "text/plain": [
              "   wikipedia_article_id  ...                                            summary\n",
              "0                   843  ...   Alex, a teenager living in near-future Englan...\n",
              "1                   986  ...   The text of The Plague is divided into five p...\n",
              "2                  1756  ...   The argument of the Enquiry proceeds by a ser...\n",
              "3                  2080  ...   The novel posits that space around the Milky ...\n",
              "4                  2152  ...   The book tells the story of Paul Bäumer, a Ge...\n",
              "\n",
              "[5 rows x 4 columns]"
            ]
          },
          "metadata": {
            "tags": []
          },
          "execution_count": 6
        }
      ]
    },
    {
      "cell_type": "code",
      "metadata": {
        "id": "E866o8ETyJGV",
        "colab_type": "code",
        "colab": {
          "base_uri": "https://localhost:8080/",
          "height": 101
        },
        "outputId": "1d0ba3bd-fbd8-4621-c2b5-861f729858b4"
      },
      "source": [
        "books.isna().sum()"
      ],
      "execution_count": 7,
      "outputs": [
        {
          "output_type": "execute_result",
          "data": {
            "text/plain": [
              "wikipedia_article_id       0\n",
              "book_title                 0\n",
              "genres                  2561\n",
              "summary                    0\n",
              "dtype: int64"
            ]
          },
          "metadata": {
            "tags": []
          },
          "execution_count": 7
        }
      ]
    },
    {
      "cell_type": "code",
      "metadata": {
        "id": "lH1jULcYy3lT",
        "colab_type": "code",
        "colab": {}
      },
      "source": [
        "books.dropna(inplace=True)"
      ],
      "execution_count": 0,
      "outputs": []
    },
    {
      "cell_type": "code",
      "metadata": {
        "id": "Th4TFmyJ2A-C",
        "colab_type": "code",
        "colab": {}
      },
      "source": [
        "books.reset_index(drop=True,inplace=True)"
      ],
      "execution_count": 0,
      "outputs": []
    },
    {
      "cell_type": "code",
      "metadata": {
        "id": "xeVxCFna8zce",
        "colab_type": "code",
        "colab": {
          "base_uri": "https://localhost:8080/",
          "height": 34
        },
        "outputId": "1d53d148-6a94-4497-c067-1e8d4bb35e38"
      },
      "source": [
        "books.shape"
      ],
      "execution_count": 10,
      "outputs": [
        {
          "output_type": "execute_result",
          "data": {
            "text/plain": [
              "(10962, 4)"
            ]
          },
          "metadata": {
            "tags": []
          },
          "execution_count": 10
        }
      ]
    },
    {
      "cell_type": "code",
      "metadata": {
        "id": "EZuz6Zl91b4K",
        "colab_type": "code",
        "colab": {
          "base_uri": "https://localhost:8080/",
          "height": 101
        },
        "outputId": "3a54daac-fb5c-4f00-e916-362f85bc4fb1"
      },
      "source": [
        "for i in range(0,books.shape[0]):\n",
        "  books['genres'][i]=list((json.loads(books['genres'][i]).values()))"
      ],
      "execution_count": 11,
      "outputs": [
        {
          "output_type": "stream",
          "text": [
            "/usr/local/lib/python3.6/dist-packages/ipykernel_launcher.py:2: SettingWithCopyWarning: \n",
            "A value is trying to be set on a copy of a slice from a DataFrame\n",
            "\n",
            "See the caveats in the documentation: https://pandas.pydata.org/pandas-docs/stable/user_guide/indexing.html#returning-a-view-versus-a-copy\n",
            "  \n"
          ],
          "name": "stderr"
        }
      ]
    },
    {
      "cell_type": "code",
      "metadata": {
        "id": "DZxQZjPhMR72",
        "colab_type": "code",
        "colab": {}
      },
      "source": [
        "genres=[]\n",
        "for i in books['genres']:\n",
        "    genres.append(i)"
      ],
      "execution_count": 0,
      "outputs": []
    },
    {
      "cell_type": "code",
      "metadata": {
        "id": "A0qHxmFwNF9J",
        "colab_type": "code",
        "colab": {
          "base_uri": "https://localhost:8080/",
          "height": 34
        },
        "outputId": "3695a5ea-b9ef-4f3d-cfe2-4e331b5c6ffa"
      },
      "source": [
        "# get all genre tags in a list\n",
        "all_genres = sum(genres,[])\n",
        "len(set(all_genres))"
      ],
      "execution_count": 13,
      "outputs": [
        {
          "output_type": "execute_result",
          "data": {
            "text/plain": [
              "217"
            ]
          },
          "metadata": {
            "tags": []
          },
          "execution_count": 13
        }
      ]
    },
    {
      "cell_type": "markdown",
      "metadata": {
        "id": "qGt5AgMzQFCv",
        "colab_type": "text"
      },
      "source": [
        "Getting a lot of genres"
      ]
    },
    {
      "cell_type": "code",
      "metadata": {
        "id": "P597OJGgPVxB",
        "colab_type": "code",
        "colab": {}
      },
      "source": [
        "all_genres = nltk.FreqDist(all_genres) \n",
        "# create dataframe\n",
        "all_genres_df = pd.DataFrame({'Genre': list(all_genres.keys()), \n",
        "                              'Count': list(all_genres.values())})"
      ],
      "execution_count": 0,
      "outputs": []
    },
    {
      "cell_type": "code",
      "metadata": {
        "id": "kY4W_9GGOG7D",
        "colab_type": "code",
        "colab": {
          "base_uri": "https://localhost:8080/",
          "height": 877
        },
        "outputId": "f5eb8160-8b1c-47bf-c95c-1f82f007db0e"
      },
      "source": [
        "g = all_genres_df.nlargest(columns=\"Count\", n = 20) \n",
        "plt.figure(figsize=(12,15)) \n",
        "ax = sns.barplot(data=g, x= \"Count\", y = \"Genre\", palette='rocket') \n",
        "ax.set(ylabel = 'Genre') \n",
        "plt.show()"
      ],
      "execution_count": 15,
      "outputs": [
        {
          "output_type": "display_data",
          "data": {
            "image/png": "[encoded data removed]",
            "text/plain": [
              "<Figure size 864x1080 with 1 Axes>"
            ]
          },
          "metadata": {
            "tags": [],
            "needs_background": "light"
          }
        }
      ]
    },
    {
      "cell_type": "code",
      "metadata": {
        "id": "Acx3Ihc0SgLC",
        "colab_type": "code",
        "colab": {
          "base_uri": "https://localhost:8080/",
          "height": 195
        },
        "outputId": "58460582-4579-419d-db7e-d316cfb32c26"
      },
      "source": [
        "books.head()"
      ],
      "execution_count": 16,
      "outputs": [
        {
          "output_type": "execute_result",
          "data": {
            "text/html": [
              "<div>\n",
              "<style scoped>\n",
              "    .dataframe tbody tr th:only-of-type {\n",
              "        vertical-align: middle;\n",
              "    }\n",
              "\n",
              "    .dataframe tbody tr th {\n",
              "        vertical-align: top;\n",
              "    }\n",
              "\n",
              "    .dataframe thead th {\n",
              "        text-align: right;\n",
              "    }\n",
              "</style>\n",
              "<table border=\"1\" class=\"dataframe\">\n",
              "  <thead>\n",
              "    <tr style=\"text-align: right;\">\n",
              "      <th></th>\n",
              "      <th>wikipedia_article_id</th>\n",
              "      <th>book_title</th>\n",
              "      <th>genres</th>\n",
              "      <th>summary</th>\n",
              "    </tr>\n",
              "  </thead>\n",
              "  <tbody>\n",
              "    <tr>\n",
              "      <th>0</th>\n",
              "      <td>843</td>\n",
              "      <td>A Clockwork Orange</td>\n",
              "      <td>[Science Fiction, Novella, Speculative fiction...</td>\n",
              "      <td>Alex, a teenager living in near-future Englan...</td>\n",
              "    </tr>\n",
              "    <tr>\n",
              "      <th>1</th>\n",
              "      <td>986</td>\n",
              "      <td>The Plague</td>\n",
              "      <td>[Existentialism, Fiction, Absurdist fiction, N...</td>\n",
              "      <td>The text of The Plague is divided into five p...</td>\n",
              "    </tr>\n",
              "    <tr>\n",
              "      <th>2</th>\n",
              "      <td>2080</td>\n",
              "      <td>A Fire Upon the Deep</td>\n",
              "      <td>[Hard science fiction, Science Fiction, Specul...</td>\n",
              "      <td>The novel posits that space around the Milky ...</td>\n",
              "    </tr>\n",
              "    <tr>\n",
              "      <th>3</th>\n",
              "      <td>2152</td>\n",
              "      <td>All Quiet on the Western Front</td>\n",
              "      <td>[War novel, Roman à clef]</td>\n",
              "      <td>The book tells the story of Paul Bäumer, a Ge...</td>\n",
              "    </tr>\n",
              "    <tr>\n",
              "      <th>4</th>\n",
              "      <td>2890</td>\n",
              "      <td>A Wizard of Earthsea</td>\n",
              "      <td>[Children's literature, Fantasy, Speculative f...</td>\n",
              "      <td>Ged is a young boy on Gont, one of the larger...</td>\n",
              "    </tr>\n",
              "  </tbody>\n",
              "</table>\n",
              "</div>"
            ],
            "text/plain": [
              "   wikipedia_article_id  ...                                            summary\n",
              "0                   843  ...   Alex, a teenager living in near-future Englan...\n",
              "1                   986  ...   The text of The Plague is divided into five p...\n",
              "2                  2080  ...   The novel posits that space around the Milky ...\n",
              "3                  2152  ...   The book tells the story of Paul Bäumer, a Ge...\n",
              "4                  2890  ...   Ged is a young boy on Gont, one of the larger...\n",
              "\n",
              "[5 rows x 4 columns]"
            ]
          },
          "metadata": {
            "tags": []
          },
          "execution_count": 16
        }
      ]
    },
    {
      "cell_type": "markdown",
      "metadata": {
        "id": "e7Iao7c8TuU8",
        "colab_type": "text"
      },
      "source": [
        "### LEMMATIZATION"
      ]
    },
    {
      "cell_type": "code",
      "metadata": {
        "id": "-2U1CPHHt_aX",
        "colab_type": "code",
        "colab": {}
      },
      "source": [
        "def get_wordnet_pos(word):\n",
        "  if word.startswith('V'):\n",
        "    return wordnet.VERB\n",
        "  elif word.startswith('J'):\n",
        "    return wordnet.ADJ\n",
        "  elif word.startswith('N'):\n",
        "    return wordnet.NOUN\n",
        "  elif word.startswith('R'):\n",
        "    return wordnet.ADV      \n",
        "  else: \n",
        "    return wordnet.NOUN\n",
        "\n",
        "def lemmatize_str(x):\n",
        "  #Do not use set because it changes the pos_tags\n",
        "  tokens=word_tokenize(x)\n",
        "  lemmatizer=WordNetLemmatizer()\n",
        "  lem_list=[]\n",
        "  pos_tags=nltk.pos_tag(tokens)\n",
        " \n",
        "  for i in range(0,len(pos_tags)):\n",
        "    lem_list.append(lemmatizer.lemmatize(pos_tags[i][0],pos=get_wordnet_pos(pos_tags[i][1])))  \n",
        "\n",
        "  return ' '.join(lem_list)"
      ],
      "execution_count": 0,
      "outputs": []
    },
    {
      "cell_type": "code",
      "metadata": {
        "id": "KLgRaCXS08dq",
        "colab_type": "code",
        "colab": {
          "base_uri": "https://localhost:8080/",
          "height": 34
        },
        "outputId": "2d03392c-39f8-4fce-8f96-fdf3b8b37b52"
      },
      "source": [
        "sentence = \"The striped bats are living on their feet for best.\"\n",
        "lemmatize_str(sentence)"
      ],
      "execution_count": 18,
      "outputs": [
        {
          "output_type": "execute_result",
          "data": {
            "text/plain": [
              "'The striped bat be live on their foot for best .'"
            ]
          },
          "metadata": {
            "tags": []
          },
          "execution_count": 18
        }
      ]
    },
    {
      "cell_type": "code",
      "metadata": {
        "id": "lFVcsgon3m1l",
        "colab_type": "code",
        "colab": {}
      },
      "source": [
        "books['lemm_summary']=books['summary'].apply(lemmatize_str)"
      ],
      "execution_count": 0,
      "outputs": []
    },
    {
      "cell_type": "code",
      "metadata": {
        "id": "dUf9pY7A4ZN5",
        "colab_type": "code",
        "colab": {
          "base_uri": "https://localhost:8080/",
          "height": 279
        },
        "outputId": "46eab3e7-1269-483a-a949-ae2cb029cb12"
      },
      "source": [
        "books.head()"
      ],
      "execution_count": 20,
      "outputs": [
        {
          "output_type": "execute_result",
          "data": {
            "text/html": [
              "<div>\n",
              "<style scoped>\n",
              "    .dataframe tbody tr th:only-of-type {\n",
              "        vertical-align: middle;\n",
              "    }\n",
              "\n",
              "    .dataframe tbody tr th {\n",
              "        vertical-align: top;\n",
              "    }\n",
              "\n",
              "    .dataframe thead th {\n",
              "        text-align: right;\n",
              "    }\n",
              "</style>\n",
              "<table border=\"1\" class=\"dataframe\">\n",
              "  <thead>\n",
              "    <tr style=\"text-align: right;\">\n",
              "      <th></th>\n",
              "      <th>wikipedia_article_id</th>\n",
              "      <th>book_title</th>\n",
              "      <th>genres</th>\n",
              "      <th>summary</th>\n",
              "      <th>lemm_summary</th>\n",
              "    </tr>\n",
              "  </thead>\n",
              "  <tbody>\n",
              "    <tr>\n",
              "      <th>0</th>\n",
              "      <td>843</td>\n",
              "      <td>A Clockwork Orange</td>\n",
              "      <td>[Science Fiction, Novella, Speculative fiction...</td>\n",
              "      <td>Alex, a teenager living in near-future Englan...</td>\n",
              "      <td>Alex , a teenager living in near-future Englan...</td>\n",
              "    </tr>\n",
              "    <tr>\n",
              "      <th>1</th>\n",
              "      <td>986</td>\n",
              "      <td>The Plague</td>\n",
              "      <td>[Existentialism, Fiction, Absurdist fiction, N...</td>\n",
              "      <td>The text of The Plague is divided into five p...</td>\n",
              "      <td>The text of The Plague be divide into five par...</td>\n",
              "    </tr>\n",
              "    <tr>\n",
              "      <th>2</th>\n",
              "      <td>2080</td>\n",
              "      <td>A Fire Upon the Deep</td>\n",
              "      <td>[Hard science fiction, Science Fiction, Specul...</td>\n",
              "      <td>The novel posits that space around the Milky ...</td>\n",
              "      <td>The novel posit that space around the Milky Wa...</td>\n",
              "    </tr>\n",
              "    <tr>\n",
              "      <th>3</th>\n",
              "      <td>2152</td>\n",
              "      <td>All Quiet on the Western Front</td>\n",
              "      <td>[War novel, Roman à clef]</td>\n",
              "      <td>The book tells the story of Paul Bäumer, a Ge...</td>\n",
              "      <td>The book tell the story of Paul Bäumer , a Ger...</td>\n",
              "    </tr>\n",
              "    <tr>\n",
              "      <th>4</th>\n",
              "      <td>2890</td>\n",
              "      <td>A Wizard of Earthsea</td>\n",
              "      <td>[Children's literature, Fantasy, Speculative f...</td>\n",
              "      <td>Ged is a young boy on Gont, one of the larger...</td>\n",
              "      <td>Ged be a young boy on Gont , one of the large ...</td>\n",
              "    </tr>\n",
              "  </tbody>\n",
              "</table>\n",
              "</div>"
            ],
            "text/plain": [
              "   wikipedia_article_id  ...                                       lemm_summary\n",
              "0                   843  ...  Alex , a teenager living in near-future Englan...\n",
              "1                   986  ...  The text of The Plague be divide into five par...\n",
              "2                  2080  ...  The novel posit that space around the Milky Wa...\n",
              "3                  2152  ...  The book tell the story of Paul Bäumer , a Ger...\n",
              "4                  2890  ...  Ged be a young boy on Gont , one of the large ...\n",
              "\n",
              "[5 rows x 5 columns]"
            ]
          },
          "metadata": {
            "tags": []
          },
          "execution_count": 20
        }
      ]
    },
    {
      "cell_type": "markdown",
      "metadata": {
        "id": "dFzfLXFH6Gqs",
        "colab_type": "text"
      },
      "source": [
        "### CLEANING TEXT \n",
        "\n",
        "    Removing stopwords\n",
        "    Removing punctuations\n",
        "    Keeping only alphabets"
      ]
    },
    {
      "cell_type": "code",
      "metadata": {
        "id": "UZdyovsyQJEo",
        "colab_type": "code",
        "colab": {}
      },
      "source": [
        "def clean_text(text):\n",
        "    # remove backslash-apostrophe and punctuations\n",
        "    text = re.sub(r'[\\[\\],.)(\\!;:-]',' ',text)\n",
        "    text = re.sub(\"\\'s\", \"\", text) \n",
        "    # # # # convert text to lowercase\n",
        "    text = text.lower()  \n",
        "    text=text.split()    \n",
        "    text= [x for x in text if x.isalpha() and x not in stop_words]\n",
        "    # # remove whitespaces \n",
        "    text = ' '.join(text)   \n",
        "    return text"
      ],
      "execution_count": 0,
      "outputs": []
    },
    {
      "cell_type": "code",
      "metadata": {
        "id": "YmSKbBBHYVig",
        "colab_type": "code",
        "colab": {}
      },
      "source": [
        "books['clean_summary']=books['lemm_summary'].apply(clean_text)"
      ],
      "execution_count": 0,
      "outputs": []
    },
    {
      "cell_type": "code",
      "metadata": {
        "id": "NJHlyREplAg8",
        "colab_type": "code",
        "colab": {
          "base_uri": "https://localhost:8080/",
          "height": 279
        },
        "outputId": "fef32e2b-f1f2-4e7b-bd6f-80790f9ddc4c"
      },
      "source": [
        "books.head()"
      ],
      "execution_count": 23,
      "outputs": [
        {
          "output_type": "execute_result",
          "data": {
            "text/html": [
              "<div>\n",
              "<style scoped>\n",
              "    .dataframe tbody tr th:only-of-type {\n",
              "        vertical-align: middle;\n",
              "    }\n",
              "\n",
              "    .dataframe tbody tr th {\n",
              "        vertical-align: top;\n",
              "    }\n",
              "\n",
              "    .dataframe thead th {\n",
              "        text-align: right;\n",
              "    }\n",
              "</style>\n",
              "<table border=\"1\" class=\"dataframe\">\n",
              "  <thead>\n",
              "    <tr style=\"text-align: right;\">\n",
              "      <th></th>\n",
              "      <th>wikipedia_article_id</th>\n",
              "      <th>book_title</th>\n",
              "      <th>genres</th>\n",
              "      <th>summary</th>\n",
              "      <th>lemm_summary</th>\n",
              "      <th>clean_summary</th>\n",
              "    </tr>\n",
              "  </thead>\n",
              "  <tbody>\n",
              "    <tr>\n",
              "      <th>0</th>\n",
              "      <td>843</td>\n",
              "      <td>A Clockwork Orange</td>\n",
              "      <td>[Science Fiction, Novella, Speculative fiction...</td>\n",
              "      <td>Alex, a teenager living in near-future Englan...</td>\n",
              "      <td>Alex , a teenager living in near-future Englan...</td>\n",
              "      <td>alex teenager living near future england lead ...</td>\n",
              "    </tr>\n",
              "    <tr>\n",
              "      <th>1</th>\n",
              "      <td>986</td>\n",
              "      <td>The Plague</td>\n",
              "      <td>[Existentialism, Fiction, Absurdist fiction, N...</td>\n",
              "      <td>The text of The Plague is divided into five p...</td>\n",
              "      <td>The text of The Plague be divide into five par...</td>\n",
              "      <td>text plague divide five part town oran thousan...</td>\n",
              "    </tr>\n",
              "    <tr>\n",
              "      <th>2</th>\n",
              "      <td>2080</td>\n",
              "      <td>A Fire Upon the Deep</td>\n",
              "      <td>[Hard science fiction, Science Fiction, Specul...</td>\n",
              "      <td>The novel posits that space around the Milky ...</td>\n",
              "      <td>The novel posit that space around the Milky Wa...</td>\n",
              "      <td>novel posit space around milky way divide conc...</td>\n",
              "    </tr>\n",
              "    <tr>\n",
              "      <th>3</th>\n",
              "      <td>2152</td>\n",
              "      <td>All Quiet on the Western Front</td>\n",
              "      <td>[War novel, Roman à clef]</td>\n",
              "      <td>The book tells the story of Paul Bäumer, a Ge...</td>\n",
              "      <td>The book tell the story of Paul Bäumer , a Ger...</td>\n",
              "      <td>book tell story paul bäumer german soldier sch...</td>\n",
              "    </tr>\n",
              "    <tr>\n",
              "      <th>4</th>\n",
              "      <td>2890</td>\n",
              "      <td>A Wizard of Earthsea</td>\n",
              "      <td>[Children's literature, Fantasy, Speculative f...</td>\n",
              "      <td>Ged is a young boy on Gont, one of the larger...</td>\n",
              "      <td>Ged be a young boy on Gont , one of the large ...</td>\n",
              "      <td>ged young boy gont one large island north arch...</td>\n",
              "    </tr>\n",
              "  </tbody>\n",
              "</table>\n",
              "</div>"
            ],
            "text/plain": [
              "   wikipedia_article_id  ...                                      clean_summary\n",
              "0                   843  ...  alex teenager living near future england lead ...\n",
              "1                   986  ...  text plague divide five part town oran thousan...\n",
              "2                  2080  ...  novel posit space around milky way divide conc...\n",
              "3                  2152  ...  book tell story paul bäumer german soldier sch...\n",
              "4                  2890  ...  ged young boy gont one large island north arch...\n",
              "\n",
              "[5 rows x 6 columns]"
            ]
          },
          "metadata": {
            "tags": []
          },
          "execution_count": 23
        }
      ]
    },
    {
      "cell_type": "code",
      "metadata": {
        "id": "2-p0Z1DT-Ixf",
        "colab_type": "code",
        "colab": {
          "base_uri": "https://localhost:8080/",
          "height": 34
        },
        "outputId": "c5d88fe2-b0dc-4620-851f-8855c3f01209"
      },
      "source": [
        "len((books['summary'][0]))"
      ],
      "execution_count": 24,
      "outputs": [
        {
          "output_type": "execute_result",
          "data": {
            "text/plain": [
              "6121"
            ]
          },
          "metadata": {
            "tags": []
          },
          "execution_count": 24
        }
      ]
    },
    {
      "cell_type": "code",
      "metadata": {
        "id": "P_l6051w-WGD",
        "colab_type": "code",
        "colab": {
          "base_uri": "https://localhost:8080/",
          "height": 34
        },
        "outputId": "e8daa677-fbc8-4562-f1ac-a2a345f4fece"
      },
      "source": [
        "len(books['clean_summary'][1])"
      ],
      "execution_count": 25,
      "outputs": [
        {
          "output_type": "execute_result",
          "data": {
            "text/plain": [
              "4283"
            ]
          },
          "metadata": {
            "tags": []
          },
          "execution_count": 25
        }
      ]
    },
    {
      "cell_type": "markdown",
      "metadata": {
        "id": "hQxeBp8v66mU",
        "colab_type": "text"
      },
      "source": [
        "# TOPIC MODELLING BASED ON CLEAN AND LEMMATIZED SUMMARY\n",
        "\n",
        "    Taking top 30 topics and 15 words in each of those 20 topics.\n",
        "    Using Tf-idf with max_df=0.40 and min_df=0.05 and applying LDA\n",
        "    on TF-IDF matrix.\n",
        "    Mapping the topics to the relevant books in the dataframe.\n",
        "    We have to interpret the topics on our own."
      ]
    },
    {
      "cell_type": "code",
      "metadata": {
        "id": "mJPfN_hi7evb",
        "colab_type": "code",
        "colab": {}
      },
      "source": [
        "def print_topics(model, vectorizer, n_top_words):\n",
        "    words = vectorizer.get_feature_names()\n",
        "    for topic_idx, topic in enumerate(model.components_):\n",
        "        print(\"Topic #%d:\" % topic_idx)\n",
        "        print(\" \".join([words[i] for i in topic.argsort()[:-n_top_words - 1:-1]]))\n"
      ],
      "execution_count": 0,
      "outputs": []
    },
    {
      "cell_type": "code",
      "metadata": {
        "id": "DCpSEHmT1Y4C",
        "colab_type": "code",
        "colab": {}
      },
      "source": [
        "number_topics = 20\n",
        "number_words = 15\n",
        "def return_topics(model, vectorizer, n_top_words):\n",
        "    words = vectorizer.get_feature_names()\n",
        "    t=[]\n",
        "    for topic_idx, topic in enumerate(model.components_):\n",
        "        t.append(\" \".join([words[i] for i in topic.argsort()[:-n_top_words - 1:-1]]))\n",
        "    return  t"
      ],
      "execution_count": 0,
      "outputs": []
    },
    {
      "cell_type": "code",
      "metadata": {
        "id": "mb8FZbIWDoGh",
        "colab_type": "code",
        "colab": {
          "base_uri": "https://localhost:8080/",
          "height": 706
        },
        "outputId": "fa27ccdd-9e2b-4780-dcaa-27c816ce3012"
      },
      "source": [
        "body_vectorizer = TfidfVectorizer(max_df=0.40,min_df=0.05)\n",
        "body = body_vectorizer.fit_transform(books['clean_summary'])\n",
        "\n",
        "body_lda = LDA(n_components=number_topics, n_jobs=-1)\n",
        "body_lda.fit(body)\n",
        "\n",
        "print(\"Summary Topics:\")\n",
        "print_topics(body_lda, body_vectorizer, number_words)"
      ],
      "execution_count": 28,
      "outputs": [
        {
          "output_type": "stream",
          "text": [
            "Summary Topics:\n",
            "Topic #0:\n",
            "john mr mrs investigate law catch red scene american line united real claim appear ask\n",
            "Topic #1:\n",
            "book chapter novel character story human describe write also life world people society many include\n",
            "Topic #2:\n",
            "miss boy accident money investigate murder search threaten trap kidnap friend wealthy great black area\n",
            "Topic #3:\n",
            "ship planet earth human crew war world space force use new captain system kill destroy\n",
            "Topic #4:\n",
            "family father mother love life child year become marry young daughter son old live novel\n",
            "Topic #5:\n",
            "go tell get house day leave back see come mr say man father boy home\n",
            "Topic #6:\n",
            "drug british arrest animal involve sea dream following kidnap american spend high ship murder free\n",
            "Topic #7:\n",
            "war new sell old discover army threaten world work young american brother may like drive\n",
            "Topic #8:\n",
            "mrs uncle mr london house money old lady cousin marry visit friend young family meet\n",
            "Topic #9:\n",
            "novel character life story book childhood main describe york new write american protagonist early include\n",
            "Topic #10:\n",
            "murder case police kill death investigate crime man woman suspect body agent wife dead work\n",
            "Topic #11:\n",
            "doctor companion investigate ancient planet village london involve discover arrive face land something stop seem\n",
            "Topic #12:\n",
            "novel concern story adventure character war book world set century plot series black first event\n",
            "Topic #13:\n",
            "dog strange hunt story owner ancient mysterious town adventure search involve man friend join set\n",
            "Topic #14:\n",
            "school student teacher girl boy friend class get year old life new go parent story\n",
            "Topic #15:\n",
            "boy trip get friend thing think danger story problem happen show cousin little save steal\n",
            "Topic #16:\n",
            "planet earth world human race creature discover people call new must dream future home ability\n",
            "Topic #17:\n",
            "game play win story series lady brother young murder team investigate involve pursue crime mysterious\n",
            "Topic #18:\n",
            "evil must power dark world powerful ancient enemy force battle god army king secret master\n",
            "Topic #19:\n",
            "king kill return escape go magic attack help back lord city queen leave use tell\n"
          ],
          "name": "stdout"
        }
      ]
    },
    {
      "cell_type": "code",
      "metadata": {
        "id": "kJrdr8P5Q9hI",
        "colab_type": "code",
        "colab": {}
      },
      "source": [
        "body_topics = return_topics(body_lda, body_vectorizer, number_words)"
      ],
      "execution_count": 0,
      "outputs": []
    },
    {
      "cell_type": "code",
      "metadata": {
        "id": "pEYoZtXQVi6_",
        "colab_type": "code",
        "colab": {
          "base_uri": "https://localhost:8080/",
          "height": 34
        },
        "outputId": "0049b966-57ea-4570-8316-612d53aa27b3"
      },
      "source": [
        "body_topics[0]"
      ],
      "execution_count": 30,
      "outputs": [
        {
          "output_type": "execute_result",
          "data": {
            "text/plain": [
              "'john mr mrs investigate law catch red scene american line united real claim appear ask'"
            ]
          },
          "metadata": {
            "tags": []
          },
          "execution_count": 30
        }
      ]
    },
    {
      "cell_type": "code",
      "metadata": {
        "id": "ePDflQEY2CWO",
        "colab_type": "code",
        "colab": {}
      },
      "source": [
        "b_topics = []\n",
        "for b in body:\n",
        "    b_topic = body_topics[np.argmax(body_lda.transform(b))]\n",
        "    b_topics.append(b_topic)"
      ],
      "execution_count": 0,
      "outputs": []
    },
    {
      "cell_type": "code",
      "metadata": {
        "id": "UNf9Yc5-Vy3y",
        "colab_type": "code",
        "colab": {}
      },
      "source": [
        "books['summary_topics'] = b_topics"
      ],
      "execution_count": 0,
      "outputs": []
    },
    {
      "cell_type": "code",
      "metadata": {
        "id": "psIUvEbGWMC9",
        "colab_type": "code",
        "colab": {
          "base_uri": "https://localhost:8080/",
          "height": 34
        },
        "outputId": "280e7d58-63a9-49b6-8953-72df8e6f857a"
      },
      "source": [
        "len(books.summary_topics.unique())"
      ],
      "execution_count": 33,
      "outputs": [
        {
          "output_type": "execute_result",
          "data": {
            "text/plain": [
              "20"
            ]
          },
          "metadata": {
            "tags": []
          },
          "execution_count": 33
        }
      ]
    },
    {
      "cell_type": "code",
      "metadata": {
        "id": "w4cBMIWrWtc8",
        "colab_type": "code",
        "colab": {
          "base_uri": "https://localhost:8080/",
          "height": 363
        },
        "outputId": "dbd29dff-365f-4eff-dc63-c5f6f78d80c0"
      },
      "source": [
        "books.head()"
      ],
      "execution_count": 34,
      "outputs": [
        {
          "output_type": "execute_result",
          "data": {
            "text/html": [
              "<div>\n",
              "<style scoped>\n",
              "    .dataframe tbody tr th:only-of-type {\n",
              "        vertical-align: middle;\n",
              "    }\n",
              "\n",
              "    .dataframe tbody tr th {\n",
              "        vertical-align: top;\n",
              "    }\n",
              "\n",
              "    .dataframe thead th {\n",
              "        text-align: right;\n",
              "    }\n",
              "</style>\n",
              "<table border=\"1\" class=\"dataframe\">\n",
              "  <thead>\n",
              "    <tr style=\"text-align: right;\">\n",
              "      <th></th>\n",
              "      <th>wikipedia_article_id</th>\n",
              "      <th>book_title</th>\n",
              "      <th>genres</th>\n",
              "      <th>summary</th>\n",
              "      <th>lemm_summary</th>\n",
              "      <th>clean_summary</th>\n",
              "      <th>summary_topics</th>\n",
              "    </tr>\n",
              "  </thead>\n",
              "  <tbody>\n",
              "    <tr>\n",
              "      <th>0</th>\n",
              "      <td>843</td>\n",
              "      <td>A Clockwork Orange</td>\n",
              "      <td>[Science Fiction, Novella, Speculative fiction...</td>\n",
              "      <td>Alex, a teenager living in near-future Englan...</td>\n",
              "      <td>Alex , a teenager living in near-future Englan...</td>\n",
              "      <td>alex teenager living near future england lead ...</td>\n",
              "      <td>murder case police kill death investigate crim...</td>\n",
              "    </tr>\n",
              "    <tr>\n",
              "      <th>1</th>\n",
              "      <td>986</td>\n",
              "      <td>The Plague</td>\n",
              "      <td>[Existentialism, Fiction, Absurdist fiction, N...</td>\n",
              "      <td>The text of The Plague is divided into five p...</td>\n",
              "      <td>The text of The Plague be divide into five par...</td>\n",
              "      <td>text plague divide five part town oran thousan...</td>\n",
              "      <td>family father mother love life child year beco...</td>\n",
              "    </tr>\n",
              "    <tr>\n",
              "      <th>2</th>\n",
              "      <td>2080</td>\n",
              "      <td>A Fire Upon the Deep</td>\n",
              "      <td>[Hard science fiction, Science Fiction, Specul...</td>\n",
              "      <td>The novel posits that space around the Milky ...</td>\n",
              "      <td>The novel posit that space around the Milky Wa...</td>\n",
              "      <td>novel posit space around milky way divide conc...</td>\n",
              "      <td>ship planet earth human crew war world space f...</td>\n",
              "    </tr>\n",
              "    <tr>\n",
              "      <th>3</th>\n",
              "      <td>2152</td>\n",
              "      <td>All Quiet on the Western Front</td>\n",
              "      <td>[War novel, Roman à clef]</td>\n",
              "      <td>The book tells the story of Paul Bäumer, a Ge...</td>\n",
              "      <td>The book tell the story of Paul Bäumer , a Ger...</td>\n",
              "      <td>book tell story paul bäumer german soldier sch...</td>\n",
              "      <td>go tell get house day leave back see come mr s...</td>\n",
              "    </tr>\n",
              "    <tr>\n",
              "      <th>4</th>\n",
              "      <td>2890</td>\n",
              "      <td>A Wizard of Earthsea</td>\n",
              "      <td>[Children's literature, Fantasy, Speculative f...</td>\n",
              "      <td>Ged is a young boy on Gont, one of the larger...</td>\n",
              "      <td>Ged be a young boy on Gont , one of the large ...</td>\n",
              "      <td>ged young boy gont one large island north arch...</td>\n",
              "      <td>king kill return escape go magic attack help b...</td>\n",
              "    </tr>\n",
              "  </tbody>\n",
              "</table>\n",
              "</div>"
            ],
            "text/plain": [
              "   wikipedia_article_id  ...                                     summary_topics\n",
              "0                   843  ...  murder case police kill death investigate crim...\n",
              "1                   986  ...  family father mother love life child year beco...\n",
              "2                  2080  ...  ship planet earth human crew war world space f...\n",
              "3                  2152  ...  go tell get house day leave back see come mr s...\n",
              "4                  2890  ...  king kill return escape go magic attack help b...\n",
              "\n",
              "[5 rows x 7 columns]"
            ]
          },
          "metadata": {
            "tags": []
          },
          "execution_count": 34
        }
      ]
    },
    {
      "cell_type": "code",
      "metadata": {
        "id": "0v2tbbzRfNPt",
        "colab_type": "code",
        "colab": {
          "base_uri": "https://localhost:8080/",
          "height": 353
        },
        "outputId": "7390f505-44a1-4c9f-a84b-ebdc352f4398"
      },
      "source": [
        "le=LabelEncoder()\n",
        "le.fit(books.summary_topics)\n",
        "list(le.classes_)"
      ],
      "execution_count": 35,
      "outputs": [
        {
          "output_type": "execute_result",
          "data": {
            "text/plain": [
              "['book chapter novel character story human describe write also life world people society many include',\n",
              " 'boy trip get friend thing think danger story problem happen show cousin little save steal',\n",
              " 'doctor companion investigate ancient planet village london involve discover arrive face land something stop seem',\n",
              " 'dog strange hunt story owner ancient mysterious town adventure search involve man friend join set',\n",
              " 'drug british arrest animal involve sea dream following kidnap american spend high ship murder free',\n",
              " 'evil must power dark world powerful ancient enemy force battle god army king secret master',\n",
              " 'family father mother love life child year become marry young daughter son old live novel',\n",
              " 'game play win story series lady brother young murder team investigate involve pursue crime mysterious',\n",
              " 'go tell get house day leave back see come mr say man father boy home',\n",
              " 'john mr mrs investigate law catch red scene american line united real claim appear ask',\n",
              " 'king kill return escape go magic attack help back lord city queen leave use tell',\n",
              " 'miss boy accident money investigate murder search threaten trap kidnap friend wealthy great black area',\n",
              " 'mrs uncle mr london house money old lady cousin marry visit friend young family meet',\n",
              " 'murder case police kill death investigate crime man woman suspect body agent wife dead work',\n",
              " 'novel character life story book childhood main describe york new write american protagonist early include',\n",
              " 'novel concern story adventure character war book world set century plot series black first event',\n",
              " 'planet earth world human race creature discover people call new must dream future home ability',\n",
              " 'school student teacher girl boy friend class get year old life new go parent story',\n",
              " 'ship planet earth human crew war world space force use new captain system kill destroy',\n",
              " 'war new sell old discover army threaten world work young american brother may like drive']"
            ]
          },
          "metadata": {
            "tags": []
          },
          "execution_count": 35
        }
      ]
    },
    {
      "cell_type": "code",
      "metadata": {
        "id": "1Q-V8jTXid5X",
        "colab_type": "code",
        "colab": {}
      },
      "source": [
        "books['summary_labels']=le.transform(books.summary_topics)"
      ],
      "execution_count": 0,
      "outputs": []
    },
    {
      "cell_type": "code",
      "metadata": {
        "id": "m19_fWKokntY",
        "colab_type": "code",
        "colab": {
          "base_uri": "https://localhost:8080/",
          "height": 380
        },
        "outputId": "da27fe30-1cae-4a21-f0d0-13a9bbbaddea"
      },
      "source": [
        "books.head()"
      ],
      "execution_count": 37,
      "outputs": [
        {
          "output_type": "execute_result",
          "data": {
            "text/html": [
              "<div>\n",
              "<style scoped>\n",
              "    .dataframe tbody tr th:only-of-type {\n",
              "        vertical-align: middle;\n",
              "    }\n",
              "\n",
              "    .dataframe tbody tr th {\n",
              "        vertical-align: top;\n",
              "    }\n",
              "\n",
              "    .dataframe thead th {\n",
              "        text-align: right;\n",
              "    }\n",
              "</style>\n",
              "<table border=\"1\" class=\"dataframe\">\n",
              "  <thead>\n",
              "    <tr style=\"text-align: right;\">\n",
              "      <th></th>\n",
              "      <th>wikipedia_article_id</th>\n",
              "      <th>book_title</th>\n",
              "      <th>genres</th>\n",
              "      <th>summary</th>\n",
              "      <th>lemm_summary</th>\n",
              "      <th>clean_summary</th>\n",
              "      <th>summary_topics</th>\n",
              "      <th>summary_labels</th>\n",
              "    </tr>\n",
              "  </thead>\n",
              "  <tbody>\n",
              "    <tr>\n",
              "      <th>0</th>\n",
              "      <td>843</td>\n",
              "      <td>A Clockwork Orange</td>\n",
              "      <td>[Science Fiction, Novella, Speculative fiction...</td>\n",
              "      <td>Alex, a teenager living in near-future Englan...</td>\n",
              "      <td>Alex , a teenager living in near-future Englan...</td>\n",
              "      <td>alex teenager living near future england lead ...</td>\n",
              "      <td>murder case police kill death investigate crim...</td>\n",
              "      <td>13</td>\n",
              "    </tr>\n",
              "    <tr>\n",
              "      <th>1</th>\n",
              "      <td>986</td>\n",
              "      <td>The Plague</td>\n",
              "      <td>[Existentialism, Fiction, Absurdist fiction, N...</td>\n",
              "      <td>The text of The Plague is divided into five p...</td>\n",
              "      <td>The text of The Plague be divide into five par...</td>\n",
              "      <td>text plague divide five part town oran thousan...</td>\n",
              "      <td>family father mother love life child year beco...</td>\n",
              "      <td>6</td>\n",
              "    </tr>\n",
              "    <tr>\n",
              "      <th>2</th>\n",
              "      <td>2080</td>\n",
              "      <td>A Fire Upon the Deep</td>\n",
              "      <td>[Hard science fiction, Science Fiction, Specul...</td>\n",
              "      <td>The novel posits that space around the Milky ...</td>\n",
              "      <td>The novel posit that space around the Milky Wa...</td>\n",
              "      <td>novel posit space around milky way divide conc...</td>\n",
              "      <td>ship planet earth human crew war world space f...</td>\n",
              "      <td>18</td>\n",
              "    </tr>\n",
              "    <tr>\n",
              "      <th>3</th>\n",
              "      <td>2152</td>\n",
              "      <td>All Quiet on the Western Front</td>\n",
              "      <td>[War novel, Roman à clef]</td>\n",
              "      <td>The book tells the story of Paul Bäumer, a Ge...</td>\n",
              "      <td>The book tell the story of Paul Bäumer , a Ger...</td>\n",
              "      <td>book tell story paul bäumer german soldier sch...</td>\n",
              "      <td>go tell get house day leave back see come mr s...</td>\n",
              "      <td>8</td>\n",
              "    </tr>\n",
              "    <tr>\n",
              "      <th>4</th>\n",
              "      <td>2890</td>\n",
              "      <td>A Wizard of Earthsea</td>\n",
              "      <td>[Children's literature, Fantasy, Speculative f...</td>\n",
              "      <td>Ged is a young boy on Gont, one of the larger...</td>\n",
              "      <td>Ged be a young boy on Gont , one of the large ...</td>\n",
              "      <td>ged young boy gont one large island north arch...</td>\n",
              "      <td>king kill return escape go magic attack help b...</td>\n",
              "      <td>10</td>\n",
              "    </tr>\n",
              "  </tbody>\n",
              "</table>\n",
              "</div>"
            ],
            "text/plain": [
              "   wikipedia_article_id  ... summary_labels\n",
              "0                   843  ...             13\n",
              "1                   986  ...              6\n",
              "2                  2080  ...             18\n",
              "3                  2152  ...              8\n",
              "4                  2890  ...             10\n",
              "\n",
              "[5 rows x 8 columns]"
            ]
          },
          "metadata": {
            "tags": []
          },
          "execution_count": 37
        }
      ]
    },
    {
      "cell_type": "code",
      "metadata": {
        "id": "ovCwG975i7Dc",
        "colab_type": "code",
        "colab": {
          "base_uri": "https://localhost:8080/",
          "height": 370
        },
        "outputId": "b5cfc323-0c05-4a24-a74a-b6f756f3bad5"
      },
      "source": [
        "books['summary_labels'].value_counts()"
      ],
      "execution_count": 38,
      "outputs": [
        {
          "output_type": "execute_result",
          "data": {
            "text/plain": [
              "10    1896\n",
              "18    1800\n",
              "6     1713\n",
              "8     1572\n",
              "13    1318\n",
              "0      675\n",
              "15     427\n",
              "17     409\n",
              "14     382\n",
              "5      359\n",
              "16     172\n",
              "12      83\n",
              "9       39\n",
              "2       32\n",
              "1       24\n",
              "3       20\n",
              "11      14\n",
              "7       13\n",
              "19      10\n",
              "4        4\n",
              "Name: summary_labels, dtype: int64"
            ]
          },
          "metadata": {
            "tags": []
          },
          "execution_count": 38
        }
      ]
    },
    {
      "cell_type": "markdown",
      "metadata": {
        "id": "ZDUq7dZrbKKI",
        "colab_type": "text"
      },
      "source": [
        "# GENRE CLASSIFICATION MODEL: MULTI-LABEL CLASSIFICATION\n",
        "\n",
        "    In the pre-processing part we found that we have 227 unique labels and a  \n",
        "    single entry can have multiple genres. We are now going to analyse how \n",
        "    our summaries are relevant to our genres. \n",
        "    I have used the Multi-Label Binarizer which transforms the multiple genres\n",
        "    in rows with the concept similar to one-hot encoding and then we use \n",
        "    Logistic Regression with One vs Rest Classifier after splitting the data \n",
        "    into training and validation sets, and then tweaked threshold \n",
        "    values of the probabilities model in order to improve the accuracy."
      ]
    },
    {
      "cell_type": "code",
      "metadata": {
        "id": "xI27100ObCO9",
        "colab_type": "code",
        "colab": {}
      },
      "source": [
        "multilabel_binarizer = MultiLabelBinarizer()\n",
        "multilabel_binarizer.fit(books['genres'])\n",
        "# transform target variable\n",
        "y = multilabel_binarizer.transform(books['genres'])"
      ],
      "execution_count": 0,
      "outputs": []
    },
    {
      "cell_type": "code",
      "metadata": {
        "id": "6ks1xRJ00lo_",
        "colab_type": "code",
        "colab": {}
      },
      "source": [
        "xtrain, xval, ytrain, yval = train_test_split(books['clean_summary'], y, test_size=0.2, random_state=9)\n",
        "tfidf_vectorizer = TfidfVectorizer(max_df=0.80,max_features=4000)\n",
        "# create TF-IDF features\n",
        "xtrain_tfidf = tfidf_vectorizer.fit_transform(xtrain)\n",
        "xval_tfidf = tfidf_vectorizer.transform(xval)"
      ],
      "execution_count": 0,
      "outputs": []
    },
    {
      "cell_type": "markdown",
      "metadata": {
        "id": "_J1mRsvtJtJB",
        "colab_type": "text"
      },
      "source": [
        "One vs Rest Classifier:\n",
        "\n",
        "    In an “one-to-rest” strategy, one could build multiple independent \n",
        "    classifiers and, for an unseen instance, choose the class for which the \n",
        "    confidence is maximized.\n",
        "    An intuitive approach to solving multi-label problem is to decompose it\n",
        "    into multiple independent binary classification problems (one per category)."
      ]
    },
    {
      "cell_type": "code",
      "metadata": {
        "id": "ve0NM39U4ccc",
        "colab_type": "code",
        "colab": {
          "base_uri": "https://localhost:8080/",
          "height": 420
        },
        "outputId": "af30154f-2bc4-42b6-d352-7c246bc5a4d9"
      },
      "source": [
        "lr = LogisticRegression()\n",
        "clf = OneVsRestClassifier(lr)\n",
        "clf.fit(xtrain_tfidf, ytrain)\n"
      ],
      "execution_count": 41,
      "outputs": [
        {
          "output_type": "stream",
          "text": [
            "/usr/local/lib/python3.6/dist-packages/sklearn/multiclass.py:75: UserWarning: Label not 9 is present in all training examples.\n",
            "  str(classes[c]))\n",
            "/usr/local/lib/python3.6/dist-packages/sklearn/multiclass.py:75: UserWarning: Label not 38 is present in all training examples.\n",
            "  str(classes[c]))\n",
            "/usr/local/lib/python3.6/dist-packages/sklearn/multiclass.py:75: UserWarning: Label not 75 is present in all training examples.\n",
            "  str(classes[c]))\n",
            "/usr/local/lib/python3.6/dist-packages/sklearn/multiclass.py:75: UserWarning: Label not 105 is present in all training examples.\n",
            "  str(classes[c]))\n",
            "/usr/local/lib/python3.6/dist-packages/sklearn/multiclass.py:75: UserWarning: Label not 108 is present in all training examples.\n",
            "  str(classes[c]))\n",
            "/usr/local/lib/python3.6/dist-packages/sklearn/multiclass.py:75: UserWarning: Label not 111 is present in all training examples.\n",
            "  str(classes[c]))\n",
            "/usr/local/lib/python3.6/dist-packages/sklearn/multiclass.py:75: UserWarning: Label not 149 is present in all training examples.\n",
            "  str(classes[c]))\n"
          ],
          "name": "stderr"
        },
        {
          "output_type": "execute_result",
          "data": {
            "text/plain": [
              "OneVsRestClassifier(estimator=LogisticRegression(C=1.0, class_weight=None,\n",
              "                                                 dual=False, fit_intercept=True,\n",
              "                                                 intercept_scaling=1,\n",
              "                                                 l1_ratio=None, max_iter=100,\n",
              "                                                 multi_class='auto',\n",
              "                                                 n_jobs=None, penalty='l2',\n",
              "                                                 random_state=None,\n",
              "                                                 solver='lbfgs', tol=0.0001,\n",
              "                                                 verbose=0, warm_start=False),\n",
              "                    n_jobs=None)"
            ]
          },
          "metadata": {
            "tags": []
          },
          "execution_count": 41
        }
      ]
    },
    {
      "cell_type": "code",
      "metadata": {
        "id": "Z5U7zfga5Ve7",
        "colab_type": "code",
        "colab": {}
      },
      "source": [
        "y_pred = clf.predict(xval_tfidf)"
      ],
      "execution_count": 0,
      "outputs": []
    },
    {
      "cell_type": "code",
      "metadata": {
        "id": "Cbma3rg36fQJ",
        "colab_type": "code",
        "colab": {
          "base_uri": "https://localhost:8080/",
          "height": 34
        },
        "outputId": "34ee8188-c034-44ff-f4ab-037034b86ac2"
      },
      "source": [
        "# evaluate performance\n",
        "f1_score(yval, y_pred, average=\"micro\")\n"
      ],
      "execution_count": 43,
      "outputs": [
        {
          "output_type": "execute_result",
          "data": {
            "text/plain": [
              "0.4301020408163265"
            ]
          },
          "metadata": {
            "tags": []
          },
          "execution_count": 43
        }
      ]
    },
    {
      "cell_type": "code",
      "metadata": {
        "id": "W1uGJ20mTY11",
        "colab_type": "code",
        "colab": {
          "base_uri": "https://localhost:8080/",
          "height": 34
        },
        "outputId": "7bbda704-f96e-4042-8b44-6ef39630db7d"
      },
      "source": [
        "multilabel_binarizer.inverse_transform(y_pred)[3]"
      ],
      "execution_count": 44,
      "outputs": [
        {
          "output_type": "execute_result",
          "data": {
            "text/plain": [
              "('Fiction',)"
            ]
          },
          "metadata": {
            "tags": []
          },
          "execution_count": 44
        }
      ]
    },
    {
      "cell_type": "code",
      "metadata": {
        "id": "iCsa7nDlTwbG",
        "colab_type": "code",
        "colab": {
          "base_uri": "https://localhost:8080/",
          "height": 101
        },
        "outputId": "345fbe60-6759-4078-b969-54d9bd04cf64"
      },
      "source": [
        "multilabel_binarizer.inverse_transform(yval)[3]"
      ],
      "execution_count": 45,
      "outputs": [
        {
          "output_type": "execute_result",
          "data": {
            "text/plain": [
              "(\"Children's literature\",\n",
              " 'Fantasy',\n",
              " 'Fiction',\n",
              " 'Romance novel',\n",
              " 'Speculative fiction')"
            ]
          },
          "metadata": {
            "tags": []
          },
          "execution_count": 45
        }
      ]
    },
    {
      "cell_type": "code",
      "metadata": {
        "id": "JtmHZD5MUJiL",
        "colab_type": "code",
        "colab": {
          "base_uri": "https://localhost:8080/",
          "height": 34
        },
        "outputId": "76f9f7cf-a8ee-4e5e-988c-69be5b378237"
      },
      "source": [
        "multilabel_binarizer.inverse_transform(y_pred)[10]"
      ],
      "execution_count": 46,
      "outputs": [
        {
          "output_type": "execute_result",
          "data": {
            "text/plain": [
              "('Speculative fiction',)"
            ]
          },
          "metadata": {
            "tags": []
          },
          "execution_count": 46
        }
      ]
    },
    {
      "cell_type": "code",
      "metadata": {
        "id": "vITlTKUBULbE",
        "colab_type": "code",
        "colab": {
          "base_uri": "https://localhost:8080/",
          "height": 34
        },
        "outputId": "aa64b8ff-f81f-4bb9-ae38-eb34c11286a5"
      },
      "source": [
        "multilabel_binarizer.inverse_transform(yval)[10]"
      ],
      "execution_count": 47,
      "outputs": [
        {
          "output_type": "execute_result",
          "data": {
            "text/plain": [
              "('Science Fiction', 'Speculative fiction')"
            ]
          },
          "metadata": {
            "tags": []
          },
          "execution_count": 47
        }
      ]
    },
    {
      "cell_type": "code",
      "metadata": {
        "id": "eZctbfUEXktO",
        "colab_type": "code",
        "colab": {
          "base_uri": "https://localhost:8080/",
          "height": 34
        },
        "outputId": "8397a163-321a-4168-fae1-96a5e15007ef"
      },
      "source": [
        "xval.index[10]"
      ],
      "execution_count": 48,
      "outputs": [
        {
          "output_type": "execute_result",
          "data": {
            "text/plain": [
              "5374"
            ]
          },
          "metadata": {
            "tags": []
          },
          "execution_count": 48
        }
      ]
    },
    {
      "cell_type": "code",
      "metadata": {
        "id": "On62asMUXvK5",
        "colab_type": "code",
        "colab": {
          "base_uri": "https://localhost:8080/",
          "height": 34
        },
        "outputId": "f40bf4e6-bf81-40e9-f8e8-96176d581f64"
      },
      "source": [
        "books.iloc[5374,1]"
      ],
      "execution_count": 51,
      "outputs": [
        {
          "output_type": "execute_result",
          "data": {
            "text/plain": [
              "'Grave Matter'"
            ]
          },
          "metadata": {
            "tags": []
          },
          "execution_count": 51
        }
      ]
    },
    {
      "cell_type": "code",
      "metadata": {
        "id": "5VXuapB07Rr0",
        "colab_type": "code",
        "colab": {}
      },
      "source": [
        "# predict probabilities\n",
        "y_pred_prob = clf.predict_proba(xval_tfidf)\n",
        "t = 0.3 # threshold value\n",
        "y_pred_new = (y_pred_prob >= t).astype(int)"
      ],
      "execution_count": 0,
      "outputs": []
    },
    {
      "cell_type": "code",
      "metadata": {
        "id": "K5qmO7L7UbLR",
        "colab_type": "code",
        "colab": {
          "base_uri": "https://localhost:8080/",
          "height": 34
        },
        "outputId": "0f19bf61-7d73-4d8e-fea2-eedd08fba9fd"
      },
      "source": [
        "# evaluate performance\n",
        "f1_score(yval, y_pred_new, average=\"micro\")"
      ],
      "execution_count": 53,
      "outputs": [
        {
          "output_type": "execute_result",
          "data": {
            "text/plain": [
              "0.5565184626978146"
            ]
          },
          "metadata": {
            "tags": []
          },
          "execution_count": 53
        }
      ]
    },
    {
      "cell_type": "markdown",
      "metadata": {
        "id": "aSeEsfhMK0Jp",
        "colab_type": "text"
      },
      "source": [
        "Accuracy score: 0.52.\n",
        "\n",
        "    The model is not identifyiing all the classes but gives us a fair idea how\n",
        "    the summary is related to the genre. "
      ]
    },
    {
      "cell_type": "code",
      "metadata": {
        "id": "v-_DCuGsY8Fc",
        "colab_type": "code",
        "colab": {
          "base_uri": "https://localhost:8080/",
          "height": 50
        },
        "outputId": "275cd852-df04-4f46-db68-6605120e0166"
      },
      "source": [
        "print(multilabel_binarizer.inverse_transform(y_pred_new)[3])\n",
        "print(multilabel_binarizer.inverse_transform(yval)[3])"
      ],
      "execution_count": 54,
      "outputs": [
        {
          "output_type": "stream",
          "text": [
            "('Fiction', 'Novel', 'Speculative fiction')\n",
            "(\"Children's literature\", 'Fantasy', 'Fiction', 'Romance novel', 'Speculative fiction')\n"
          ],
          "name": "stdout"
        }
      ]
    },
    {
      "cell_type": "code",
      "metadata": {
        "id": "jO1QK9cYWIOF",
        "colab_type": "code",
        "colab": {}
      },
      "source": [
        "def infer_tags(q):\n",
        "    q = lemmatize_str(q)\n",
        "    q = clean_text(q)\n",
        "    q_vec = tfidf_vectorizer.transform([q])\n",
        "    q_pred = clf.predict(q_vec)\n",
        "    return multilabel_binarizer.inverse_transform(q_pred)"
      ],
      "execution_count": 0,
      "outputs": []
    },
    {
      "cell_type": "code",
      "metadata": {
        "id": "SbRdz0eCWKh3",
        "colab_type": "code",
        "colab": {
          "base_uri": "https://localhost:8080/",
          "height": 420
        },
        "outputId": "ca32d313-282c-4daf-97dc-1fad6ea609d1"
      },
      "source": [
        "for i in range(5,11): \n",
        "  k = xval.index[i] \n",
        "  print(\"Book: \", books['book_title'][k], \n",
        "        \"\\nPredicted genre: \", infer_tags(xval[k])), \n",
        "  print(\"Actual genre: \",books['genres'][k], \"\\n\")"
      ],
      "execution_count": 68,
      "outputs": [
        {
          "output_type": "stream",
          "text": [
            "Book:  Shards of Honor \n",
            "Predicted genre:  [('Fiction', 'Science Fiction', 'Speculative fiction')]\n",
            "Actual genre:  ['Science Fiction'] \n",
            "\n",
            "Book:  Brisingr \n",
            "Predicted genre:  [('Fantasy', 'Speculative fiction')]\n",
            "Actual genre:  ['Fantasy', 'Speculative fiction', 'Young adult literature', 'High fantasy'] \n",
            "\n",
            "Book:  Into Thin Air: A Personal Account of the Mt. Everest Disaster \n",
            "Predicted genre:  [()]\n",
            "Actual genre:  ['Non-fiction'] \n",
            "\n",
            "Book:  Pale Gray for Guilt \n",
            "Predicted genre:  [('Fiction',)]\n",
            "Actual genre:  ['Mystery'] \n",
            "\n",
            "Book:  Blood Work \n",
            "Predicted genre:  [('Crime Fiction', 'Fiction', 'Mystery', 'Suspense')]\n",
            "Actual genre:  ['Crime Fiction', 'Novel'] \n",
            "\n",
            "Book:  Grave Matter \n",
            "Predicted genre:  [('Speculative fiction',)]\n",
            "Actual genre:  ['Science Fiction', 'Speculative fiction'] \n",
            "\n"
          ],
          "name": "stdout"
        }
      ]
    },
    {
      "cell_type": "code",
      "metadata": {
        "id": "92u13firegM0",
        "colab_type": "code",
        "colab": {}
      },
      "source": [
        "books['predicted_genre']=books['clean_summary'].apply(infer_tags)"
      ],
      "execution_count": 0,
      "outputs": []
    },
    {
      "cell_type": "code",
      "metadata": {
        "id": "-hODIfl1iLYL",
        "colab_type": "code",
        "colab": {
          "base_uri": "https://localhost:8080/",
          "height": 514
        },
        "outputId": "c6d26e61-8f80-4765-e1da-ef8f29cf0d55"
      },
      "source": [
        "books.head()"
      ],
      "execution_count": 58,
      "outputs": [
        {
          "output_type": "execute_result",
          "data": {
            "text/html": [
              "<div>\n",
              "<style scoped>\n",
              "    .dataframe tbody tr th:only-of-type {\n",
              "        vertical-align: middle;\n",
              "    }\n",
              "\n",
              "    .dataframe tbody tr th {\n",
              "        vertical-align: top;\n",
              "    }\n",
              "\n",
              "    .dataframe thead th {\n",
              "        text-align: right;\n",
              "    }\n",
              "</style>\n",
              "<table border=\"1\" class=\"dataframe\">\n",
              "  <thead>\n",
              "    <tr style=\"text-align: right;\">\n",
              "      <th></th>\n",
              "      <th>wikipedia_article_id</th>\n",
              "      <th>book_title</th>\n",
              "      <th>genres</th>\n",
              "      <th>summary</th>\n",
              "      <th>lemm_summary</th>\n",
              "      <th>clean_summary</th>\n",
              "      <th>summary_topics</th>\n",
              "      <th>summary_labels</th>\n",
              "      <th>predicted_genre</th>\n",
              "    </tr>\n",
              "  </thead>\n",
              "  <tbody>\n",
              "    <tr>\n",
              "      <th>0</th>\n",
              "      <td>843</td>\n",
              "      <td>A Clockwork Orange</td>\n",
              "      <td>[Science Fiction, Novella, Speculative fiction...</td>\n",
              "      <td>Alex, a teenager living in near-future Englan...</td>\n",
              "      <td>Alex , a teenager living in near-future Englan...</td>\n",
              "      <td>alex teenager living near future england lead ...</td>\n",
              "      <td>murder case police kill death investigate crim...</td>\n",
              "      <td>13</td>\n",
              "      <td>[(Fiction,)]</td>\n",
              "    </tr>\n",
              "    <tr>\n",
              "      <th>1</th>\n",
              "      <td>986</td>\n",
              "      <td>The Plague</td>\n",
              "      <td>[Existentialism, Fiction, Absurdist fiction, N...</td>\n",
              "      <td>The text of The Plague is divided into five p...</td>\n",
              "      <td>The text of The Plague be divide into five par...</td>\n",
              "      <td>text plague divide five part town oran thousan...</td>\n",
              "      <td>family father mother love life child year beco...</td>\n",
              "      <td>6</td>\n",
              "      <td>[(Fiction,)]</td>\n",
              "    </tr>\n",
              "    <tr>\n",
              "      <th>2</th>\n",
              "      <td>2080</td>\n",
              "      <td>A Fire Upon the Deep</td>\n",
              "      <td>[Hard science fiction, Science Fiction, Specul...</td>\n",
              "      <td>The novel posits that space around the Milky ...</td>\n",
              "      <td>The novel posit that space around the Milky Wa...</td>\n",
              "      <td>novel posit space around milky way divide conc...</td>\n",
              "      <td>ship planet earth human crew war world space f...</td>\n",
              "      <td>18</td>\n",
              "      <td>[(Fiction, Science Fiction, Speculative fiction)]</td>\n",
              "    </tr>\n",
              "    <tr>\n",
              "      <th>3</th>\n",
              "      <td>2152</td>\n",
              "      <td>All Quiet on the Western Front</td>\n",
              "      <td>[War novel, Roman à clef]</td>\n",
              "      <td>The book tells the story of Paul Bäumer, a Ge...</td>\n",
              "      <td>The book tell the story of Paul Bäumer , a Ger...</td>\n",
              "      <td>book tell story paul bäumer german soldier sch...</td>\n",
              "      <td>go tell get house day leave back see come mr s...</td>\n",
              "      <td>8</td>\n",
              "      <td>[()]</td>\n",
              "    </tr>\n",
              "    <tr>\n",
              "      <th>4</th>\n",
              "      <td>2890</td>\n",
              "      <td>A Wizard of Earthsea</td>\n",
              "      <td>[Children's literature, Fantasy, Speculative f...</td>\n",
              "      <td>Ged is a young boy on Gont, one of the larger...</td>\n",
              "      <td>Ged be a young boy on Gont , one of the large ...</td>\n",
              "      <td>ged young boy gont one large island north arch...</td>\n",
              "      <td>king kill return escape go magic attack help b...</td>\n",
              "      <td>10</td>\n",
              "      <td>[(Children's literature, Fantasy, Speculative ...</td>\n",
              "    </tr>\n",
              "  </tbody>\n",
              "</table>\n",
              "</div>"
            ],
            "text/plain": [
              "   wikipedia_article_id  ...                                    predicted_genre\n",
              "0                   843  ...                                       [(Fiction,)]\n",
              "1                   986  ...                                       [(Fiction,)]\n",
              "2                  2080  ...  [(Fiction, Science Fiction, Speculative fiction)]\n",
              "3                  2152  ...                                               [()]\n",
              "4                  2890  ...  [(Children's literature, Fantasy, Speculative ...\n",
              "\n",
              "[5 rows x 9 columns]"
            ]
          },
          "metadata": {
            "tags": []
          },
          "execution_count": 58
        }
      ]
    },
    {
      "cell_type": "markdown",
      "metadata": {
        "id": "quZMOQoi95nN",
        "colab_type": "text"
      },
      "source": [
        "# NAMED ENTITY RECOGNITION"
      ]
    },
    {
      "cell_type": "code",
      "metadata": {
        "id": "t4mGQ7aqkaG0",
        "colab_type": "code",
        "colab": {
          "base_uri": "https://localhost:8080/",
          "height": 302
        },
        "outputId": "9127fccc-0e35-4944-c91c-c51227efa95b"
      },
      "source": [
        "doc = nlp(books['summary'][0]) \n",
        "\n",
        "ner=[]\n",
        "for ent in doc.ents: \n",
        "    if ent.label_=='NORP' or ent.label_=='GPE' or ent.label_== 'WORK_OF_ART' or ent.label_== 'ORG':\n",
        "      print(ent.text, ent.label_)      "
      ],
      "execution_count": 59,
      "outputs": [
        {
          "output_type": "stream",
          "text": [
            "England GPE\n",
            "Anglo-Russian NORP\n",
            "Nadsat ORG\n",
            "Lovely Ludwig Van WORK_OF_ART\n",
            "the Korova Milkbar ORG\n",
            "A Clockwork Orange WORK_OF_ART\n",
            "Alex ORG\n",
            "Wing GPE\n",
            "Bible WORK_OF_ART\n",
            "Alex ORG\n",
            "Billyboy ORG\n",
            "Alex ORG\n",
            "Alex ORG\n",
            "Alex ORG\n",
            "Alexander ORG\n",
            "Ludovico GPE\n",
            "Alex NORP\n"
          ],
          "name": "stdout"
        }
      ]
    },
    {
      "cell_type": "code",
      "metadata": {
        "id": "HnaTTPtKnu50",
        "colab_type": "code",
        "colab": {
          "base_uri": "https://localhost:8080/",
          "height": 1000
        },
        "outputId": "aa3c457f-0cee-4d05-e6f8-f5daa6d9b1ff"
      },
      "source": [
        "displacy.render(doc, style='ent', jupyter=True, options={'distance': 90})"
      ],
      "execution_count": 60,
      "outputs": [
        {
          "output_type": "display_data",
          "data": {
            "text/html": [
              "<span class=\"tex2jax_ignore\"><div class=\"entities\" style=\"line-height: 2.5; direction: ltr\"> \n",
              "<mark class=\"entity\" style=\"background: #aa9cfc; padding: 0.45em 0.6em; margin: 0 0.25em; line-height: 1; border-radius: 0.35em;\">\n",
              "    Alex\n",
              "    <span style=\"font-size: 0.8em; font-weight: bold; line-height: 1; border-radius: 0.35em; text-transform: uppercase; vertical-align: middle; margin-left: 0.5rem\">PERSON</span>\n",
              "</mark>\n",
              ", a teenager living in near-future \n",
              "<mark class=\"entity\" style=\"background: #feca74; padding: 0.45em 0.6em; margin: 0 0.25em; line-height: 1; border-radius: 0.35em;\">\n",
              "    England\n",
              "    <span style=\"font-size: 0.8em; font-weight: bold; line-height: 1; border-radius: 0.35em; text-transform: uppercase; vertical-align: middle; margin-left: 0.5rem\">GPE</span>\n",
              "</mark>\n",
              ", leads his gang on nightly orgies of opportunistic, random &quot;ultra-violence.&quot; \n",
              "<mark class=\"entity\" style=\"background: #aa9cfc; padding: 0.45em 0.6em; margin: 0 0.25em; line-height: 1; border-radius: 0.35em;\">\n",
              "    Alex\n",
              "    <span style=\"font-size: 0.8em; font-weight: bold; line-height: 1; border-radius: 0.35em; text-transform: uppercase; vertical-align: middle; margin-left: 0.5rem\">PERSON</span>\n",
              "</mark>\n",
              "'s friends (&quot;droogs&quot; in the novel's \n",
              "<mark class=\"entity\" style=\"background: #c887fb; padding: 0.45em 0.6em; margin: 0 0.25em; line-height: 1; border-radius: 0.35em;\">\n",
              "    Anglo-Russian\n",
              "    <span style=\"font-size: 0.8em; font-weight: bold; line-height: 1; border-radius: 0.35em; text-transform: uppercase; vertical-align: middle; margin-left: 0.5rem\">NORP</span>\n",
              "</mark>\n",
              " slang, \n",
              "<mark class=\"entity\" style=\"background: #7aecec; padding: 0.45em 0.6em; margin: 0 0.25em; line-height: 1; border-radius: 0.35em;\">\n",
              "    Nadsat\n",
              "    <span style=\"font-size: 0.8em; font-weight: bold; line-height: 1; border-radius: 0.35em; text-transform: uppercase; vertical-align: middle; margin-left: 0.5rem\">ORG</span>\n",
              "</mark>\n",
              ") are: \n",
              "<mark class=\"entity\" style=\"background: #aa9cfc; padding: 0.45em 0.6em; margin: 0 0.25em; line-height: 1; border-radius: 0.35em;\">\n",
              "    Dim\n",
              "    <span style=\"font-size: 0.8em; font-weight: bold; line-height: 1; border-radius: 0.35em; text-transform: uppercase; vertical-align: middle; margin-left: 0.5rem\">PERSON</span>\n",
              "</mark>\n",
              ", a slow-witted bruiser who is the gang's muscle; \n",
              "<mark class=\"entity\" style=\"background: #aa9cfc; padding: 0.45em 0.6em; margin: 0 0.25em; line-height: 1; border-radius: 0.35em;\">\n",
              "    Georgie\n",
              "    <span style=\"font-size: 0.8em; font-weight: bold; line-height: 1; border-radius: 0.35em; text-transform: uppercase; vertical-align: middle; margin-left: 0.5rem\">PERSON</span>\n",
              "</mark>\n",
              ", an ambitious \n",
              "<mark class=\"entity\" style=\"background: #e4e7d2; padding: 0.45em 0.6em; margin: 0 0.25em; line-height: 1; border-radius: 0.35em;\">\n",
              "    second\n",
              "    <span style=\"font-size: 0.8em; font-weight: bold; line-height: 1; border-radius: 0.35em; text-transform: uppercase; vertical-align: middle; margin-left: 0.5rem\">ORDINAL</span>\n",
              "</mark>\n",
              "-in-command; and \n",
              "<mark class=\"entity\" style=\"background: #aa9cfc; padding: 0.45em 0.6em; margin: 0 0.25em; line-height: 1; border-radius: 0.35em;\">\n",
              "    Pete\n",
              "    <span style=\"font-size: 0.8em; font-weight: bold; line-height: 1; border-radius: 0.35em; text-transform: uppercase; vertical-align: middle; margin-left: 0.5rem\">PERSON</span>\n",
              "</mark>\n",
              ", who mostly plays along as the droogs indulge their taste for ultra-violence. Characterized as a sociopath and a hardened juvenile delinquent, \n",
              "<mark class=\"entity\" style=\"background: #aa9cfc; padding: 0.45em 0.6em; margin: 0 0.25em; line-height: 1; border-radius: 0.35em;\">\n",
              "    Alex\n",
              "    <span style=\"font-size: 0.8em; font-weight: bold; line-height: 1; border-radius: 0.35em; text-transform: uppercase; vertical-align: middle; margin-left: 0.5rem\">PERSON</span>\n",
              "</mark>\n",
              " is also intelligent and quick-witted, with sophisticated taste in music, being particularly fond of \n",
              "<mark class=\"entity\" style=\"background: #aa9cfc; padding: 0.45em 0.6em; margin: 0 0.25em; line-height: 1; border-radius: 0.35em;\">\n",
              "    Beethoven\n",
              "    <span style=\"font-size: 0.8em; font-weight: bold; line-height: 1; border-radius: 0.35em; text-transform: uppercase; vertical-align: middle; margin-left: 0.5rem\">PERSON</span>\n",
              "</mark>\n",
              ", or &quot;\n",
              "<mark class=\"entity\" style=\"background: #f0d0ff; padding: 0.45em 0.6em; margin: 0 0.25em; line-height: 1; border-radius: 0.35em;\">\n",
              "    Lovely Ludwig Van\n",
              "    <span style=\"font-size: 0.8em; font-weight: bold; line-height: 1; border-radius: 0.35em; text-transform: uppercase; vertical-align: middle; margin-left: 0.5rem\">WORK_OF_ART</span>\n",
              "</mark>\n",
              ".&quot; The novel begins with the droogs sitting in their favorite hangout (\n",
              "<mark class=\"entity\" style=\"background: #7aecec; padding: 0.45em 0.6em; margin: 0 0.25em; line-height: 1; border-radius: 0.35em;\">\n",
              "    the Korova Milkbar\n",
              "    <span style=\"font-size: 0.8em; font-weight: bold; line-height: 1; border-radius: 0.35em; text-transform: uppercase; vertical-align: middle; margin-left: 0.5rem\">ORG</span>\n",
              "</mark>\n",
              "), drinking milk-drug cocktails, called &quot;milk-plus&quot;, to hype themselves for the \n",
              "<mark class=\"entity\" style=\"background: #bfe1d9; padding: 0.45em 0.6em; margin: 0 0.25em; line-height: 1; border-radius: 0.35em;\">\n",
              "    night\n",
              "    <span style=\"font-size: 0.8em; font-weight: bold; line-height: 1; border-radius: 0.35em; text-transform: uppercase; vertical-align: middle; margin-left: 0.5rem\">TIME</span>\n",
              "</mark>\n",
              "'s mayhem. They assault a scholar walking home from the public library, rob a store leaving the owner and his wife bloodied and unconscious, stomp a panhandling derelict, then scuffle with a rival gang. Joyriding through the countryside in a stolen car, they break into an isolated cottage and maul the young couple living there, beating the husband and raping his wife. In a metafictional touch, the husband is a writer working on a manuscript called &quot;\n",
              "<mark class=\"entity\" style=\"background: #f0d0ff; padding: 0.45em 0.6em; margin: 0 0.25em; line-height: 1; border-radius: 0.35em;\">\n",
              "    A Clockwork Orange\n",
              "    <span style=\"font-size: 0.8em; font-weight: bold; line-height: 1; border-radius: 0.35em; text-transform: uppercase; vertical-align: middle; margin-left: 0.5rem\">WORK_OF_ART</span>\n",
              "</mark>\n",
              ",&quot; and \n",
              "<mark class=\"entity\" style=\"background: #aa9cfc; padding: 0.45em 0.6em; margin: 0 0.25em; line-height: 1; border-radius: 0.35em;\">\n",
              "    Alex\n",
              "    <span style=\"font-size: 0.8em; font-weight: bold; line-height: 1; border-radius: 0.35em; text-transform: uppercase; vertical-align: middle; margin-left: 0.5rem\">PERSON</span>\n",
              "</mark>\n",
              " contemptuously reads out a paragraph that states the novel's main theme before shredding the manuscript. Back at the milk bar, \n",
              "<mark class=\"entity\" style=\"background: #aa9cfc; padding: 0.45em 0.6em; margin: 0 0.25em; line-height: 1; border-radius: 0.35em;\">\n",
              "    Alex punishes Dim\n",
              "    <span style=\"font-size: 0.8em; font-weight: bold; line-height: 1; border-radius: 0.35em; text-transform: uppercase; vertical-align: middle; margin-left: 0.5rem\">PERSON</span>\n",
              "</mark>\n",
              " for some crude behaviour, and strains within the gang become apparent. At home in his dreary flat, \n",
              "<mark class=\"entity\" style=\"background: #aa9cfc; padding: 0.45em 0.6em; margin: 0 0.25em; line-height: 1; border-radius: 0.35em;\">\n",
              "    Alex\n",
              "    <span style=\"font-size: 0.8em; font-weight: bold; line-height: 1; border-radius: 0.35em; text-transform: uppercase; vertical-align: middle; margin-left: 0.5rem\">PERSON</span>\n",
              "</mark>\n",
              " plays classical music at top volume while fantasizing of even more orgiastic violence. Alex skips school \n",
              "<mark class=\"entity\" style=\"background: #bfe1d9; padding: 0.45em 0.6em; margin: 0 0.25em; line-height: 1; border-radius: 0.35em;\">\n",
              "    the next day\n",
              "    <span style=\"font-size: 0.8em; font-weight: bold; line-height: 1; border-radius: 0.35em; text-transform: uppercase; vertical-align: middle; margin-left: 0.5rem\">DATE</span>\n",
              "</mark>\n",
              ". Following an unexpected visit from \n",
              "<mark class=\"entity\" style=\"background: #aa9cfc; padding: 0.45em 0.6em; margin: 0 0.25em; line-height: 1; border-radius: 0.35em;\">\n",
              "    P.R. Deltoid\n",
              "    <span style=\"font-size: 0.8em; font-weight: bold; line-height: 1; border-radius: 0.35em; text-transform: uppercase; vertical-align: middle; margin-left: 0.5rem\">PERSON</span>\n",
              "</mark>\n",
              ", his &quot;post-corrective advisor,&quot; \n",
              "<mark class=\"entity\" style=\"background: #7aecec; padding: 0.45em 0.6em; margin: 0 0.25em; line-height: 1; border-radius: 0.35em;\">\n",
              "    Alex\n",
              "    <span style=\"font-size: 0.8em; font-weight: bold; line-height: 1; border-radius: 0.35em; text-transform: uppercase; vertical-align: middle; margin-left: 0.5rem\">ORG</span>\n",
              "</mark>\n",
              " meets a pair of \n",
              "<mark class=\"entity\" style=\"background: #bfe1d9; padding: 0.45em 0.6em; margin: 0 0.25em; line-height: 1; border-radius: 0.35em;\">\n",
              "    ten-year-old\n",
              "    <span style=\"font-size: 0.8em; font-weight: bold; line-height: 1; border-radius: 0.35em; text-transform: uppercase; vertical-align: middle; margin-left: 0.5rem\">DATE</span>\n",
              "</mark>\n",
              " girls and takes them back to his parents' flat, where he administers hard drugs and then rapes them. \n",
              "<mark class=\"entity\" style=\"background: #bfe1d9; padding: 0.45em 0.6em; margin: 0 0.25em; line-height: 1; border-radius: 0.35em;\">\n",
              "    That evening\n",
              "    <span style=\"font-size: 0.8em; font-weight: bold; line-height: 1; border-radius: 0.35em; text-transform: uppercase; vertical-align: middle; margin-left: 0.5rem\">TIME</span>\n",
              "</mark>\n",
              ", \n",
              "<mark class=\"entity\" style=\"background: #aa9cfc; padding: 0.45em 0.6em; margin: 0 0.25em; line-height: 1; border-radius: 0.35em;\">\n",
              "    Alex\n",
              "    <span style=\"font-size: 0.8em; font-weight: bold; line-height: 1; border-radius: 0.35em; text-transform: uppercase; vertical-align: middle; margin-left: 0.5rem\">PERSON</span>\n",
              "</mark>\n",
              " finds his droogs in a mutinous mood. \n",
              "<mark class=\"entity\" style=\"background: #aa9cfc; padding: 0.45em 0.6em; margin: 0 0.25em; line-height: 1; border-radius: 0.35em;\">\n",
              "    Georgie\n",
              "    <span style=\"font-size: 0.8em; font-weight: bold; line-height: 1; border-radius: 0.35em; text-transform: uppercase; vertical-align: middle; margin-left: 0.5rem\">PERSON</span>\n",
              "</mark>\n",
              " challenges \n",
              "<mark class=\"entity\" style=\"background: #aa9cfc; padding: 0.45em 0.6em; margin: 0 0.25em; line-height: 1; border-radius: 0.35em;\">\n",
              "    Alex\n",
              "    <span style=\"font-size: 0.8em; font-weight: bold; line-height: 1; border-radius: 0.35em; text-transform: uppercase; vertical-align: middle; margin-left: 0.5rem\">PERSON</span>\n",
              "</mark>\n",
              " for leadership of the gang, demanding that they pull a &quot;man-sized&quot; job. \n",
              "<mark class=\"entity\" style=\"background: #aa9cfc; padding: 0.45em 0.6em; margin: 0 0.25em; line-height: 1; border-radius: 0.35em;\">\n",
              "    Alex\n",
              "    <span style=\"font-size: 0.8em; font-weight: bold; line-height: 1; border-radius: 0.35em; text-transform: uppercase; vertical-align: middle; margin-left: 0.5rem\">PERSON</span>\n",
              "</mark>\n",
              " quells the rebellion by slashing \n",
              "<mark class=\"entity\" style=\"background: #aa9cfc; padding: 0.45em 0.6em; margin: 0 0.25em; line-height: 1; border-radius: 0.35em;\">\n",
              "    Dim\n",
              "    <span style=\"font-size: 0.8em; font-weight: bold; line-height: 1; border-radius: 0.35em; text-transform: uppercase; vertical-align: middle; margin-left: 0.5rem\">PERSON</span>\n",
              "</mark>\n",
              "'s hand and fighting with \n",
              "<mark class=\"entity\" style=\"background: #aa9cfc; padding: 0.45em 0.6em; margin: 0 0.25em; line-height: 1; border-radius: 0.35em;\">\n",
              "    Georgie\n",
              "    <span style=\"font-size: 0.8em; font-weight: bold; line-height: 1; border-radius: 0.35em; text-transform: uppercase; vertical-align: middle; margin-left: 0.5rem\">PERSON</span>\n",
              "</mark>\n",
              ", then in a show of generosity takes them to a bar, where \n",
              "<mark class=\"entity\" style=\"background: #aa9cfc; padding: 0.45em 0.6em; margin: 0 0.25em; line-height: 1; border-radius: 0.35em;\">\n",
              "    Alex\n",
              "    <span style=\"font-size: 0.8em; font-weight: bold; line-height: 1; border-radius: 0.35em; text-transform: uppercase; vertical-align: middle; margin-left: 0.5rem\">PERSON</span>\n",
              "</mark>\n",
              " insists on following through on \n",
              "<mark class=\"entity\" style=\"background: #aa9cfc; padding: 0.45em 0.6em; margin: 0 0.25em; line-height: 1; border-radius: 0.35em;\">\n",
              "    Georgie\n",
              "    <span style=\"font-size: 0.8em; font-weight: bold; line-height: 1; border-radius: 0.35em; text-transform: uppercase; vertical-align: middle; margin-left: 0.5rem\">PERSON</span>\n",
              "</mark>\n",
              "'s idea to burgle the home of a wealthy old woman. The break-in starts as farce and ends in tragic pathos, as \n",
              "<mark class=\"entity\" style=\"background: #aa9cfc; padding: 0.45em 0.6em; margin: 0 0.25em; line-height: 1; border-radius: 0.35em;\">\n",
              "    Alex\n",
              "    <span style=\"font-size: 0.8em; font-weight: bold; line-height: 1; border-radius: 0.35em; text-transform: uppercase; vertical-align: middle; margin-left: 0.5rem\">PERSON</span>\n",
              "</mark>\n",
              "'s attack kills the elderly woman. His escape is blocked by \n",
              "<mark class=\"entity\" style=\"background: #aa9cfc; padding: 0.45em 0.6em; margin: 0 0.25em; line-height: 1; border-radius: 0.35em;\">\n",
              "    Dim\n",
              "    <span style=\"font-size: 0.8em; font-weight: bold; line-height: 1; border-radius: 0.35em; text-transform: uppercase; vertical-align: middle; margin-left: 0.5rem\">PERSON</span>\n",
              "</mark>\n",
              ", who attacks \n",
              "<mark class=\"entity\" style=\"background: #aa9cfc; padding: 0.45em 0.6em; margin: 0 0.25em; line-height: 1; border-radius: 0.35em;\">\n",
              "    Alex\n",
              "    <span style=\"font-size: 0.8em; font-weight: bold; line-height: 1; border-radius: 0.35em; text-transform: uppercase; vertical-align: middle; margin-left: 0.5rem\">PERSON</span>\n",
              "</mark>\n",
              ", leaving him incapacitated on the front step as the police arrive. Sentenced to prison for murder, \n",
              "<mark class=\"entity\" style=\"background: #aa9cfc; padding: 0.45em 0.6em; margin: 0 0.25em; line-height: 1; border-radius: 0.35em;\">\n",
              "    Alex\n",
              "    <span style=\"font-size: 0.8em; font-weight: bold; line-height: 1; border-radius: 0.35em; text-transform: uppercase; vertical-align: middle; margin-left: 0.5rem\">PERSON</span>\n",
              "</mark>\n",
              " gets a job at the \n",
              "<mark class=\"entity\" style=\"background: #feca74; padding: 0.45em 0.6em; margin: 0 0.25em; line-height: 1; border-radius: 0.35em;\">\n",
              "    Wing\n",
              "    <span style=\"font-size: 0.8em; font-weight: bold; line-height: 1; border-radius: 0.35em; text-transform: uppercase; vertical-align: middle; margin-left: 0.5rem\">GPE</span>\n",
              "</mark>\n",
              " chapel playing religious music on the stereo before and after services as well as during the singing of hymns. The prison chaplain mistakes \n",
              "<mark class=\"entity\" style=\"background: #aa9cfc; padding: 0.45em 0.6em; margin: 0 0.25em; line-height: 1; border-radius: 0.35em;\">\n",
              "    Alex\n",
              "    <span style=\"font-size: 0.8em; font-weight: bold; line-height: 1; border-radius: 0.35em; text-transform: uppercase; vertical-align: middle; margin-left: 0.5rem\">PERSON</span>\n",
              "</mark>\n",
              "'s \n",
              "<mark class=\"entity\" style=\"background: #f0d0ff; padding: 0.45em 0.6em; margin: 0 0.25em; line-height: 1; border-radius: 0.35em;\">\n",
              "    Bible\n",
              "    <span style=\"font-size: 0.8em; font-weight: bold; line-height: 1; border-radius: 0.35em; text-transform: uppercase; vertical-align: middle; margin-left: 0.5rem\">WORK_OF_ART</span>\n",
              "</mark>\n",
              " studies for stirrings of faith (\n",
              "<mark class=\"entity\" style=\"background: #aa9cfc; padding: 0.45em 0.6em; margin: 0 0.25em; line-height: 1; border-radius: 0.35em;\">\n",
              "    Alex\n",
              "    <span style=\"font-size: 0.8em; font-weight: bold; line-height: 1; border-radius: 0.35em; text-transform: uppercase; vertical-align: middle; margin-left: 0.5rem\">PERSON</span>\n",
              "</mark>\n",
              " is actually reading Scripture for the violent passages). After \n",
              "<mark class=\"entity\" style=\"background: #aa9cfc; padding: 0.45em 0.6em; margin: 0 0.25em; line-height: 1; border-radius: 0.35em;\">\n",
              "    Alex\n",
              "    <span style=\"font-size: 0.8em; font-weight: bold; line-height: 1; border-radius: 0.35em; text-transform: uppercase; vertical-align: middle; margin-left: 0.5rem\">PERSON</span>\n",
              "</mark>\n",
              "'s fellow cellmates blame him for beating a troublesome cellmate to death, he agrees to undergo an experimental behaviour-modification treatment called \n",
              "<mark class=\"entity\" style=\"background: #ddd; padding: 0.45em 0.6em; margin: 0 0.25em; line-height: 1; border-radius: 0.35em;\">\n",
              "    the Ludovico Technique\n",
              "    <span style=\"font-size: 0.8em; font-weight: bold; line-height: 1; border-radius: 0.35em; text-transform: uppercase; vertical-align: middle; margin-left: 0.5rem\">FAC</span>\n",
              "</mark>\n",
              ". The technique is a form of aversion therapy in which \n",
              "<mark class=\"entity\" style=\"background: #7aecec; padding: 0.45em 0.6em; margin: 0 0.25em; line-height: 1; border-radius: 0.35em;\">\n",
              "    Alex\n",
              "    <span style=\"font-size: 0.8em; font-weight: bold; line-height: 1; border-radius: 0.35em; text-transform: uppercase; vertical-align: middle; margin-left: 0.5rem\">ORG</span>\n",
              "</mark>\n",
              " receives an injection that makes him feel sick while watching graphically violent films, eventually conditioning him to suffer crippling bouts of nausea at the mere thought of violence. As an unintended consequence, the soundtrack to \n",
              "<mark class=\"entity\" style=\"background: #e4e7d2; padding: 0.45em 0.6em; margin: 0 0.25em; line-height: 1; border-radius: 0.35em;\">\n",
              "    one\n",
              "    <span style=\"font-size: 0.8em; font-weight: bold; line-height: 1; border-radius: 0.35em; text-transform: uppercase; vertical-align: middle; margin-left: 0.5rem\">CARDINAL</span>\n",
              "</mark>\n",
              " of the films—\n",
              "<mark class=\"entity\" style=\"background: #aa9cfc; padding: 0.45em 0.6em; margin: 0 0.25em; line-height: 1; border-radius: 0.35em;\">\n",
              "    Beethoven\n",
              "    <span style=\"font-size: 0.8em; font-weight: bold; line-height: 1; border-radius: 0.35em; text-transform: uppercase; vertical-align: middle; margin-left: 0.5rem\">PERSON</span>\n",
              "</mark>\n",
              "'s Fifth Symphony—renders \n",
              "<mark class=\"entity\" style=\"background: #aa9cfc; padding: 0.45em 0.6em; margin: 0 0.25em; line-height: 1; border-radius: 0.35em;\">\n",
              "    Alex\n",
              "    <span style=\"font-size: 0.8em; font-weight: bold; line-height: 1; border-radius: 0.35em; text-transform: uppercase; vertical-align: middle; margin-left: 0.5rem\">PERSON</span>\n",
              "</mark>\n",
              " unable to listen to his beloved classical music. The effectiveness of the technique is demonstrated to a group of VIPs, who watch as \n",
              "<mark class=\"entity\" style=\"background: #aa9cfc; padding: 0.45em 0.6em; margin: 0 0.25em; line-height: 1; border-radius: 0.35em;\">\n",
              "    Alex\n",
              "    <span style=\"font-size: 0.8em; font-weight: bold; line-height: 1; border-radius: 0.35em; text-transform: uppercase; vertical-align: middle; margin-left: 0.5rem\">PERSON</span>\n",
              "</mark>\n",
              " collapses before a walloping bully, and abases himself before a scantily-clad young woman whose presence has aroused his predatory sexual inclinations. Though the prison chaplain accuses the state of stripping \n",
              "<mark class=\"entity\" style=\"background: #aa9cfc; padding: 0.45em 0.6em; margin: 0 0.25em; line-height: 1; border-radius: 0.35em;\">\n",
              "    Alex\n",
              "    <span style=\"font-size: 0.8em; font-weight: bold; line-height: 1; border-radius: 0.35em; text-transform: uppercase; vertical-align: middle; margin-left: 0.5rem\">PERSON</span>\n",
              "</mark>\n",
              " of free will, the government officials on the scene are pleased with the results and \n",
              "<mark class=\"entity\" style=\"background: #aa9cfc; padding: 0.45em 0.6em; margin: 0 0.25em; line-height: 1; border-radius: 0.35em;\">\n",
              "    Alex\n",
              "    <span style=\"font-size: 0.8em; font-weight: bold; line-height: 1; border-radius: 0.35em; text-transform: uppercase; vertical-align: middle; margin-left: 0.5rem\">PERSON</span>\n",
              "</mark>\n",
              " is released into society. Since his parents are now renting his room to a lodger, \n",
              "<mark class=\"entity\" style=\"background: #aa9cfc; padding: 0.45em 0.6em; margin: 0 0.25em; line-height: 1; border-radius: 0.35em;\">\n",
              "    Alex\n",
              "    <span style=\"font-size: 0.8em; font-weight: bold; line-height: 1; border-radius: 0.35em; text-transform: uppercase; vertical-align: middle; margin-left: 0.5rem\">PERSON</span>\n",
              "</mark>\n",
              " wanders the streets and enters a public library where he hopes to learn a painless way to commit suicide. There, he accidentally encounters the old scholar he assaulted earlier in the book, who, keen on revenge, beats \n",
              "<mark class=\"entity\" style=\"background: #aa9cfc; padding: 0.45em 0.6em; margin: 0 0.25em; line-height: 1; border-radius: 0.35em;\">\n",
              "    Alex\n",
              "    <span style=\"font-size: 0.8em; font-weight: bold; line-height: 1; border-radius: 0.35em; text-transform: uppercase; vertical-align: middle; margin-left: 0.5rem\">PERSON</span>\n",
              "</mark>\n",
              " with the help of his friends. The policemen who come to \n",
              "<mark class=\"entity\" style=\"background: #aa9cfc; padding: 0.45em 0.6em; margin: 0 0.25em; line-height: 1; border-radius: 0.35em;\">\n",
              "    Alex\n",
              "    <span style=\"font-size: 0.8em; font-weight: bold; line-height: 1; border-radius: 0.35em; text-transform: uppercase; vertical-align: middle; margin-left: 0.5rem\">PERSON</span>\n",
              "</mark>\n",
              "'s rescue turn out to be none other than \n",
              "<mark class=\"entity\" style=\"background: #aa9cfc; padding: 0.45em 0.6em; margin: 0 0.25em; line-height: 1; border-radius: 0.35em;\">\n",
              "    Dim\n",
              "    <span style=\"font-size: 0.8em; font-weight: bold; line-height: 1; border-radius: 0.35em; text-transform: uppercase; vertical-align: middle; margin-left: 0.5rem\">PERSON</span>\n",
              "</mark>\n",
              " and former gang rival \n",
              "<mark class=\"entity\" style=\"background: #7aecec; padding: 0.45em 0.6em; margin: 0 0.25em; line-height: 1; border-radius: 0.35em;\">\n",
              "    Billyboy\n",
              "    <span style=\"font-size: 0.8em; font-weight: bold; line-height: 1; border-radius: 0.35em; text-transform: uppercase; vertical-align: middle; margin-left: 0.5rem\">ORG</span>\n",
              "</mark>\n",
              ". The \n",
              "<mark class=\"entity\" style=\"background: #e4e7d2; padding: 0.45em 0.6em; margin: 0 0.25em; line-height: 1; border-radius: 0.35em;\">\n",
              "    two\n",
              "    <span style=\"font-size: 0.8em; font-weight: bold; line-height: 1; border-radius: 0.35em; text-transform: uppercase; vertical-align: middle; margin-left: 0.5rem\">CARDINAL</span>\n",
              "</mark>\n",
              " policemen take \n",
              "<mark class=\"entity\" style=\"background: #7aecec; padding: 0.45em 0.6em; margin: 0 0.25em; line-height: 1; border-radius: 0.35em;\">\n",
              "    Alex\n",
              "    <span style=\"font-size: 0.8em; font-weight: bold; line-height: 1; border-radius: 0.35em; text-transform: uppercase; vertical-align: middle; margin-left: 0.5rem\">ORG</span>\n",
              "</mark>\n",
              " outside of town and beat him up. Dazed and bloodied, \n",
              "<mark class=\"entity\" style=\"background: #aa9cfc; padding: 0.45em 0.6em; margin: 0 0.25em; line-height: 1; border-radius: 0.35em;\">\n",
              "    Alex\n",
              "    <span style=\"font-size: 0.8em; font-weight: bold; line-height: 1; border-radius: 0.35em; text-transform: uppercase; vertical-align: middle; margin-left: 0.5rem\">PERSON</span>\n",
              "</mark>\n",
              " collapses at the door of an isolated cottage, realizing too late that it is the house he and his droogs invaded in \n",
              "<mark class=\"entity\" style=\"background: #bfe1d9; padding: 0.45em 0.6em; margin: 0 0.25em; line-height: 1; border-radius: 0.35em;\">\n",
              "    the first half\n",
              "    <span style=\"font-size: 0.8em; font-weight: bold; line-height: 1; border-radius: 0.35em; text-transform: uppercase; vertical-align: middle; margin-left: 0.5rem\">DATE</span>\n",
              "</mark>\n",
              " of the story. Because the gang wore masks during the assault, the writer does not recognize \n",
              "<mark class=\"entity\" style=\"background: #7aecec; padding: 0.45em 0.6em; margin: 0 0.25em; line-height: 1; border-radius: 0.35em;\">\n",
              "    Alex\n",
              "    <span style=\"font-size: 0.8em; font-weight: bold; line-height: 1; border-radius: 0.35em; text-transform: uppercase; vertical-align: middle; margin-left: 0.5rem\">ORG</span>\n",
              "</mark>\n",
              ". The writer, whose name is revealed as \n",
              "<mark class=\"entity\" style=\"background: #aa9cfc; padding: 0.45em 0.6em; margin: 0 0.25em; line-height: 1; border-radius: 0.35em;\">\n",
              "    F. Alexander\n",
              "    <span style=\"font-size: 0.8em; font-weight: bold; line-height: 1; border-radius: 0.35em; text-transform: uppercase; vertical-align: middle; margin-left: 0.5rem\">PERSON</span>\n",
              "</mark>\n",
              ", shelters \n",
              "<mark class=\"entity\" style=\"background: #aa9cfc; padding: 0.45em 0.6em; margin: 0 0.25em; line-height: 1; border-radius: 0.35em;\">\n",
              "    Alex\n",
              "    <span style=\"font-size: 0.8em; font-weight: bold; line-height: 1; border-radius: 0.35em; text-transform: uppercase; vertical-align: middle; margin-left: 0.5rem\">PERSON</span>\n",
              "</mark>\n",
              " and questions him about the conditioning. During this sequence, it is revealed that Mrs. \n",
              "<mark class=\"entity\" style=\"background: #aa9cfc; padding: 0.45em 0.6em; margin: 0 0.25em; line-height: 1; border-radius: 0.35em;\">\n",
              "    Alexander\n",
              "    <span style=\"font-size: 0.8em; font-weight: bold; line-height: 1; border-radius: 0.35em; text-transform: uppercase; vertical-align: middle; margin-left: 0.5rem\">PERSON</span>\n",
              "</mark>\n",
              " died from the injuries inflicted during the gang-rape, and her husband has decided to continue living &quot;where her fragrant memory persists&quot; despite the horrid memories. \n",
              "<mark class=\"entity\" style=\"background: #aa9cfc; padding: 0.45em 0.6em; margin: 0 0.25em; line-height: 1; border-radius: 0.35em;\">\n",
              "    Alexander\n",
              "    <span style=\"font-size: 0.8em; font-weight: bold; line-height: 1; border-radius: 0.35em; text-transform: uppercase; vertical-align: middle; margin-left: 0.5rem\">PERSON</span>\n",
              "</mark>\n",
              ", a critic of the government, hopes to use \n",
              "<mark class=\"entity\" style=\"background: #7aecec; padding: 0.45em 0.6em; margin: 0 0.25em; line-height: 1; border-radius: 0.35em;\">\n",
              "    Alex\n",
              "    <span style=\"font-size: 0.8em; font-weight: bold; line-height: 1; border-radius: 0.35em; text-transform: uppercase; vertical-align: middle; margin-left: 0.5rem\">ORG</span>\n",
              "</mark>\n",
              " as a symbol of state brutality and thereby prevent the incumbent government from being re-elected. Eventually, he begins to realize \n",
              "<mark class=\"entity\" style=\"background: #aa9cfc; padding: 0.45em 0.6em; margin: 0 0.25em; line-height: 1; border-radius: 0.35em;\">\n",
              "    Alex\n",
              "    <span style=\"font-size: 0.8em; font-weight: bold; line-height: 1; border-radius: 0.35em; text-transform: uppercase; vertical-align: middle; margin-left: 0.5rem\">PERSON</span>\n",
              "</mark>\n",
              "'s role in the happenings of \n",
              "<mark class=\"entity\" style=\"background: #bfe1d9; padding: 0.45em 0.6em; margin: 0 0.25em; line-height: 1; border-radius: 0.35em;\">\n",
              "    the night\n",
              "    <span style=\"font-size: 0.8em; font-weight: bold; line-height: 1; border-radius: 0.35em; text-transform: uppercase; vertical-align: middle; margin-left: 0.5rem\">TIME</span>\n",
              "</mark>\n",
              " \n",
              "<mark class=\"entity\" style=\"background: #bfe1d9; padding: 0.45em 0.6em; margin: 0 0.25em; line-height: 1; border-radius: 0.35em;\">\n",
              "    two years ago\n",
              "    <span style=\"font-size: 0.8em; font-weight: bold; line-height: 1; border-radius: 0.35em; text-transform: uppercase; vertical-align: middle; margin-left: 0.5rem\">DATE</span>\n",
              "</mark>\n",
              ". \n",
              "<mark class=\"entity\" style=\"background: #e4e7d2; padding: 0.45em 0.6em; margin: 0 0.25em; line-height: 1; border-radius: 0.35em;\">\n",
              "    One\n",
              "    <span style=\"font-size: 0.8em; font-weight: bold; line-height: 1; border-radius: 0.35em; text-transform: uppercase; vertical-align: middle; margin-left: 0.5rem\">CARDINAL</span>\n",
              "</mark>\n",
              " of \n",
              "<mark class=\"entity\" style=\"background: #7aecec; padding: 0.45em 0.6em; margin: 0 0.25em; line-height: 1; border-radius: 0.35em;\">\n",
              "    Alexander\n",
              "    <span style=\"font-size: 0.8em; font-weight: bold; line-height: 1; border-radius: 0.35em; text-transform: uppercase; vertical-align: middle; margin-left: 0.5rem\">ORG</span>\n",
              "</mark>\n",
              "'s radical associates manages to extract a confession from \n",
              "<mark class=\"entity\" style=\"background: #aa9cfc; padding: 0.45em 0.6em; margin: 0 0.25em; line-height: 1; border-radius: 0.35em;\">\n",
              "    Alex\n",
              "    <span style=\"font-size: 0.8em; font-weight: bold; line-height: 1; border-radius: 0.35em; text-transform: uppercase; vertical-align: middle; margin-left: 0.5rem\">PERSON</span>\n",
              "</mark>\n",
              " after removing him from \n",
              "<mark class=\"entity\" style=\"background: #aa9cfc; padding: 0.45em 0.6em; margin: 0 0.25em; line-height: 1; border-radius: 0.35em;\">\n",
              "    F. Alexander's\n",
              "    <span style=\"font-size: 0.8em; font-weight: bold; line-height: 1; border-radius: 0.35em; text-transform: uppercase; vertical-align: middle; margin-left: 0.5rem\">PERSON</span>\n",
              "</mark>\n",
              " home and then locks him in a flatblock near his former home. \n",
              "<mark class=\"entity\" style=\"background: #aa9cfc; padding: 0.45em 0.6em; margin: 0 0.25em; line-height: 1; border-radius: 0.35em;\">\n",
              "    Alex\n",
              "    <span style=\"font-size: 0.8em; font-weight: bold; line-height: 1; border-radius: 0.35em; text-transform: uppercase; vertical-align: middle; margin-left: 0.5rem\">PERSON</span>\n",
              "</mark>\n",
              " is then subjected to a relentless barrage of classical music, prompting him to attempt suicide by leaping from a high window. \n",
              "<mark class=\"entity\" style=\"background: #aa9cfc; padding: 0.45em 0.6em; margin: 0 0.25em; line-height: 1; border-radius: 0.35em;\">\n",
              "    Alex\n",
              "    <span style=\"font-size: 0.8em; font-weight: bold; line-height: 1; border-radius: 0.35em; text-transform: uppercase; vertical-align: middle; margin-left: 0.5rem\">PERSON</span>\n",
              "</mark>\n",
              " wakes up in hospital, where he is courted by government officials anxious to counter the bad publicity created by his suicide attempt. With \n",
              "<mark class=\"entity\" style=\"background: #aa9cfc; padding: 0.45em 0.6em; margin: 0 0.25em; line-height: 1; border-radius: 0.35em;\">\n",
              "    Alexander\n",
              "    <span style=\"font-size: 0.8em; font-weight: bold; line-height: 1; border-radius: 0.35em; text-transform: uppercase; vertical-align: middle; margin-left: 0.5rem\">PERSON</span>\n",
              "</mark>\n",
              " safely packed off to a mental institution, \n",
              "<mark class=\"entity\" style=\"background: #aa9cfc; padding: 0.45em 0.6em; margin: 0 0.25em; line-height: 1; border-radius: 0.35em;\">\n",
              "    Alex\n",
              "    <span style=\"font-size: 0.8em; font-weight: bold; line-height: 1; border-radius: 0.35em; text-transform: uppercase; vertical-align: middle; margin-left: 0.5rem\">PERSON</span>\n",
              "</mark>\n",
              " is offered a well-paying job if he agrees to side with the government. As photographers snap pictures, \n",
              "<mark class=\"entity\" style=\"background: #aa9cfc; padding: 0.45em 0.6em; margin: 0 0.25em; line-height: 1; border-radius: 0.35em;\">\n",
              "    Alex daydreams\n",
              "    <span style=\"font-size: 0.8em; font-weight: bold; line-height: 1; border-radius: 0.35em; text-transform: uppercase; vertical-align: middle; margin-left: 0.5rem\">PERSON</span>\n",
              "</mark>\n",
              " of orgiastic violence and realizes the \n",
              "<mark class=\"entity\" style=\"background: #feca74; padding: 0.45em 0.6em; margin: 0 0.25em; line-height: 1; border-radius: 0.35em;\">\n",
              "    Ludovico\n",
              "    <span style=\"font-size: 0.8em; font-weight: bold; line-height: 1; border-radius: 0.35em; text-transform: uppercase; vertical-align: middle; margin-left: 0.5rem\">GPE</span>\n",
              "</mark>\n",
              " conditioning has been reversed: &quot;I was cured all right.&quot; In the final chapter, \n",
              "<mark class=\"entity\" style=\"background: #aa9cfc; padding: 0.45em 0.6em; margin: 0 0.25em; line-height: 1; border-radius: 0.35em;\">\n",
              "    Alex\n",
              "    <span style=\"font-size: 0.8em; font-weight: bold; line-height: 1; border-radius: 0.35em; text-transform: uppercase; vertical-align: middle; margin-left: 0.5rem\">PERSON</span>\n",
              "</mark>\n",
              " has a new trio of droogs, but he finds he is beginning to outgrow his taste for violence. A chance encounter with \n",
              "<mark class=\"entity\" style=\"background: #aa9cfc; padding: 0.45em 0.6em; margin: 0 0.25em; line-height: 1; border-radius: 0.35em;\">\n",
              "    Pete\n",
              "    <span style=\"font-size: 0.8em; font-weight: bold; line-height: 1; border-radius: 0.35em; text-transform: uppercase; vertical-align: middle; margin-left: 0.5rem\">PERSON</span>\n",
              "</mark>\n",
              ", now married and settled down, inspires \n",
              "<mark class=\"entity\" style=\"background: #aa9cfc; padding: 0.45em 0.6em; margin: 0 0.25em; line-height: 1; border-radius: 0.35em;\">\n",
              "    Alex\n",
              "    <span style=\"font-size: 0.8em; font-weight: bold; line-height: 1; border-radius: 0.35em; text-transform: uppercase; vertical-align: middle; margin-left: 0.5rem\">PERSON</span>\n",
              "</mark>\n",
              " to seek a wife and family of his own. He contemplates the likelihood of his future son being a delinquent as he was, a prospect \n",
              "<mark class=\"entity\" style=\"background: #c887fb; padding: 0.45em 0.6em; margin: 0 0.25em; line-height: 1; border-radius: 0.35em;\">\n",
              "    Alex\n",
              "    <span style=\"font-size: 0.8em; font-weight: bold; line-height: 1; border-radius: 0.35em; text-transform: uppercase; vertical-align: middle; margin-left: 0.5rem\">NORP</span>\n",
              "</mark>\n",
              " views fatalistically.</div></span>"
            ],
            "text/plain": [
              "<IPython.core.display.HTML object>"
            ]
          },
          "metadata": {
            "tags": []
          }
        }
      ]
    },
    {
      "cell_type": "code",
      "metadata": {
        "id": "FviiUQUVtyRN",
        "colab_type": "code",
        "colab": {}
      },
      "source": [
        "def get_entities_summary(x):\n",
        "  doc = nlp(x) \n",
        "  ner=[]\n",
        "  for ent in doc.ents: \n",
        "      if ent.label_=='NORP' or ent.label_=='GPE' or ent.label_== 'WORK_OF_ART' or ent.label_== 'ORG':\n",
        "        ner.append(ent.text)\n",
        "  return list(set(ner))"
      ],
      "execution_count": 0,
      "outputs": []
    },
    {
      "cell_type": "code",
      "metadata": {
        "id": "e3-3nu5hA7h7",
        "colab_type": "code",
        "colab": {
          "base_uri": "https://localhost:8080/",
          "height": 218
        },
        "outputId": "c00dc204-0377-44af-8e9d-15acdfa0b1c9"
      },
      "source": [
        "get_entities_summary(books['summary'][0])"
      ],
      "execution_count": 62,
      "outputs": [
        {
          "output_type": "execute_result",
          "data": {
            "text/plain": [
              "['Alex',\n",
              " 'England',\n",
              " 'Bible',\n",
              " 'Anglo-Russian',\n",
              " 'Billyboy',\n",
              " 'Alexander',\n",
              " 'Nadsat',\n",
              " 'A Clockwork Orange',\n",
              " 'the Korova Milkbar',\n",
              " 'Lovely Ludwig Van',\n",
              " 'Wing',\n",
              " 'Ludovico']"
            ]
          },
          "metadata": {
            "tags": []
          },
          "execution_count": 62
        }
      ]
    },
    {
      "cell_type": "code",
      "metadata": {
        "id": "2uHeHZ4muJdL",
        "colab_type": "code",
        "colab": {}
      },
      "source": [
        "books['entities']=books['summary'].apply(get_entities_summary)"
      ],
      "execution_count": 0,
      "outputs": []
    },
    {
      "cell_type": "code",
      "metadata": {
        "id": "umgpf7h42f2w",
        "colab_type": "code",
        "colab": {
          "base_uri": "https://localhost:8080/",
          "height": 719
        },
        "outputId": "2d9a9a98-e0ed-4812-fb47-435c72f014ce"
      },
      "source": [
        "books.head()"
      ],
      "execution_count": 64,
      "outputs": [
        {
          "output_type": "execute_result",
          "data": {
            "text/html": [
              "<div>\n",
              "<style scoped>\n",
              "    .dataframe tbody tr th:only-of-type {\n",
              "        vertical-align: middle;\n",
              "    }\n",
              "\n",
              "    .dataframe tbody tr th {\n",
              "        vertical-align: top;\n",
              "    }\n",
              "\n",
              "    .dataframe thead th {\n",
              "        text-align: right;\n",
              "    }\n",
              "</style>\n",
              "<table border=\"1\" class=\"dataframe\">\n",
              "  <thead>\n",
              "    <tr style=\"text-align: right;\">\n",
              "      <th></th>\n",
              "      <th>wikipedia_article_id</th>\n",
              "      <th>book_title</th>\n",
              "      <th>genres</th>\n",
              "      <th>summary</th>\n",
              "      <th>lemm_summary</th>\n",
              "      <th>clean_summary</th>\n",
              "      <th>summary_topics</th>\n",
              "      <th>summary_labels</th>\n",
              "      <th>predicted_genre</th>\n",
              "      <th>entities</th>\n",
              "    </tr>\n",
              "  </thead>\n",
              "  <tbody>\n",
              "    <tr>\n",
              "      <th>0</th>\n",
              "      <td>843</td>\n",
              "      <td>A Clockwork Orange</td>\n",
              "      <td>[Science Fiction, Novella, Speculative fiction...</td>\n",
              "      <td>Alex, a teenager living in near-future Englan...</td>\n",
              "      <td>Alex , a teenager living in near-future Englan...</td>\n",
              "      <td>alex teenager living near future england lead ...</td>\n",
              "      <td>murder case police kill death investigate crim...</td>\n",
              "      <td>13</td>\n",
              "      <td>[(Fiction,)]</td>\n",
              "      <td>[Alex, England, Bible, Anglo-Russian, Billyboy...</td>\n",
              "    </tr>\n",
              "    <tr>\n",
              "      <th>1</th>\n",
              "      <td>986</td>\n",
              "      <td>The Plague</td>\n",
              "      <td>[Existentialism, Fiction, Absurdist fiction, N...</td>\n",
              "      <td>The text of The Plague is divided into five p...</td>\n",
              "      <td>The text of The Plague be divide into five par...</td>\n",
              "      <td>text plague divide five part town oran thousan...</td>\n",
              "      <td>family father mother love life child year beco...</td>\n",
              "      <td>6</td>\n",
              "      <td>[(Fiction,)]</td>\n",
              "      <td>[Othon, Paris, Christian, Orpheus and Eurydice...</td>\n",
              "    </tr>\n",
              "    <tr>\n",
              "      <th>2</th>\n",
              "      <td>2080</td>\n",
              "      <td>A Fire Upon the Deep</td>\n",
              "      <td>[Hard science fiction, Science Fiction, Specul...</td>\n",
              "      <td>The novel posits that space around the Milky ...</td>\n",
              "      <td>The novel posit that space around the Milky Wa...</td>\n",
              "      <td>novel posit space around milky way divide conc...</td>\n",
              "      <td>ship planet earth human crew war world space f...</td>\n",
              "      <td>18</td>\n",
              "      <td>[(Fiction, Science Fiction, Speculative fiction)]</td>\n",
              "      <td>[Slow Zone, Transcend, FTL, the Out of Band II...</td>\n",
              "    </tr>\n",
              "    <tr>\n",
              "      <th>3</th>\n",
              "      <td>2152</td>\n",
              "      <td>All Quiet on the Western Front</td>\n",
              "      <td>[War novel, Roman à clef]</td>\n",
              "      <td>The book tells the story of Paul Bäumer, a Ge...</td>\n",
              "      <td>The book tell the story of Paul Bäumer , a Ger...</td>\n",
              "      <td>book tell story paul bäumer german soldier sch...</td>\n",
              "      <td>go tell get house day leave back see come mr s...</td>\n",
              "      <td>8</td>\n",
              "      <td>[()]</td>\n",
              "      <td>[German, the German Army, Paris, the Western F...</td>\n",
              "    </tr>\n",
              "    <tr>\n",
              "      <th>4</th>\n",
              "      <td>2890</td>\n",
              "      <td>A Wizard of Earthsea</td>\n",
              "      <td>[Children's literature, Fantasy, Speculative f...</td>\n",
              "      <td>Ged is a young boy on Gont, one of the larger...</td>\n",
              "      <td>Ged be a young boy on Gont , one of the large ...</td>\n",
              "      <td>ged young boy gont one large island north arch...</td>\n",
              "      <td>king kill return escape go magic attack help b...</td>\n",
              "      <td>10</td>\n",
              "      <td>[(Children's literature, Fantasy, Speculative ...</td>\n",
              "      <td>[the \"Nameless Ones\", Osskil, Ogion's, Ged, If...</td>\n",
              "    </tr>\n",
              "  </tbody>\n",
              "</table>\n",
              "</div>"
            ],
            "text/plain": [
              "   wikipedia_article_id  ...                                           entities\n",
              "0                   843  ...  [Alex, England, Bible, Anglo-Russian, Billyboy...\n",
              "1                   986  ...  [Othon, Paris, Christian, Orpheus and Eurydice...\n",
              "2                  2080  ...  [Slow Zone, Transcend, FTL, the Out of Band II...\n",
              "3                  2152  ...  [German, the German Army, Paris, the Western F...\n",
              "4                  2890  ...  [the \"Nameless Ones\", Osskil, Ogion's, Ged, If...\n",
              "\n",
              "[5 rows x 10 columns]"
            ]
          },
          "metadata": {
            "tags": []
          },
          "execution_count": 64
        }
      ]
    },
    {
      "cell_type": "markdown",
      "metadata": {
        "id": "YAG-i6UvOolC",
        "colab_type": "text"
      },
      "source": [
        "# RECOMMENDING BOOKS BASED ON INTERPRETATION OF TOPICS"
      ]
    },
    {
      "cell_type": "code",
      "metadata": {
        "id": "w2ciLStmCteV",
        "colab_type": "code",
        "colab": {
          "base_uri": "https://localhost:8080/",
          "height": 370
        },
        "outputId": "39f622b8-6dbc-4b0a-c745-5b8d56b23777"
      },
      "source": [
        "le.inverse_transform([0,1,2,3,4,5,6,7,8,9,10,11,12,13,14,15,16,17,18,19])"
      ],
      "execution_count": 65,
      "outputs": [
        {
          "output_type": "execute_result",
          "data": {
            "text/plain": [
              "array(['book chapter novel character story human describe write also life world people society many include',\n",
              "       'boy trip get friend thing think danger story problem happen show cousin little save steal',\n",
              "       'doctor companion investigate ancient planet village london involve discover arrive face land something stop seem',\n",
              "       'dog strange hunt story owner ancient mysterious town adventure search involve man friend join set',\n",
              "       'drug british arrest animal involve sea dream following kidnap american spend high ship murder free',\n",
              "       'evil must power dark world powerful ancient enemy force battle god army king secret master',\n",
              "       'family father mother love life child year become marry young daughter son old live novel',\n",
              "       'game play win story series lady brother young murder team investigate involve pursue crime mysterious',\n",
              "       'go tell get house day leave back see come mr say man father boy home',\n",
              "       'john mr mrs investigate law catch red scene american line united real claim appear ask',\n",
              "       'king kill return escape go magic attack help back lord city queen leave use tell',\n",
              "       'miss boy accident money investigate murder search threaten trap kidnap friend wealthy great black area',\n",
              "       'mrs uncle mr london house money old lady cousin marry visit friend young family meet',\n",
              "       'murder case police kill death investigate crime man woman suspect body agent wife dead work',\n",
              "       'novel character life story book childhood main describe york new write american protagonist early include',\n",
              "       'novel concern story adventure character war book world set century plot series black first event',\n",
              "       'planet earth world human race creature discover people call new must dream future home ability',\n",
              "       'school student teacher girl boy friend class get year old life new go parent story',\n",
              "       'ship planet earth human crew war world space force use new captain system kill destroy',\n",
              "       'war new sell old discover army threaten world work young american brother may like drive'],\n",
              "      dtype=object)"
            ]
          },
          "metadata": {
            "tags": []
          },
          "execution_count": 65
        }
      ]
    },
    {
      "cell_type": "markdown",
      "metadata": {
        "id": "dDJlsV1zPBJ-",
        "colab_type": "text"
      },
      "source": [
        "Topics:  \n",
        "\n",
        "0.   Books about Society,War and People \n",
        "1.   Books which have a series\n",
        "2.   Books about friendship and childhood\n",
        "3.   Adventure Books (Ancient and future both)\n",
        "4.   War Fiction (Gods and Evils)\n",
        "5.   Childhood Literature\n",
        "6.   Crime Stories and Woman's Books\n",
        "7.   Love Stories and Books Based on UK\n",
        "8.   Family and Relationship books\n",
        "9.   Games,Fiction\n",
        "10.  Fantasy,Ficiton\n",
        "11.  Mystery\n",
        "12.  Kings,Queens,Mystery,Armies\n",
        "13.  Mystery and Fantasy\n",
        "14.  Child Fiction and Based on School\n",
        "15.  Crime\n",
        "16.  Novels with Protagonists, Love and AMerica\n",
        "17.  Adventure,Travel,Space,Ficiton\n",
        "18.  Mystery,Adventure,Action,Crime\n",
        "19.  Prison, Childhood, Books based on towns and villages  \n",
        "  "
      ]
    },
    {
      "cell_type": "markdown",
      "metadata": {
        "id": "Y6lLAAEiUFQe",
        "colab_type": "text"
      },
      "source": [
        "I am using the topic labels and giving out entities to understand what the book is about. It gives the reader some context. Well the topics keep on changing."
      ]
    },
    {
      "cell_type": "code",
      "metadata": {
        "id": "DeJ7_oT-hb-h",
        "colab_type": "code",
        "colab": {}
      },
      "source": [
        "def get_books_entities(category):\n",
        "  return books.loc[(books.summary_labels == category),['book_title','entities','summary_topics']].reset_index(drop=True)           "
      ],
      "execution_count": 0,
      "outputs": []
    },
    {
      "cell_type": "code",
      "metadata": {
        "id": "Dd3yPj1_iSWN",
        "colab_type": "code",
        "colab": {
          "base_uri": "https://localhost:8080/",
          "height": 402
        },
        "outputId": "554763bb-4735-40bd-8531-2cac208262f4"
      },
      "source": [
        "get_books_entities(15)"
      ],
      "execution_count": 105,
      "outputs": [
        {
          "output_type": "execute_result",
          "data": {
            "text/html": [
              "<div>\n",
              "<style scoped>\n",
              "    .dataframe tbody tr th:only-of-type {\n",
              "        vertical-align: middle;\n",
              "    }\n",
              "\n",
              "    .dataframe tbody tr th {\n",
              "        vertical-align: top;\n",
              "    }\n",
              "\n",
              "    .dataframe thead th {\n",
              "        text-align: right;\n",
              "    }\n",
              "</style>\n",
              "<table border=\"1\" class=\"dataframe\">\n",
              "  <thead>\n",
              "    <tr style=\"text-align: right;\">\n",
              "      <th></th>\n",
              "      <th>book_title</th>\n",
              "      <th>entities</th>\n",
              "      <th>summary_topics</th>\n",
              "    </tr>\n",
              "  </thead>\n",
              "  <tbody>\n",
              "    <tr>\n",
              "      <th>0</th>\n",
              "      <td>Icehenge</td>\n",
              "      <td>[Pluto, Martian, Icehenge]</td>\n",
              "      <td>novel concern story adventure character war bo...</td>\n",
              "    </tr>\n",
              "    <tr>\n",
              "      <th>1</th>\n",
              "      <td>Castle Rackrent</td>\n",
              "      <td>[]</td>\n",
              "      <td>novel concern story adventure character war bo...</td>\n",
              "    </tr>\n",
              "    <tr>\n",
              "      <th>2</th>\n",
              "      <td>The Number of the Beast</td>\n",
              "      <td>[Edgar Rice Burroughs, Dejah Thoris, Barsoom, ...</td>\n",
              "      <td>novel concern story adventure character war bo...</td>\n",
              "    </tr>\n",
              "    <tr>\n",
              "      <th>3</th>\n",
              "      <td>England, England</td>\n",
              "      <td>[England, Old England', English, agrarian, Ang...</td>\n",
              "      <td>novel concern story adventure character war bo...</td>\n",
              "    </tr>\n",
              "    <tr>\n",
              "      <th>4</th>\n",
              "      <td>Memoirs of a Fox-Hunting Man</td>\n",
              "      <td>[Sassoon, Sherson/Sassoon's, Faber, The Flower...</td>\n",
              "      <td>novel concern story adventure character war bo...</td>\n",
              "    </tr>\n",
              "    <tr>\n",
              "      <th>...</th>\n",
              "      <td>...</td>\n",
              "      <td>...</td>\n",
              "      <td>...</td>\n",
              "    </tr>\n",
              "    <tr>\n",
              "      <th>422</th>\n",
              "      <td>Le Chercheur d'or</td>\n",
              "      <td>[Mauritius]</td>\n",
              "      <td>novel concern story adventure character war bo...</td>\n",
              "    </tr>\n",
              "    <tr>\n",
              "      <th>423</th>\n",
              "      <td>Ourania</td>\n",
              "      <td>[Ourania, Utopian, Mexico, Salvadoran, Valle d...</td>\n",
              "      <td>novel concern story adventure character war bo...</td>\n",
              "    </tr>\n",
              "    <tr>\n",
              "      <th>424</th>\n",
              "      <td>City of the Spider Queen</td>\n",
              "      <td>[Creature Statistics, The Deep Wastes, Appendi...</td>\n",
              "      <td>novel concern story adventure character war bo...</td>\n",
              "    </tr>\n",
              "    <tr>\n",
              "      <th>425</th>\n",
              "      <td>Babylon Babies</td>\n",
              "      <td>[Quebec, The Red Siren]</td>\n",
              "      <td>novel concern story adventure character war bo...</td>\n",
              "    </tr>\n",
              "    <tr>\n",
              "      <th>426</th>\n",
              "      <td>Chronic City</td>\n",
              "      <td>[Lethem, Vertigo, Chronic City, Manhattan, Hit...</td>\n",
              "      <td>novel concern story adventure character war bo...</td>\n",
              "    </tr>\n",
              "  </tbody>\n",
              "</table>\n",
              "<p>427 rows × 3 columns</p>\n",
              "</div>"
            ],
            "text/plain": [
              "                       book_title  ...                                     summary_topics\n",
              "0                        Icehenge  ...  novel concern story adventure character war bo...\n",
              "1                 Castle Rackrent  ...  novel concern story adventure character war bo...\n",
              "2         The Number of the Beast  ...  novel concern story adventure character war bo...\n",
              "3                England, England  ...  novel concern story adventure character war bo...\n",
              "4    Memoirs of a Fox-Hunting Man  ...  novel concern story adventure character war bo...\n",
              "..                            ...  ...                                                ...\n",
              "422             Le Chercheur d'or  ...  novel concern story adventure character war bo...\n",
              "423                       Ourania  ...  novel concern story adventure character war bo...\n",
              "424      City of the Spider Queen  ...  novel concern story adventure character war bo...\n",
              "425                Babylon Babies  ...  novel concern story adventure character war bo...\n",
              "426                  Chronic City  ...  novel concern story adventure character war bo...\n",
              "\n",
              "[427 rows x 3 columns]"
            ]
          },
          "metadata": {
            "tags": []
          },
          "execution_count": 105
        }
      ]
    },
    {
      "cell_type": "code",
      "metadata": {
        "id": "Ignxwhn2mAnT",
        "colab_type": "code",
        "colab": {
          "base_uri": "https://localhost:8080/",
          "height": 402
        },
        "outputId": "db38f75c-0ebd-4296-d9dc-6c428daf279c"
      },
      "source": [
        "get_books_entities(10)"
      ],
      "execution_count": 106,
      "outputs": [
        {
          "output_type": "execute_result",
          "data": {
            "text/html": [
              "<div>\n",
              "<style scoped>\n",
              "    .dataframe tbody tr th:only-of-type {\n",
              "        vertical-align: middle;\n",
              "    }\n",
              "\n",
              "    .dataframe tbody tr th {\n",
              "        vertical-align: top;\n",
              "    }\n",
              "\n",
              "    .dataframe thead th {\n",
              "        text-align: right;\n",
              "    }\n",
              "</style>\n",
              "<table border=\"1\" class=\"dataframe\">\n",
              "  <thead>\n",
              "    <tr style=\"text-align: right;\">\n",
              "      <th></th>\n",
              "      <th>book_title</th>\n",
              "      <th>entities</th>\n",
              "      <th>summary_topics</th>\n",
              "    </tr>\n",
              "  </thead>\n",
              "  <tbody>\n",
              "    <tr>\n",
              "      <th>0</th>\n",
              "      <td>A Wizard of Earthsea</td>\n",
              "      <td>[the \"Nameless Ones\", Osskil, Ogion's, Ged, If...</td>\n",
              "      <td>king kill return escape go magic attack help b...</td>\n",
              "    </tr>\n",
              "    <tr>\n",
              "      <th>1</th>\n",
              "      <td>Blade Runner 2: The Edge of Human</td>\n",
              "      <td>[Do Androids Dream Of Electric Sheep?, Deckard...</td>\n",
              "      <td>king kill return escape go magic attack help b...</td>\n",
              "    </tr>\n",
              "    <tr>\n",
              "      <th>2</th>\n",
              "      <td>Children of Dune</td>\n",
              "      <td>[House, The Imperial high council, Dune, Freme...</td>\n",
              "      <td>king kill return escape go magic attack help b...</td>\n",
              "    </tr>\n",
              "    <tr>\n",
              "      <th>3</th>\n",
              "      <td>Candide, ou l'Optimisme</td>\n",
              "      <td>[Castle Thunder, Egypt, Bulgars, Cunégonde, We...</td>\n",
              "      <td>king kill return escape go magic attack help b...</td>\n",
              "    </tr>\n",
              "    <tr>\n",
              "      <th>4</th>\n",
              "      <td>Dracula</td>\n",
              "      <td>[Bowie, England, Exeter, Russian, American, Lo...</td>\n",
              "      <td>king kill return escape go magic attack help b...</td>\n",
              "    </tr>\n",
              "    <tr>\n",
              "      <th>...</th>\n",
              "      <td>...</td>\n",
              "      <td>...</td>\n",
              "      <td>...</td>\n",
              "    </tr>\n",
              "    <tr>\n",
              "      <th>1891</th>\n",
              "      <td>Seekers of the Sky</td>\n",
              "      <td>[Bishop Gerard, the Count of the Isles of Sorr...</td>\n",
              "      <td>king kill return escape go magic attack help b...</td>\n",
              "    </tr>\n",
              "    <tr>\n",
              "      <th>1892</th>\n",
              "      <td>We Couldn't Leave Dinah</td>\n",
              "      <td>[German, English, The Pony Club's, the Pony Cl...</td>\n",
              "      <td>king kill return escape go magic attack help b...</td>\n",
              "    </tr>\n",
              "    <tr>\n",
              "      <th>1893</th>\n",
              "      <td>One Corpse Too Many</td>\n",
              "      <td>[Frankwell, Godith, Beringar, Fulke Adeney, Em...</td>\n",
              "      <td>king kill return escape go magic attack help b...</td>\n",
              "    </tr>\n",
              "    <tr>\n",
              "      <th>1894</th>\n",
              "      <td>Karmabhoomi</td>\n",
              "      <td>[Gandhian, Untouchables, Amarkant, Hindu, Sukh...</td>\n",
              "      <td>king kill return escape go magic attack help b...</td>\n",
              "    </tr>\n",
              "    <tr>\n",
              "      <th>1895</th>\n",
              "      <td>King of the Trollhaunt Warrens</td>\n",
              "      <td>[Moonstair, Skalmad]</td>\n",
              "      <td>king kill return escape go magic attack help b...</td>\n",
              "    </tr>\n",
              "  </tbody>\n",
              "</table>\n",
              "<p>1896 rows × 3 columns</p>\n",
              "</div>"
            ],
            "text/plain": [
              "                             book_title  ...                                     summary_topics\n",
              "0                  A Wizard of Earthsea  ...  king kill return escape go magic attack help b...\n",
              "1     Blade Runner 2: The Edge of Human  ...  king kill return escape go magic attack help b...\n",
              "2                      Children of Dune  ...  king kill return escape go magic attack help b...\n",
              "3               Candide, ou l'Optimisme  ...  king kill return escape go magic attack help b...\n",
              "4                               Dracula  ...  king kill return escape go magic attack help b...\n",
              "...                                 ...  ...                                                ...\n",
              "1891                 Seekers of the Sky  ...  king kill return escape go magic attack help b...\n",
              "1892            We Couldn't Leave Dinah  ...  king kill return escape go magic attack help b...\n",
              "1893                One Corpse Too Many  ...  king kill return escape go magic attack help b...\n",
              "1894                        Karmabhoomi  ...  king kill return escape go magic attack help b...\n",
              "1895     King of the Trollhaunt Warrens  ...  king kill return escape go magic attack help b...\n",
              "\n",
              "[1896 rows x 3 columns]"
            ]
          },
          "metadata": {
            "tags": []
          },
          "execution_count": 106
        }
      ]
    }
  ]
}